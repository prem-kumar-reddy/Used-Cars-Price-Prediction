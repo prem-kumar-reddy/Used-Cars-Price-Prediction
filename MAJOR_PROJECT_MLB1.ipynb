{
  "cells": [
    {
      "cell_type": "code",
      "execution_count": null,
      "metadata": {
        "id": "49bVp42U-tjk"
      },
      "outputs": [],
      "source": [
        "import pandas as pd\n",
        "import numpy as np\n",
        "import seaborn as sns\n",
        "import matplotlib.pyplot as plt\n",
        "import sys\n",
        "%matplotlib inline"
      ]
    },
    {
      "cell_type": "code",
      "execution_count": null,
      "metadata": {
        "id": "CunkVfGC-tjo",
        "outputId": "415a0e18-e51d-44ee-8715-7f1358520cd9"
      },
      "outputs": [
        {
          "data": {
            "text/plain": [
              "Index(['Name', 'Location', 'Year', 'Kilometers_Driven', 'Fuel_Type',\n",
              "       'Transmission', 'Owner_Type', 'Mileage', 'Engine', 'Power', 'Seats',\n",
              "       'Price'],\n",
              "      dtype='object')"
            ]
          },
          "execution_count": 2,
          "metadata": {},
          "output_type": "execute_result"
        }
      ],
      "source": [
        "path = \"Data_Train.xlsx\" \n",
        "data = pd.read_excel(path)\n",
        "data.columns"
      ]
    },
    {
      "cell_type": "code",
      "execution_count": null,
      "metadata": {
        "id": "XJCFkSDo-tjp",
        "outputId": "f0ed8381-23fc-49ed-a5e4-2c7f8bc0f984"
      },
      "outputs": [
        {
          "data": {
            "text/html": [
              "<div>\n",
              "<style scoped>\n",
              "    .dataframe tbody tr th:only-of-type {\n",
              "        vertical-align: middle;\n",
              "    }\n",
              "\n",
              "    .dataframe tbody tr th {\n",
              "        vertical-align: top;\n",
              "    }\n",
              "\n",
              "    .dataframe thead th {\n",
              "        text-align: right;\n",
              "    }\n",
              "</style>\n",
              "<table border=\"1\" class=\"dataframe\">\n",
              "  <thead>\n",
              "    <tr style=\"text-align: right;\">\n",
              "      <th></th>\n",
              "      <th>Name</th>\n",
              "      <th>Location</th>\n",
              "      <th>Year</th>\n",
              "      <th>Kilometers_Driven</th>\n",
              "      <th>Fuel_Type</th>\n",
              "      <th>Transmission</th>\n",
              "      <th>Owner_Type</th>\n",
              "      <th>Mileage</th>\n",
              "      <th>Engine</th>\n",
              "      <th>Power</th>\n",
              "      <th>Seats</th>\n",
              "      <th>Price</th>\n",
              "    </tr>\n",
              "  </thead>\n",
              "  <tbody>\n",
              "    <tr>\n",
              "      <th>0</th>\n",
              "      <td>Maruti Wagon R LXI CNG</td>\n",
              "      <td>Mumbai</td>\n",
              "      <td>2010</td>\n",
              "      <td>72000</td>\n",
              "      <td>CNG</td>\n",
              "      <td>Manual</td>\n",
              "      <td>First</td>\n",
              "      <td>26.6 km/kg</td>\n",
              "      <td>998 CC</td>\n",
              "      <td>58.16 bhp</td>\n",
              "      <td>5.0</td>\n",
              "      <td>1.75</td>\n",
              "    </tr>\n",
              "    <tr>\n",
              "      <th>1</th>\n",
              "      <td>Hyundai Creta 1.6 CRDi SX Option</td>\n",
              "      <td>Pune</td>\n",
              "      <td>2015</td>\n",
              "      <td>41000</td>\n",
              "      <td>Diesel</td>\n",
              "      <td>Manual</td>\n",
              "      <td>First</td>\n",
              "      <td>19.67 kmpl</td>\n",
              "      <td>1582 CC</td>\n",
              "      <td>126.2 bhp</td>\n",
              "      <td>5.0</td>\n",
              "      <td>12.50</td>\n",
              "    </tr>\n",
              "    <tr>\n",
              "      <th>2</th>\n",
              "      <td>Honda Jazz V</td>\n",
              "      <td>Chennai</td>\n",
              "      <td>2011</td>\n",
              "      <td>46000</td>\n",
              "      <td>Petrol</td>\n",
              "      <td>Manual</td>\n",
              "      <td>First</td>\n",
              "      <td>18.2 kmpl</td>\n",
              "      <td>1199 CC</td>\n",
              "      <td>88.7 bhp</td>\n",
              "      <td>5.0</td>\n",
              "      <td>4.50</td>\n",
              "    </tr>\n",
              "    <tr>\n",
              "      <th>3</th>\n",
              "      <td>Maruti Ertiga VDI</td>\n",
              "      <td>Chennai</td>\n",
              "      <td>2012</td>\n",
              "      <td>87000</td>\n",
              "      <td>Diesel</td>\n",
              "      <td>Manual</td>\n",
              "      <td>First</td>\n",
              "      <td>20.77 kmpl</td>\n",
              "      <td>1248 CC</td>\n",
              "      <td>88.76 bhp</td>\n",
              "      <td>7.0</td>\n",
              "      <td>6.00</td>\n",
              "    </tr>\n",
              "    <tr>\n",
              "      <th>4</th>\n",
              "      <td>Audi A4 New 2.0 TDI Multitronic</td>\n",
              "      <td>Coimbatore</td>\n",
              "      <td>2013</td>\n",
              "      <td>40670</td>\n",
              "      <td>Diesel</td>\n",
              "      <td>Automatic</td>\n",
              "      <td>Second</td>\n",
              "      <td>15.2 kmpl</td>\n",
              "      <td>1968 CC</td>\n",
              "      <td>140.8 bhp</td>\n",
              "      <td>5.0</td>\n",
              "      <td>17.74</td>\n",
              "    </tr>\n",
              "    <tr>\n",
              "      <th>5</th>\n",
              "      <td>Hyundai EON LPG Era Plus Option</td>\n",
              "      <td>Hyderabad</td>\n",
              "      <td>2012</td>\n",
              "      <td>75000</td>\n",
              "      <td>LPG</td>\n",
              "      <td>Manual</td>\n",
              "      <td>First</td>\n",
              "      <td>21.1 km/kg</td>\n",
              "      <td>814 CC</td>\n",
              "      <td>55.2 bhp</td>\n",
              "      <td>5.0</td>\n",
              "      <td>2.35</td>\n",
              "    </tr>\n",
              "    <tr>\n",
              "      <th>6</th>\n",
              "      <td>Nissan Micra Diesel XV</td>\n",
              "      <td>Jaipur</td>\n",
              "      <td>2013</td>\n",
              "      <td>86999</td>\n",
              "      <td>Diesel</td>\n",
              "      <td>Manual</td>\n",
              "      <td>First</td>\n",
              "      <td>23.08 kmpl</td>\n",
              "      <td>1461 CC</td>\n",
              "      <td>63.1 bhp</td>\n",
              "      <td>5.0</td>\n",
              "      <td>3.50</td>\n",
              "    </tr>\n",
              "    <tr>\n",
              "      <th>7</th>\n",
              "      <td>Toyota Innova Crysta 2.8 GX AT 8S</td>\n",
              "      <td>Mumbai</td>\n",
              "      <td>2016</td>\n",
              "      <td>36000</td>\n",
              "      <td>Diesel</td>\n",
              "      <td>Automatic</td>\n",
              "      <td>First</td>\n",
              "      <td>11.36 kmpl</td>\n",
              "      <td>2755 CC</td>\n",
              "      <td>171.5 bhp</td>\n",
              "      <td>8.0</td>\n",
              "      <td>17.50</td>\n",
              "    </tr>\n",
              "    <tr>\n",
              "      <th>8</th>\n",
              "      <td>Volkswagen Vento Diesel Comfortline</td>\n",
              "      <td>Pune</td>\n",
              "      <td>2013</td>\n",
              "      <td>64430</td>\n",
              "      <td>Diesel</td>\n",
              "      <td>Manual</td>\n",
              "      <td>First</td>\n",
              "      <td>20.54 kmpl</td>\n",
              "      <td>1598 CC</td>\n",
              "      <td>103.6 bhp</td>\n",
              "      <td>5.0</td>\n",
              "      <td>5.20</td>\n",
              "    </tr>\n",
              "    <tr>\n",
              "      <th>9</th>\n",
              "      <td>Tata Indica Vista Quadrajet LS</td>\n",
              "      <td>Chennai</td>\n",
              "      <td>2012</td>\n",
              "      <td>65932</td>\n",
              "      <td>Diesel</td>\n",
              "      <td>Manual</td>\n",
              "      <td>Second</td>\n",
              "      <td>22.3 kmpl</td>\n",
              "      <td>1248 CC</td>\n",
              "      <td>74 bhp</td>\n",
              "      <td>5.0</td>\n",
              "      <td>1.95</td>\n",
              "    </tr>\n",
              "  </tbody>\n",
              "</table>\n",
              "</div>"
            ],
            "text/plain": [
              "                                  Name    Location  Year  Kilometers_Driven  \\\n",
              "0               Maruti Wagon R LXI CNG      Mumbai  2010              72000   \n",
              "1     Hyundai Creta 1.6 CRDi SX Option        Pune  2015              41000   \n",
              "2                         Honda Jazz V     Chennai  2011              46000   \n",
              "3                    Maruti Ertiga VDI     Chennai  2012              87000   \n",
              "4      Audi A4 New 2.0 TDI Multitronic  Coimbatore  2013              40670   \n",
              "5      Hyundai EON LPG Era Plus Option   Hyderabad  2012              75000   \n",
              "6               Nissan Micra Diesel XV      Jaipur  2013              86999   \n",
              "7    Toyota Innova Crysta 2.8 GX AT 8S      Mumbai  2016              36000   \n",
              "8  Volkswagen Vento Diesel Comfortline        Pune  2013              64430   \n",
              "9       Tata Indica Vista Quadrajet LS     Chennai  2012              65932   \n",
              "\n",
              "  Fuel_Type Transmission Owner_Type     Mileage   Engine      Power  Seats  \\\n",
              "0       CNG       Manual      First  26.6 km/kg   998 CC  58.16 bhp    5.0   \n",
              "1    Diesel       Manual      First  19.67 kmpl  1582 CC  126.2 bhp    5.0   \n",
              "2    Petrol       Manual      First   18.2 kmpl  1199 CC   88.7 bhp    5.0   \n",
              "3    Diesel       Manual      First  20.77 kmpl  1248 CC  88.76 bhp    7.0   \n",
              "4    Diesel    Automatic     Second   15.2 kmpl  1968 CC  140.8 bhp    5.0   \n",
              "5       LPG       Manual      First  21.1 km/kg   814 CC   55.2 bhp    5.0   \n",
              "6    Diesel       Manual      First  23.08 kmpl  1461 CC   63.1 bhp    5.0   \n",
              "7    Diesel    Automatic      First  11.36 kmpl  2755 CC  171.5 bhp    8.0   \n",
              "8    Diesel       Manual      First  20.54 kmpl  1598 CC  103.6 bhp    5.0   \n",
              "9    Diesel       Manual     Second   22.3 kmpl  1248 CC     74 bhp    5.0   \n",
              "\n",
              "   Price  \n",
              "0   1.75  \n",
              "1  12.50  \n",
              "2   4.50  \n",
              "3   6.00  \n",
              "4  17.74  \n",
              "5   2.35  \n",
              "6   3.50  \n",
              "7  17.50  \n",
              "8   5.20  \n",
              "9   1.95  "
            ]
          },
          "execution_count": 3,
          "metadata": {},
          "output_type": "execute_result"
        }
      ],
      "source": [
        "data.head(10)"
      ]
    },
    {
      "cell_type": "markdown",
      "metadata": {
        "id": "_AfisEvx-tjq"
      },
      "source": [
        "## Univariate Analysis "
      ]
    },
    {
      "cell_type": "markdown",
      "metadata": {
        "id": "mSH_xu9A-tjr"
      },
      "source": [
        "### Location"
      ]
    },
    {
      "cell_type": "code",
      "execution_count": null,
      "metadata": {
        "id": "wotIH0rB-tjr",
        "outputId": "a2dfe679-9133-48da-f41f-05bcf93471d5"
      },
      "outputs": [
        {
          "data": {
            "text/plain": [
              "array(['Mumbai', 'Pune', 'Chennai', 'Coimbatore', 'Hyderabad', 'Jaipur',\n",
              "       'Kochi', 'Kolkata', 'Delhi', 'Bangalore', 'Ahmedabad'],\n",
              "      dtype=object)"
            ]
          },
          "execution_count": 4,
          "metadata": {},
          "output_type": "execute_result"
        }
      ],
      "source": [
        "data.Location.unique()"
      ]
    },
    {
      "cell_type": "code",
      "execution_count": null,
      "metadata": {
        "id": "3MuTve6J-tjs",
        "outputId": "62da581c-adea-4559-a6a0-27467a09187c"
      },
      "outputs": [
        {
          "data": {
            "text/plain": [
              "11"
            ]
          },
          "execution_count": 5,
          "metadata": {},
          "output_type": "execute_result"
        }
      ],
      "source": [
        "data.Location.unique().size"
      ]
    },
    {
      "cell_type": "code",
      "execution_count": null,
      "metadata": {
        "id": "yZ4Nr7Jb-tjt",
        "outputId": "ab25f69a-6221-418b-bd5a-336deeb4dfc2"
      },
      "outputs": [
        {
          "data": {
            "text/plain": [
              "<function matplotlib.pyplot.show(*args, **kw)>"
            ]
          },
          "execution_count": 6,
          "metadata": {},
          "output_type": "execute_result"
        },
        {
          "data": {
            "image/png": "[encoded data removed]",
            "text/plain": [
              "<Figure size 432x288 with 1 Axes>"
            ]
          },
          "metadata": {
            "needs_background": "light"
          },
          "output_type": "display_data"
        }
      ],
      "source": [
        "data.Location.value_counts().plot(kind='bar')\n",
        "plt.show"
      ]
    },
    {
      "cell_type": "code",
      "execution_count": null,
      "metadata": {
        "id": "j4Y6yxBk-tju"
      },
      "outputs": [],
      "source": [
        "import numpy as np\n",
        "p=[]\n",
        "for i in range(1,101,1):\n",
        "    p.append(np.percentile(data.Kilometers_Driven,i))"
      ]
    },
    {
      "cell_type": "code",
      "execution_count": null,
      "metadata": {
        "id": "f0pWDrvT-tjv",
        "outputId": "93a3cd77-dfe2-4c3f-9d14-2d742e75cbab"
      },
      "outputs": [
        {
          "data": {
            "image/png": "[encoded data removed]",
            "text/plain": [
              "<Figure size 432x288 with 1 Axes>"
            ]
          },
          "metadata": {
            "needs_background": "light"
          },
          "output_type": "display_data"
        }
      ],
      "source": [
        "plt.plot(p)\n",
        "plt.xlabel(\"Brand\")\n",
        "plt.ylabel(\"No of cars\")\n",
        "plt.show()"
      ]
    },
    {
      "cell_type": "markdown",
      "metadata": {
        "id": "l3lmuySW-tjv"
      },
      "source": [
        "#### So Mumbai is highest and Ahmedabad is least in no. of cars for sale."
      ]
    },
    {
      "cell_type": "markdown",
      "metadata": {
        "id": "i6LctqWf-tjw"
      },
      "source": [
        "## Brand Name & Model Name"
      ]
    },
    {
      "cell_type": "code",
      "execution_count": null,
      "metadata": {
        "id": "jBaFPnbZ-tjw",
        "outputId": "e4faf551-0f9a-458b-ec38-7c48aa1245d2"
      },
      "outputs": [
        {
          "data": {
            "text/plain": [
              "30"
            ]
          },
          "execution_count": 9,
          "metadata": {},
          "output_type": "execute_result"
        }
      ],
      "source": [
        "Brand_Name=[]\n",
        "Model_Name=[]\n",
        "for index,rows in data.iterrows():\n",
        "    Brand_Name.append(rows['Name'].split()[0].capitalize().replace('-',''))\n",
        "    Model_Name.append(rows['Name'].split()[1].lower())\n",
        "data['carCompany']=Brand_Name\n",
        "data['carModel']=Model_Name\n",
        "data['carCompany'].unique().size"
      ]
    },
    {
      "cell_type": "code",
      "execution_count": null,
      "metadata": {
        "id": "M1sM8eOU-tjw"
      },
      "outputs": [],
      "source": [
        "carVersion = (data.Name.str.split(' ').str[2:])\n",
        "version = []\n",
        "\n",
        "for items in carVersion:\n",
        "    tempstr = \"\".join(items)\n",
        "        \n",
        "    version.append(tempstr)\n",
        "        "
      ]
    },
    {
      "cell_type": "code",
      "execution_count": null,
      "metadata": {
        "id": "V_xP246R-tjx",
        "outputId": "2e84ab77-6e2c-44f8-cdb7-5489762ff6f2"
      },
      "outputs": [
        {
          "data": {
            "text/plain": [
              "['RLXICNG',\n",
              " '1.6CRDiSXOption',\n",
              " 'V',\n",
              " 'VDI',\n",
              " 'New2.0TDIMultitronic',\n",
              " 'LPGEraPlusOption',\n",
              " 'DieselXV',\n",
              " 'Crysta2.8GXAT8S',\n",
              " 'DieselComfortline',\n",
              " 'VistaQuadrajetLS',\n",
              " 'Zeta',\n",
              " '1.5VATSunroof',\n",
              " 'VDIBSIV',\n",
              " 'RangeRover2.2LPure',\n",
              " 'Freelander2TD4SE',\n",
              " 'Sport4X4',\n",
              " 'Si-Dtech',\n",
              " 'DDiSVDI',\n",
              " '85PSDieselRxLPlus',\n",
              " 'C-ClassC220CDIBEAvantgare',\n",
              " 'Series320d',\n",
              " 'CrossDDiS200Alpha',\n",
              " '2011-201535TFSITechnology',\n",
              " '1.2Magna',\n",
              " 'PetrolHighlineAT',\n",
              " 'CorporateEdition',\n",
              " 'DieselXV',\n",
              " 'K102010-2014VXI',\n",
              " 'i-VTECVX',\n",
              " '2.5VDiesel7-seater',\n",
              " '110PSDieselRxZPack',\n",
              " 'AltisG',\n",
              " 'RextonRX7',\n",
              " '2.7TDI',\n",
              " '1.6Highline',\n",
              " 'RLXIBSIII',\n",
              " 'BrezzaZDiPlus',\n",
              " '100mFALCONG80K65strAW',\n",
              " 'ML350CDI',\n",
              " 'DieselTrendline1.2L',\n",
              " 'LXi',\n",
              " 'LXSE',\n",
              " '100mFALCOND75K8DualTone',\n",
              " 'MagnaOptional1.2',\n",
              " '2.0SXOptionAT',\n",
              " 'AltisGAT',\n",
              " 'CRDi',\n",
              " 'Crysta2.7GXMT',\n",
              " '1.1CRDiS',\n",
              " 'CRDeAC',\n",
              " '2.0TDI177BhpPremiumPlus',\n",
              " 'LDI',\n",
              " 'LdiBSIV',\n",
              " 'VDI',\n",
              " 'i10Sportz',\n",
              " '2013-20151.6Comfortline',\n",
              " 'RXT',\n",
              " 'Asta',\n",
              " 'SLXAT',\n",
              " 'EstiloVXIBSIII',\n",
              " 'Crysta2.4GXMT8S',\n",
              " 'DieselTitanium',\n",
              " 'C-ClassC200CGIAvantgarde',\n",
              " 'C-Class200CDIClassic',\n",
              " 'V2eLS',\n",
              " '2.0TDIMultitronic',\n",
              " 'ZXCVT',\n",
              " 'ProgressiveC220d',\n",
              " 'SHVSVDI',\n",
              " '1.4EPlusDiesel',\n",
              " '2009-2014Turbo',\n",
              " 'W84WD',\n",
              " 'Sportz1.2AT',\n",
              " 'XVDPre',\n",
              " 'VXAT',\n",
              " '2.0TDIDesignEdition',\n",
              " '1.4SXiTDCi',\n",
              " '2.0G1',\n",
              " '2.5VX7STRBSIV',\n",
              " 'XingXL',\n",
              " 'VDI',\n",
              " 'Revotron1.2TXE',\n",
              " 'SXi-VTEC',\n",
              " 'DieselZXI',\n",
              " 'VDi',\n",
              " 'iVTECE',\n",
              " 'Series2003-2012525d',\n",
              " 'Sportz1.2',\n",
              " 'i10Sportz',\n",
              " 'XingXO',\n",
              " 'SXi-VTEC',\n",
              " '4x2Manual',\n",
              " '2011-201535TDIPremium',\n",
              " '1.5DV5MTTitaniumOptional',\n",
              " 'W82WD',\n",
              " 'SXi-DTEC',\n",
              " 'DieselHighline1.2L',\n",
              " 'TransformSXVGTCRDi',\n",
              " 'RVXIBSIV',\n",
              " 'PetrolHighline1.6L',\n",
              " '1.4CRDiSportz',\n",
              " 'Asta1.2',\n",
              " 'PlusTPetrol',\n",
              " '3.0TDIQuattroPremium',\n",
              " '2015-2017Asta',\n",
              " '5StrSTD',\n",
              " 'Liva1.2G',\n",
              " '3.0LitreSPremiumLuxury',\n",
              " 'W82WD',\n",
              " '1.6SXCRDI(O)AT',\n",
              " 'Crysta2.8ZXAT',\n",
              " '5SeaterAC',\n",
              " 'TwistXT',\n",
              " 'Series320dLuxuryLine',\n",
              " '2006-20101.8VMT',\n",
              " '2.5VX(Diesel)7Seater',\n",
              " 'CrossCountryD3',\n",
              " 'XVCVT',\n",
              " 'Series2010-2013525i',\n",
              " 'BrezzaVDi',\n",
              " 'XingXLeRLXEuroIII',\n",
              " 'ClassB200CDI',\n",
              " 'CRDi1.6SXOption',\n",
              " 'RLXIBSIV',\n",
              " 'XTA',\n",
              " 'VLX',\n",
              " 'C-Class200KAT',\n",
              " 'RLXICNG',\n",
              " '2.4MT',\n",
              " '1.5TDIComfortlineAT',\n",
              " 'VXiPlus',\n",
              " 'ATW10FWD',\n",
              " 'VXIABS',\n",
              " 'K10VXI',\n",
              " '43AMG',\n",
              " 'VTVT1.6ATSXPlus',\n",
              " 'LXiBSIII',\n",
              " 'Series118dBase',\n",
              " '1.2VCVTiVTEC',\n",
              " '2006-20101.8VMT',\n",
              " 'C-ClassC220CDIAvantgarde',\n",
              " 'SXi-DTEC',\n",
              " 'VVTVXI',\n",
              " 'XingXOeRLXEuroII',\n",
              " '3.0Diesel',\n",
              " 'LTOption',\n",
              " '1.5TDIElegance',\n",
              " '1.4Alpha',\n",
              " 'Coupe',\n",
              " 'SeriesLuxuryLine',\n",
              " '2.0TDI177BhpPremiumPlus',\n",
              " 'VDI',\n",
              " 'Class20052013S500',\n",
              " '1.5TDIATElegancePlusBlackPackage',\n",
              " 'Elegance2.0TDICRAT',\n",
              " 'MagnaPlus',\n",
              " 'DieselTrendline1.2L',\n",
              " 'NXT',\n",
              " 'SMT',\n",
              " 'ClassB180',\n",
              " 'iDTECV',\n",
              " '2.5G(Diesel)7Seater',\n",
              " 'VXIOptional',\n",
              " 'W82WD',\n",
              " '1.5DV5MTAmbiente',\n",
              " '4x2Manual',\n",
              " '1.5HighlinePlusAT16Alloy',\n",
              " 'DieselTitanium',\n",
              " 'xDrive30d',\n",
              " 'C-ClassC220CDIStyle',\n",
              " 'VMT',\n",
              " 'Magna1.2',\n",
              " '220',\n",
              " 'i101.2KappaAsta',\n",
              " '2011-20152.0TDIPremiumPlus',\n",
              " 'PetrolHighlineAT',\n",
              " 'CooperD',\n",
              " 'Asta1.4CRDi',\n",
              " '2011-20152.0TDIPremiumPlus',\n",
              " 'DieselLT',\n",
              " 'Elegance1.8TSIAT',\n",
              " '1.4TDCiEXILimitedEdition',\n",
              " 'Series520dLuxuryLine',\n",
              " 'Magnum1.6LSBS3',\n",
              " 'DieselHighline1.2L',\n",
              " '110PSRxZ8Seater',\n",
              " 'E250CDIAvantgrade',\n",
              " 'Alpha',\n",
              " '1.6SX',\n",
              " 'Magna1.1',\n",
              " '1.99S104WD',\n",
              " 'RangeRover2.2LDynamic',\n",
              " 'DieselZXI',\n",
              " 'ZDI',\n",
              " '1.5GXI',\n",
              " 'Si-Dtech',\n",
              " 'Magna',\n",
              " 'Si-Dtech',\n",
              " 'Ambiente',\n",
              " '85PSDieselRxL',\n",
              " 'N6',\n",
              " 'BrezzaZDiPlusDualTone',\n",
              " 'AstaOption1.2',\n",
              " '1.4MPIAmbiente',\n",
              " 'eCSGLX',\n",
              " '2012-201535TDIQuattroPremiumPlus',\n",
              " 'Elegance1.8TSIAT',\n",
              " 'LivaGDSP',\n",
              " '1.3VXi',\n",
              " 'ClassB180',\n",
              " 'SDiesel',\n",
              " '1.6SX',\n",
              " '85PSDieselRxLOptional',\n",
              " '1.6VTVTS',\n",
              " 'RAMTVXI',\n",
              " 'C-ClassC250Avantgarde',\n",
              " 'L3.0TDIquattro',\n",
              " 'Magna1.1',\n",
              " '1.6MPIATStyleBlackPackage',\n",
              " 'Style1.8TSIAT',\n",
              " 'Active1.2SX',\n",
              " 'VXi-DTEC',\n",
              " 'RLXI',\n",
              " '1.5D4BSIV',\n",
              " 'C-ClassC220dAvantgardeEditionC',\n",
              " 'RVXI',\n",
              " 'XVPremium110PSAnniversaryEdition',\n",
              " 'VDIBSIV',\n",
              " 'ConvertibleS',\n",
              " 'Diesel',\n",
              " 'V2DLSBSII',\n",
              " 'LT',\n",
              " 'DieselComfortline1.2L',\n",
              " 'ZDi',\n",
              " 'DieselEXI',\n",
              " 'Crysta2.8GXAT',\n",
              " 'Fe4x4AT',\n",
              " 'i-VTECV',\n",
              " '1.2MagnaExecutive',\n",
              " 'C-ClassC220dAvantgardeEditionC',\n",
              " 'DieselLT',\n",
              " 'Sportz1.4CRDi',\n",
              " '2.5ZDiesel7Seater',\n",
              " 'VDI',\n",
              " '2.5VDiesel7-seater',\n",
              " 'XingXOeRLXEuroII',\n",
              " 'iVTECV',\n",
              " 'sDrive20d',\n",
              " 'i10CRDiEra',\n",
              " '1.3Alpha',\n",
              " 'Leisure1.6TDIMT',\n",
              " 'CRDi',\n",
              " 'GT1.5TDI',\n",
              " '1.2VXiVTEC',\n",
              " 'Era',\n",
              " '2.0e-VGT2WDATGLS',\n",
              " 'Crysta2.4ZXMT',\n",
              " 'MPICARGOBSIIIW/IMMOBILISER',\n",
              " 'VXIBSIV',\n",
              " 'i10Magna',\n",
              " 'VDI',\n",
              " 'CRDi1.6SX',\n",
              " 'XingXL',\n",
              " '1.2Sportz',\n",
              " '350d',\n",
              " 'C-ClassC220CDICLASSIC',\n",
              " 'ZDi',\n",
              " '1.6CRDiSX',\n",
              " 'Vxi',\n",
              " '110PSDieselRXZOption',\n",
              " 'Punto1.3EmotionPack(Diesel)',\n",
              " 'xDrive30dMSport',\n",
              " 'Sportz',\n",
              " '2.5G4Diesel7-seater',\n",
              " 'VXIBSII',\n",
              " 'VDI',\n",
              " 'VLX2.2mHawkAirbagBSIV',\n",
              " 'Quadrajet1.375PSXE',\n",
              " '1.0EcoboostTitaniumPlus',\n",
              " 'DzireZDI',\n",
              " '800LXI',\n",
              " '1.5SMT',\n",
              " '3.0TDIQuattroTechnology',\n",
              " '1.9TDIATAmbiente',\n",
              " '1.6SXVTVT(O)',\n",
              " '1.5VAT',\n",
              " 'MagnaOptional1.4CRDi',\n",
              " 'SportzAT1.4',\n",
              " 'DieselHighline',\n",
              " 'iVTECVX',\n",
              " 'Quadrajet1.375PSXE',\n",
              " 'Series2003-2012520d',\n",
              " 'RLXIMinor',\n",
              " 'VX',\n",
              " '2007-20112.0TDIComfortline',\n",
              " 'Magna1.2',\n",
              " 'C-ClassC220CDIAvantgarde',\n",
              " 'Magna1.2iTechSE',\n",
              " 'Crysta2.4ZXMT',\n",
              " '2011-20152.0TDITechnology',\n",
              " '2.5VX(Diesel)7Seater',\n",
              " 'PetrolTrendline1.2L',\n",
              " 'K10LXI',\n",
              " 'i-VTECCVTZX',\n",
              " 'LX',\n",
              " '2011-20152.0TDIPremiumPlus',\n",
              " 'Class200CDISPORT',\n",
              " 'XingXL',\n",
              " 'VDIBSIV',\n",
              " 'VXIAT',\n",
              " '250d',\n",
              " 'RangeRoverHSEDynamic',\n",
              " 'DieselTrendline',\n",
              " '8SeaterBSIV',\n",
              " '1.2VXMT',\n",
              " 'Delux',\n",
              " 'VistaAura1.3Quadrajet',\n",
              " 'RLXIBSIV',\n",
              " 'W84WD',\n",
              " 'LSDicor',\n",
              " 'PaseoVXI',\n",
              " '2.4A/T',\n",
              " 'DzireVDi',\n",
              " 'EXi1.4TDCiLtd',\n",
              " 'ZXGXi',\n",
              " '2011-20152.0TDIPremiumPlus',\n",
              " 'Series640dGranCoupe',\n",
              " '45TDIQuattroTechnology',\n",
              " 'EstiloLXIGreen(CNG)',\n",
              " '1.4CRDiAsta',\n",
              " 'SportzAT',\n",
              " '1.2VCVTiVTEC',\n",
              " 'VDIBSIV',\n",
              " 'Asta1.2',\n",
              " 'PetrolComfortline1.2L',\n",
              " 'LXi',\n",
              " 'H4',\n",
              " 'LXi',\n",
              " 'ELANQuadrajetBSIV',\n",
              " 'LXi',\n",
              " 'AmbitionPlus2.0TDIAT',\n",
              " 'H4',\n",
              " 'AstaOption1.2',\n",
              " 'BrezzaLDi',\n",
              " '1.5VMT',\n",
              " 'VistaAqua1.3Quadrajet',\n",
              " 'Si-Dtech',\n",
              " 'DLitePlus',\n",
              " 'SeriesLuxuryLine',\n",
              " '1.6SX',\n",
              " 'ClubClassQuadrajet90LS',\n",
              " 'RS',\n",
              " 'K10VXI',\n",
              " '1.5DV5MTTitaniumOptional',\n",
              " '1.0LS',\n",
              " '2.0DieselPortfolio',\n",
              " 'RViMT',\n",
              " 'L&K1.8TSIAT',\n",
              " 'Magna1.2',\n",
              " 'LDI',\n",
              " 'DzireVXiAT',\n",
              " 'DieselXV',\n",
              " 'DzireTourLDI',\n",
              " 'Classic1.4DuratorqCLXI',\n",
              " 'LX',\n",
              " 'CooperS',\n",
              " 'GD',\n",
              " '8002016-2019LXI',\n",
              " 'VXi',\n",
              " '3.0d',\n",
              " 'XV',\n",
              " 'i10ATAsta',\n",
              " 'BrezzaZDiPlus',\n",
              " '3.0TDIQuattroPremiumPlus',\n",
              " 'Class200CDI',\n",
              " 'AC',\n",
              " '85PSDieselRxL',\n",
              " 'AltisD-4DGL',\n",
              " 'C-Class220',\n",
              " 'VDi',\n",
              " 'i-VTECVCVT',\n",
              " '1.1CRDiBase',\n",
              " '2009-2013E250CDIAvantgarde',\n",
              " 'ClassB180',\n",
              " '2015-2017E250EditionE',\n",
              " 'iVTECVXOption',\n",
              " 'XingXLeRLXEuroIII',\n",
              " '1.5SMT',\n",
              " 'TransformVTVT',\n",
              " 'Portfolio',\n",
              " 'Si-Vtech',\n",
              " 'Convertible1.6',\n",
              " 'Class20052013S350CDI',\n",
              " 'MagnaPlus',\n",
              " 'RVXIBSIV',\n",
              " 'LDi',\n",
              " 'Series320dSedan',\n",
              " 'XTEX4X2',\n",
              " '35TDIAttraction',\n",
              " 'RangeRover2.2LDynamic',\n",
              " '20072012350CDILuxury',\n",
              " 'Sport4X2ATDualToneBlackTop',\n",
              " 'LX',\n",
              " 'RLXIBSIII',\n",
              " 'RangeRover2.2LPrestige',\n",
              " '1.6SXVTVT',\n",
              " 'Series525dSedan',\n",
              " 'Diesel',\n",
              " 'Elegance1.8TSIAT',\n",
              " '35TDIQuattroPremium',\n",
              " 'RangeRover2.2LPure',\n",
              " 'C-Class220CDIAT',\n",
              " 'S104WD',\n",
              " 'SeriesLuxuryLine',\n",
              " 'i-VTECSMT',\n",
              " '2006-2013D5',\n",
              " 'GLE',\n",
              " 'ActiveSXPetrol',\n",
              " '43AMGCoupe',\n",
              " 'MagnaPlus',\n",
              " 'i10SportZEdition',\n",
              " '1.5EXIS',\n",
              " 'PetrolTrendline1.2L',\n",
              " '35TFSIMatrix',\n",
              " '2007-20111.9LTDI',\n",
              " '1.6SXPlusDualTonePetrol',\n",
              " 'C-ClassC200CGIAvantgarde',\n",
              " 'ConvertibleS',\n",
              " 'XingXOeRLXEuroII',\n",
              " 'VD',\n",
              " 'SMT',\n",
              " 'AlphaAutomatic',\n",
              " 'Ambiente2.0TDICRAT',\n",
              " 'EraPlus',\n",
              " '1.5DieselRXL',\n",
              " 'Series2003-2012GT530dLE',\n",
              " '800LXI',\n",
              " 'D3',\n",
              " 'RLXIBSII',\n",
              " 'ZXGXi',\n",
              " '5STRWithACPlusHTRCNG',\n",
              " '1.4LS8',\n",
              " 'ZLX',\n",
              " 'GLSI-EuroI',\n",
              " 'DLite',\n",
              " '1.6SXPlusPetrolAutomatic',\n",
              " '1.6Comfortline',\n",
              " '2006-20101.8SAT',\n",
              " 'VistaQuadrajetLS',\n",
              " 'W82WD',\n",
              " '1.2AstaOption',\n",
              " '30TDIquattroPremiumPlus',\n",
              " 'VXi',\n",
              " 'Sports',\n",
              " '2.5VDiesel7-seater',\n",
              " 'LDi',\n",
              " 'DeltaDDiS200SH',\n",
              " '35TDIQuattroPremiumPlus',\n",
              " 'SeriesLuxuryLine',\n",
              " '4.2TDIQuattroTechnology',\n",
              " '2015-2017Asta1.2',\n",
              " '110PSDieselRxL',\n",
              " '1.1CRDiSCelebrationEdition',\n",
              " '1.5DV5MTTitanium',\n",
              " 'PetrolTrendline1.2L',\n",
              " 'i10CRDiMagna',\n",
              " 'AquaQuadrajetBSIV',\n",
              " '1.5VMT',\n",
              " 'XingGLS',\n",
              " '2.5VX(Diesel)7Seater',\n",
              " '1.3S',\n",
              " '4x4MTTRDSportivo',\n",
              " '1.6SXIABSDuratec',\n",
              " 'E220d',\n",
              " 'C-Class220CDIMT',\n",
              " 'Ambition4X2',\n",
              " 'i10Sportz',\n",
              " '2015-20191.2PTitaniumMT',\n",
              " 'Ambition1.4TSIMT',\n",
              " '85PSDieselRxLOption',\n",
              " 'RangeRoverEvoque2.0TD4Pure',\n",
              " 'DieselEXI',\n",
              " 'HurricaneLimitedEdition',\n",
              " '4x4MT',\n",
              " 'DieselComfortline1.2L',\n",
              " 'VDi',\n",
              " 'DieselXVPremium',\n",
              " '1.6SX',\n",
              " 'Series2003-2012523i',\n",
              " '350d4MATIC',\n",
              " '2.4L4WDAT',\n",
              " '1.6CRDiATSXPlus',\n",
              " 'Era',\n",
              " 'ClassA200CDISport',\n",
              " 'VXI',\n",
              " 'Classic1.9TDIMT',\n",
              " 'VXi-Vtech',\n",
              " 'LXiBSII',\n",
              " 'ZXIMTBSIV',\n",
              " 'VXAT',\n",
              " 'RVXI',\n",
              " 'A/T',\n",
              " 'LS',\n",
              " '4x4AT',\n",
              " '1.5DV5MTTitaniumOptional',\n",
              " 'VdiBSIII',\n",
              " 'Class20052013S350CDI',\n",
              " 'SiVTEC',\n",
              " 'i10Sportz',\n",
              " 'ATW8FWD',\n",
              " '1.6MPIElegance',\n",
              " 'XingGLS',\n",
              " '1.6SXPlusDualTonePetrol',\n",
              " '1.99S8',\n",
              " '1.6TDIAmbition',\n",
              " '110PSDieselRxZ',\n",
              " 'xDrive30d',\n",
              " 'G',\n",
              " 'RLXI',\n",
              " '1.6SX',\n",
              " 'VXI',\n",
              " 'RangeRoverHSEDynamic',\n",
              " 'LT',\n",
              " 'TwistXT',\n",
              " '2011-201535TDITechnology',\n",
              " '280CDI',\n",
              " 'VXI',\n",
              " 'TJet',\n",
              " 'VXIOptional',\n",
              " '3.0Diesel',\n",
              " 'ZXI',\n",
              " 'Series320iSedan',\n",
              " 'VXI',\n",
              " '1.5VAT',\n",
              " 'Fe4X4',\n",
              " 'LS',\n",
              " '2009-2013E250Elegance',\n",
              " 'DzireLDi',\n",
              " 'Classic1.4DuratorqCLXI',\n",
              " 'iVTECCVTVX',\n",
              " '4x2Manual',\n",
              " 'VXOiVTEC',\n",
              " 'Asta1.4CRDi',\n",
              " 'TCDiLTZ7Seater',\n",
              " 'C-ClassProgressiveC200',\n",
              " 'ZXIATLeather',\n",
              " '2.5VX(Diesel)7Seater',\n",
              " 'Series2003-2012520d',\n",
              " '110PSDieselRxZ',\n",
              " 'sDrive20dxLine',\n",
              " 'ZXGXi',\n",
              " 'RSZDiPlusSHVS',\n",
              " 'DzireVXi',\n",
              " 'W62WD',\n",
              " '2006-20101.8SMT',\n",
              " 'ZDI',\n",
              " 'LivaGD',\n",
              " '2.0TFSI',\n",
              " '1.5TDIStyle',\n",
              " '1.5TDIHighline',\n",
              " '1.9TDIATElegance',\n",
              " 'Logan1.5DLEDiesel',\n",
              " 'Crysta2.8GXAT',\n",
              " 'Series320dLuxuryLine',\n",
              " '1.5SiDTEC',\n",
              " 'VXi-DTEC',\n",
              " '2.2LitreLuxury',\n",
              " 'DzireVDI',\n",
              " '2.0Limited',\n",
              " 'Altis1.8Sport',\n",
              " '1.5VMT',\n",
              " 'ZXI',\n",
              " '1.6SXCRDI(O)AT',\n",
              " 'ZLX',\n",
              " 'VDI',\n",
              " 'XingXO',\n",
              " '2011-20152.0TDIPremiumPlus',\n",
              " '1.3LXiNXt',\n",
              " '1.5TDIHighline',\n",
              " 'VLXCRDe',\n",
              " 'iDTECVXOption',\n",
              " 'Hatchback1.2LS',\n",
              " '1.2Spotz',\n",
              " 'sDrive20dSportline',\n",
              " 'sDrive20dExclusive',\n",
              " '4x2AT',\n",
              " '4.2TDIQuattroTechnology',\n",
              " 'VDI',\n",
              " '1.2Magna',\n",
              " 'Class20052013S350L',\n",
              " '85PSDieselRxL',\n",
              " 'C2',\n",
              " '4x2AT',\n",
              " '2014-2019xDrive30dDesignPureExperience7Seater',\n",
              " 'DzireVDi',\n",
              " 'LDIOptional',\n",
              " '2011-201535TFSITechnology',\n",
              " '2.8SFXBSIVDualTone',\n",
              " '2.2LitreExecutive',\n",
              " 'Crysta2.8ZXAT',\n",
              " 'Ambition2.0TDIAT',\n",
              " 'AltisVLAT',\n",
              " '8SeaterBSII',\n",
              " '220d4MATICStyle',\n",
              " '1.5TDIHighlineAT',\n",
              " 'W102WD',\n",
              " 'XL85PS',\n",
              " '1.6SXCRDi(O)',\n",
              " 'Series2013-2017530dMSport',\n",
              " 'S4Plus',\n",
              " '1.6CRDiSX',\n",
              " '3.0TDIQuattroPremiumPlus',\n",
              " 'U-VA1.2LT',\n",
              " 'ZLXBSIII',\n",
              " '1.2KappaS',\n",
              " 'Crysta2.4GXMT8S',\n",
              " 'EraPlus',\n",
              " 'DieselComfortline1.2L',\n",
              " 'BrezzaZDi',\n",
              " 'Series320dPrestige',\n",
              " 'Sportz',\n",
              " '1.5SMT',\n",
              " '2.4MT',\n",
              " 'E8',\n",
              " 'Series320d',\n",
              " 'VMT',\n",
              " 'W102WD',\n",
              " 'Asta1.4CRDi',\n",
              " '4x2Manual',\n",
              " 'DIBSII',\n",
              " 'Vxi-BSIII',\n",
              " 'LSzipPlus',\n",
              " '5DOORD',\n",
              " '35TDIQuattroPremium',\n",
              " 'SportzOption',\n",
              " 'StormeVXVaricor400',\n",
              " 'i-DTECVXMT',\n",
              " '2013-20152.0LTDIHighline',\n",
              " '1.2KappaSOption',\n",
              " '1.2Alpha',\n",
              " 'Series2013-2017520dLuxuryLine',\n",
              " '1.3CLXi',\n",
              " 'Sportz',\n",
              " '1.6CRDI',\n",
              " 'Series320dHighline',\n",
              " '2009-2013E200CGIBlueEfficiency',\n",
              " 'OptionPack',\n",
              " 'XingXP',\n",
              " 'DLS',\n",
              " 'W82WD',\n",
              " 'ZDiPlusSHVS',\n",
              " 'C-ClassC250CDIAvantgarde',\n",
              " 'ZXCVT',\n",
              " '4x24SpeedAT',\n",
              " 'K10VXI',\n",
              " '2.0LPortfolio',\n",
              " '1.4MagnaABS',\n",
              " 'i-VTECVCVT',\n",
              " 'Executive(HE)',\n",
              " '2011-20152.0TDIPremiumPlus',\n",
              " '2.5ZXDiesel7SeaterBSIII',\n",
              " 'i10CRDiSportz',\n",
              " 'IPLIIPetrolHighlineAT',\n",
              " '2.5VX(Diesel)7SeaterBSIV',\n",
              " 'CRDiSX',\n",
              " 'VDi',\n",
              " '3.0TDIQuattroTechnology',\n",
              " 'AstaOption1.2',\n",
              " 'BrezzaZDiPlusDualTone',\n",
              " 'iVTECS',\n",
              " 'ZXi',\n",
              " 'XVCVT',\n",
              " 'DieselHighline1.2L',\n",
              " 'ZDI',\n",
              " 'DzireVDI',\n",
              " 'C-ClassC220CDIEleganceAT',\n",
              " 'SMT',\n",
              " 'MagnaOptional1.1L',\n",
              " '1.6SXCRDi(O)',\n",
              " 'VDISHVS',\n",
              " '1.3Flair',\n",
              " '1.2MPIHighline',\n",
              " '1.2ViVTEC',\n",
              " 'EXi-Dtech',\n",
              " 'Asta1.4CRDi',\n",
              " 'VDi',\n",
              " 'VMT',\n",
              " '1.8TSIMT',\n",
              " 'BrezzaLDiOption',\n",
              " 'Asta',\n",
              " 'K10VXIAGS',\n",
              " 'EraPlus',\n",
              " 'Sportz',\n",
              " 'SLK350',\n",
              " '2.0TDIDesignEdition',\n",
              " '1.5TDCiTitanium',\n",
              " 'HighlineDSG',\n",
              " 'Crysta2.4ZXMT',\n",
              " 'DieselZXI',\n",
              " '1.4',\n",
              " 'LXi',\n",
              " 'Freelander2SE',\n",
              " 'i10Asta',\n",
              " '3.2TrendAT4X4',\n",
              " '2008-20122.0TDI',\n",
              " '1.6VTVT',\n",
              " '2015-2017E250CDIAvantgarde',\n",
              " 'ML3504Matic',\n",
              " 'DzireZXi',\n",
              " '1.3EXIS',\n",
              " '85PSDieselRxLOptional',\n",
              " 'C-Class220CDIAT',\n",
              " 'xDrive30dDesignPureExperience5Seater',\n",
              " '1.2KappaSXOption',\n",
              " 'AMTZXIPlus',\n",
              " 'Series320dCorporateEdition',\n",
              " '800LXI',\n",
              " '2.0TDI177BhpPremiumPlus',\n",
              " 'S',\n",
              " '3.0TDIQuattroPremiumPlus',\n",
              " 'DieselLT',\n",
              " 'RLXIBSIV',\n",
              " 'XVPremium110PS',\n",
              " 'Series320dLuxuryPlus',\n",
              " 'DzireVXI',\n",
              " 'Elegance4X2',\n",
              " '1.5TiVCTATTitanium',\n",
              " '1.2Magna',\n",
              " 'CrossDDiS200SigmaOption',\n",
              " 'TransformVTVT',\n",
              " 'Series320dLuxuryLine',\n",
              " 'i101.2CRDiMagna',\n",
              " 'i-VTECV',\n",
              " '1.3VXi',\n",
              " 'VDIBSIV',\n",
              " 'Zeta1.3',\n",
              " 'Storme2012-2015LX',\n",
              " 'GLS',\n",
              " 'LDISPLimitedEdition',\n",
              " 'VDIBSIV',\n",
              " 'XTA',\n",
              " 'VDI',\n",
              " 'VXIAMT',\n",
              " 'VDIBSIV',\n",
              " 'PetrolHighline',\n",
              " '2007-20111.9HighlineTDI',\n",
              " '5DOORD',\n",
              " 'V2DLS',\n",
              " 'XingXO',\n",
              " 'RangeRover3.0D',\n",
              " 'i-VTECCVTVX',\n",
              " '2.2LitreLuxury',\n",
              " '2015-2017E250EditionE',\n",
              " 'LTZ',\n",
              " 'W82WD',\n",
              " 'C-ClassC200CGIAvantgarde',\n",
              " 'VX',\n",
              " 'G',\n",
              " 'LXiBSIII',\n",
              " 'VXIBSIV',\n",
              " 'Vxi',\n",
              " 'LxBSIV',\n",
              " 'TitaniumDiesel',\n",
              " 'Emotion',\n",
              " 'Aspire1.2Ti-VCTTrend',\n",
              " 'LXI',\n",
              " 'Series320dLuxuryLine',\n",
              " 'LTZ',\n",
              " '2.6DX',\n",
              " 'V2eLS',\n",
              " 'LTZAT',\n",
              " '2.5VDiesel8-seater',\n",
              " 'C-ClassC220dAvantgardeEditionC',\n",
              " 'VXi',\n",
              " '2.5GX(Diesel)8SeaterBSIV',\n",
              " '4x4MT',\n",
              " 'SportzAT',\n",
              " '1.6SX',\n",
              " '2012-201535TDIQuattroPremiumPlus',\n",
              " 'LS',\n",
              " '1.4DuratorqZXI',\n",
              " 'DieselEXI',\n",
              " 'VXIAT',\n",
              " 'ClassA180CDI',\n",
              " '1.6SX',\n",
              " 'RVXIBSIV',\n",
              " '2009-2013E220CDIAvantgarde',\n",
              " '1.5TiVCTMTTitaniumBE',\n",
              " '2.0Diesel',\n",
              " 'W102WD',\n",
              " 'E8StrSTD',\n",
              " 'RVXI',\n",
              " 'XLTTDCi4X2',\n",
              " '1.6SX',\n",
              " 'Magna1.2',\n",
              " 'ZXI',\n",
              " 'W9AT',\n",
              " 'SCrossDDiS200Zeta',\n",
              " 'SLK350',\n",
              " 'DieselComfortline1.2L',\n",
              " '4x4MT',\n",
              " 'W102WD',\n",
              " '250d',\n",
              " '1.2VXiVTEC',\n",
              " 'DzireVDI',\n",
              " '1.6SXVTVT',\n",
              " '3.2TitaniumAT4X4',\n",
              " '1.2AstaOption',\n",
              " '1.5VMTSunroof',\n",
              " 'VXDiesel',\n",
              " '1.6SXVTVT(O)',\n",
              " 'SiDTEC',\n",
              " 'ZDI',\n",
              " 'K10LXI',\n",
              " 'FSB2',\n",
              " 'Sportz',\n",
              " '1.9TDIATAmbiente',\n",
              " 'AstaOption1.2',\n",
              " 'Series2003-2012530dHighline',\n",
              " 'Series320dMSport',\n",
              " '1.4LTABSBSIV',\n",
              " '2009-2013E250CDIElegance',\n",
              " '2011-20152.0TDIPremiumPlus',\n",
              " 'RLXIBSIV',\n",
              " 'RXT',\n",
              " '1.5TDIHighline',\n",
              " 'DieselComfortline1.2L',\n",
              " '800LXI',\n",
              " 'AstaOption1.2',\n",
              " 'LivaG',\n",
              " '1.2Sportz',\n",
              " '1.4Asta',\n",
              " 'RLXIOptional',\n",
              " '1.4AstaOption',\n",
              " 'GTTSI',\n",
              " 'DieselTitanium',\n",
              " 'ZXI',\n",
              " 'i10CRDiMagna',\n",
              " 'H4',\n",
              " 'GreenLXi(CNG)',\n",
              " 'Magna1.1',\n",
              " 'Elegance2.0TDIAT',\n",
              " '2014-2019xDrive30dDesignPureExperience7Seater',\n",
              " 'VXIAT',\n",
              " 'DieselComfortline',\n",
              " 'Series320dHighline',\n",
              " 'ZDI',\n",
              " 'DieselZXI',\n",
              " '1.2MPIHighline',\n",
              " '3.0TDIquattro',\n",
              " 'Crysta2.4ZXMT',\n",
              " '1.6CRDiEXAT',\n",
              " 'XingGLPlus',\n",
              " '2.0TDI',\n",
              " '2.0TDI',\n",
              " '1.9TDIMTAmbiente',\n",
              " '2.0L2WDAT',\n",
              " '1.6SXCRDi(O)',\n",
              " 'RSiDTEC',\n",
              " '1.2AstaOption',\n",
              " '2.5G(Diesel)7SeaterBSIV',\n",
              " 'Magna1.2',\n",
              " 'VLXBSIV',\n",
              " '1.5TDIComfortline',\n",
              " '2.2LitreLuxury',\n",
              " 'LXi-BSIII',\n",
              " 'Facelift',\n",
              " '3.0Diesel',\n",
              " 'i10ATAsta',\n",
              " '1.2CRDiS',\n",
              " '1.6VTVTS',\n",
              " 'Sportz',\n",
              " 'SMT',\n",
              " '4x2AT',\n",
              " '2.0TDIMultitronic',\n",
              " 'Crysta2.8ZXAT',\n",
              " 'iDTECVX',\n",
              " 'iDTECVX',\n",
              " '1.0RXTOptional',\n",
              " 'DDiSZDIPlus',\n",
              " 'VXIOptionalAMT',\n",
              " 'W82WD',\n",
              " 'Magna',\n",
              " 'Magna1.1',\n",
              " 'VXI',\n",
              " 'VitaraAT',\n",
              " '40TFSI',\n",
              " 'C-ClassC200CGI',\n",
              " '2011-2014DieselXV',\n",
              " 'RLXI',\n",
              " 'DzireZDI',\n",
              " 'Si-Dtech',\n",
              " 'ZDI',\n",
              " 'ExecutiveCNG',\n",
              " 'LX2.6Turbo',\n",
              " 'E250CDIAvantgrade',\n",
              " '4x2Manual',\n",
              " 'TOption',\n",
              " 'VMT',\n",
              " 'Hybrid',\n",
              " 'iDTecV',\n",
              " '2012-20142.0LTDITrendline',\n",
              " '2011-20152.0TDI',\n",
              " 'VDI',\n",
              " 'C-ClassC220CDIStyle',\n",
              " 'DzireVdiBSIV',\n",
              " '110PSDieselRxZPack',\n",
              " 'VDi',\n",
              " 'DzireVXI',\n",
              " 'ZDi',\n",
              " 'Sportz',\n",
              " 'VXIBSII',\n",
              " '7SeaterStandard',\n",
              " '30TDIquattroPremium',\n",
              " '2.0TDI',\n",
              " 'CDIAT',\n",
              " 'DzireVDi',\n",
              " 'DX',\n",
              " '2014-2019xDrive30dDesignPureExperience7Seater',\n",
              " 'i-VTECCVTVX',\n",
              " 'eCSeLXBSIV',\n",
              " 'TSI',\n",
              " 'VXI',\n",
              " '3.0Diesel',\n",
              " '2.4',\n",
              " '2007-20111.9HighlineTDI',\n",
              " '2009-2012S',\n",
              " '1.6CRDiSX',\n",
              " '1.2MPIAmbientePetrol',\n",
              " '1.5TDCiTitanium',\n",
              " 'Estilo1.1LXIBSIII',\n",
              " '1.4Delta',\n",
              " 'C-ClassC200AvantgardeEditionC',\n",
              " 'SXi-VTEC',\n",
              " 'GD',\n",
              " '85PSDieselRxL',\n",
              " 'RLXILPGBSIV',\n",
              " 'PetrolHighline1.2L',\n",
              " '1.6SXPlusDiesel',\n",
              " 'Diesel',\n",
              " '2.0Limited4X4',\n",
              " 'RangeRoverEvoque2.0TD4HSEDynamic',\n",
              " 'AlphaDiesel',\n",
              " 'ZDiSHVS',\n",
              " 'VxiBSIII',\n",
              " 'CRDiSX',\n",
              " 'Sport4X4',\n",
              " '1.2MPIComfortline',\n",
              " 'VXi',\n",
              " 'CRDiSX',\n",
              " 'DzireTourLDI',\n",
              " '100mFALCOND75K6',\n",
              " 'Crysta2.4ZXMT',\n",
              " 'Delta1.2',\n",
              " 'VXDiesel',\n",
              " '1.2Asta',\n",
              " 'SportzDiesel',\n",
              " 'C-ClassC220dAvantgardeEditionC',\n",
              " '1.2KappaBase',\n",
              " 'i10ATAsta',\n",
              " '800VXI',\n",
              " 'Hatchback1.2LS',\n",
              " 'ProgressiveC220d',\n",
              " 'Elegance1.8TSIAT',\n",
              " '2.0TDI',\n",
              " '2.5G(Diesel)7SeaterBSIV',\n",
              " '200CDISport',\n",
              " 'Era',\n",
              " 'DzireVXi',\n",
              " '1.5TDIATAmbition',\n",
              " 'VDi',\n",
              " 'GLS1.6',\n",
              " 'SXi-VTEC',\n",
              " 'RLXI',\n",
              " 'DieselComfortline1.2L',\n",
              " '2.2TrendAT4X2',\n",
              " '1.2Sportz',\n",
              " 'DieselPS',\n",
              " '2010-20131.8VMT',\n",
              " 'RVXIBSIV',\n",
              " '1.6MPIAmbitionPlus',\n",
              " 'Vxi-BSIII',\n",
              " '1.5TDCiTitanium',\n",
              " 'GLE',\n",
              " 'Series520dLuxuryLine',\n",
              " 'K102010-2014VXI',\n",
              " '2012-20152.0TDIQuattroPremiumPlus',\n",
              " 'RLXIDUOBSIII',\n",
              " 'H4',\n",
              " 'D5',\n",
              " '1.5VXiDTEC',\n",
              " '1.3Alpha',\n",
              " 'VXIBSIV',\n",
              " 'C-ClassC220CDIAvantgarde',\n",
              " 'RVXIMinor',\n",
              " 'ClassA180Sport',\n",
              " 'XingGL',\n",
              " 'DzireAMTZDI',\n",
              " 'i10ATAsta',\n",
              " '2011-2014XVSpecialEdition',\n",
              " ...]"
            ]
          },
          "execution_count": 11,
          "metadata": {},
          "output_type": "execute_result"
        }
      ],
      "source": [
        "version"
      ]
    },
    {
      "cell_type": "code",
      "execution_count": null,
      "metadata": {
        "id": "MC_eCZnJ-tjx",
        "outputId": "5a8899ae-4f3a-4652-d994-8cfec7db7082"
      },
      "outputs": [
        {
          "data": {
            "text/html": [
              "<div>\n",
              "<style scoped>\n",
              "    .dataframe tbody tr th:only-of-type {\n",
              "        vertical-align: middle;\n",
              "    }\n",
              "\n",
              "    .dataframe tbody tr th {\n",
              "        vertical-align: top;\n",
              "    }\n",
              "\n",
              "    .dataframe thead th {\n",
              "        text-align: right;\n",
              "    }\n",
              "</style>\n",
              "<table border=\"1\" class=\"dataframe\">\n",
              "  <thead>\n",
              "    <tr style=\"text-align: right;\">\n",
              "      <th></th>\n",
              "      <th>Name</th>\n",
              "      <th>Location</th>\n",
              "      <th>Year</th>\n",
              "      <th>Kilometers_Driven</th>\n",
              "      <th>Fuel_Type</th>\n",
              "      <th>Transmission</th>\n",
              "      <th>Owner_Type</th>\n",
              "      <th>Mileage</th>\n",
              "      <th>Engine</th>\n",
              "      <th>Power</th>\n",
              "      <th>Seats</th>\n",
              "      <th>Price</th>\n",
              "      <th>carCompany</th>\n",
              "      <th>carModel</th>\n",
              "    </tr>\n",
              "  </thead>\n",
              "  <tbody>\n",
              "    <tr>\n",
              "      <th>0</th>\n",
              "      <td>Maruti Wagon R LXI CNG</td>\n",
              "      <td>Mumbai</td>\n",
              "      <td>2010</td>\n",
              "      <td>72000</td>\n",
              "      <td>CNG</td>\n",
              "      <td>Manual</td>\n",
              "      <td>First</td>\n",
              "      <td>26.6 km/kg</td>\n",
              "      <td>998 CC</td>\n",
              "      <td>58.16 bhp</td>\n",
              "      <td>5.0</td>\n",
              "      <td>1.75</td>\n",
              "      <td>Maruti</td>\n",
              "      <td>wagon</td>\n",
              "    </tr>\n",
              "    <tr>\n",
              "      <th>1</th>\n",
              "      <td>Hyundai Creta 1.6 CRDi SX Option</td>\n",
              "      <td>Pune</td>\n",
              "      <td>2015</td>\n",
              "      <td>41000</td>\n",
              "      <td>Diesel</td>\n",
              "      <td>Manual</td>\n",
              "      <td>First</td>\n",
              "      <td>19.67 kmpl</td>\n",
              "      <td>1582 CC</td>\n",
              "      <td>126.2 bhp</td>\n",
              "      <td>5.0</td>\n",
              "      <td>12.50</td>\n",
              "      <td>Hyundai</td>\n",
              "      <td>creta</td>\n",
              "    </tr>\n",
              "    <tr>\n",
              "      <th>2</th>\n",
              "      <td>Honda Jazz V</td>\n",
              "      <td>Chennai</td>\n",
              "      <td>2011</td>\n",
              "      <td>46000</td>\n",
              "      <td>Petrol</td>\n",
              "      <td>Manual</td>\n",
              "      <td>First</td>\n",
              "      <td>18.2 kmpl</td>\n",
              "      <td>1199 CC</td>\n",
              "      <td>88.7 bhp</td>\n",
              "      <td>5.0</td>\n",
              "      <td>4.50</td>\n",
              "      <td>Honda</td>\n",
              "      <td>jazz</td>\n",
              "    </tr>\n",
              "    <tr>\n",
              "      <th>3</th>\n",
              "      <td>Maruti Ertiga VDI</td>\n",
              "      <td>Chennai</td>\n",
              "      <td>2012</td>\n",
              "      <td>87000</td>\n",
              "      <td>Diesel</td>\n",
              "      <td>Manual</td>\n",
              "      <td>First</td>\n",
              "      <td>20.77 kmpl</td>\n",
              "      <td>1248 CC</td>\n",
              "      <td>88.76 bhp</td>\n",
              "      <td>7.0</td>\n",
              "      <td>6.00</td>\n",
              "      <td>Maruti</td>\n",
              "      <td>ertiga</td>\n",
              "    </tr>\n",
              "    <tr>\n",
              "      <th>4</th>\n",
              "      <td>Audi A4 New 2.0 TDI Multitronic</td>\n",
              "      <td>Coimbatore</td>\n",
              "      <td>2013</td>\n",
              "      <td>40670</td>\n",
              "      <td>Diesel</td>\n",
              "      <td>Automatic</td>\n",
              "      <td>Second</td>\n",
              "      <td>15.2 kmpl</td>\n",
              "      <td>1968 CC</td>\n",
              "      <td>140.8 bhp</td>\n",
              "      <td>5.0</td>\n",
              "      <td>17.74</td>\n",
              "      <td>Audi</td>\n",
              "      <td>a4</td>\n",
              "    </tr>\n",
              "  </tbody>\n",
              "</table>\n",
              "</div>"
            ],
            "text/plain": [
              "                               Name    Location  Year  Kilometers_Driven  \\\n",
              "0            Maruti Wagon R LXI CNG      Mumbai  2010              72000   \n",
              "1  Hyundai Creta 1.6 CRDi SX Option        Pune  2015              41000   \n",
              "2                      Honda Jazz V     Chennai  2011              46000   \n",
              "3                 Maruti Ertiga VDI     Chennai  2012              87000   \n",
              "4   Audi A4 New 2.0 TDI Multitronic  Coimbatore  2013              40670   \n",
              "\n",
              "  Fuel_Type Transmission Owner_Type     Mileage   Engine      Power  Seats  \\\n",
              "0       CNG       Manual      First  26.6 km/kg   998 CC  58.16 bhp    5.0   \n",
              "1    Diesel       Manual      First  19.67 kmpl  1582 CC  126.2 bhp    5.0   \n",
              "2    Petrol       Manual      First   18.2 kmpl  1199 CC   88.7 bhp    5.0   \n",
              "3    Diesel       Manual      First  20.77 kmpl  1248 CC  88.76 bhp    7.0   \n",
              "4    Diesel    Automatic     Second   15.2 kmpl  1968 CC  140.8 bhp    5.0   \n",
              "\n",
              "   Price carCompany carModel  \n",
              "0   1.75     Maruti    wagon  \n",
              "1  12.50    Hyundai    creta  \n",
              "2   4.50      Honda     jazz  \n",
              "3   6.00     Maruti   ertiga  \n",
              "4  17.74       Audi       a4  "
            ]
          },
          "execution_count": 12,
          "metadata": {},
          "output_type": "execute_result"
        }
      ],
      "source": [
        "data.head()"
      ]
    },
    {
      "cell_type": "code",
      "execution_count": null,
      "metadata": {
        "id": "onVmr72--tjy",
        "outputId": "de68b4dd-92ce-4d57-a308-7c1fedf08cd2"
      },
      "outputs": [
        {
          "data": {
            "image/png": "[encoded data removed]",
            "text/plain": [
              "<Figure size 720x360 with 1 Axes>"
            ]
          },
          "metadata": {
            "needs_background": "light"
          },
          "output_type": "display_data"
        }
      ],
      "source": [
        "plt.rcParams[\"figure.figsize\"]=[10,5]\n",
        "data.carCompany.value_counts().plot(kind='bar')\n",
        "plt.xlabel('Car Company')\n",
        "plt.ylabel('No. of Cars')\n",
        "plt.show()"
      ]
    },
    {
      "cell_type": "markdown",
      "metadata": {
        "id": "QMztCYcp-tjz"
      },
      "source": [
        "#### Highest no. of cars in Maruthi,Hyundai brands"
      ]
    },
    {
      "cell_type": "markdown",
      "metadata": {
        "id": "GPrL-gZZ-tjz"
      },
      "source": [
        "## Year"
      ]
    },
    {
      "cell_type": "code",
      "execution_count": null,
      "metadata": {
        "id": "naSFBUPj-tjz",
        "outputId": "64ff91ef-c8c8-4d5d-bcbf-07678d073284"
      },
      "outputs": [
        {
          "data": {
            "text/plain": [
              "count    6019.000000\n",
              "mean     2013.358199\n",
              "std         3.269742\n",
              "min      1998.000000\n",
              "25%      2011.000000\n",
              "50%      2014.000000\n",
              "75%      2016.000000\n",
              "max      2019.000000\n",
              "Name: Year, dtype: float64"
            ]
          },
          "execution_count": 14,
          "metadata": {},
          "output_type": "execute_result"
        }
      ],
      "source": [
        "data.Year.describe()"
      ]
    },
    {
      "cell_type": "markdown",
      "metadata": {
        "id": "Jq35Uj9Z-tjz"
      },
      "source": [
        "##### So the data or car models available from 1998 to 2019 model"
      ]
    },
    {
      "cell_type": "code",
      "execution_count": null,
      "metadata": {
        "id": "EpzD0djO-tj0",
        "outputId": "356fd19c-9dbc-481a-da60-6677798e8250"
      },
      "outputs": [
        {
          "data": {
            "text/plain": [
              "Text(0, 0.5, 'No. of cars')"
            ]
          },
          "execution_count": 15,
          "metadata": {},
          "output_type": "execute_result"
        },
        {
          "data": {
            "image/png": "[encoded data removed]",
            "text/plain": [
              "<Figure size 720x360 with 1 Axes>"
            ]
          },
          "metadata": {
            "needs_background": "light"
          },
          "output_type": "display_data"
        }
      ],
      "source": [
        "plt.rcParams[\"figure.figsize\"]=[10,5]\n",
        "data.Year.value_counts().plot(kind='bar')\n",
        "plt.xlabel('Year')\n",
        "plt.ylabel('No. of cars')"
      ]
    },
    {
      "cell_type": "markdown",
      "metadata": {
        "id": "BRWHhG7j-tj0"
      },
      "source": [
        "#### So most of Cars Model Year is 2009-2019"
      ]
    },
    {
      "cell_type": "code",
      "execution_count": null,
      "metadata": {
        "id": "5NXzoJz1-tj0",
        "outputId": "91b3ae78-6483-41e2-b7db-e5389e9ea71f"
      },
      "outputs": [
        {
          "data": {
            "text/html": [
              "<div>\n",
              "<style scoped>\n",
              "    .dataframe tbody tr th:only-of-type {\n",
              "        vertical-align: middle;\n",
              "    }\n",
              "\n",
              "    .dataframe tbody tr th {\n",
              "        vertical-align: top;\n",
              "    }\n",
              "\n",
              "    .dataframe thead th {\n",
              "        text-align: right;\n",
              "    }\n",
              "</style>\n",
              "<table border=\"1\" class=\"dataframe\">\n",
              "  <thead>\n",
              "    <tr style=\"text-align: right;\">\n",
              "      <th></th>\n",
              "      <th>Name</th>\n",
              "      <th>Location</th>\n",
              "      <th>Year</th>\n",
              "      <th>Kilometers_Driven</th>\n",
              "      <th>Fuel_Type</th>\n",
              "      <th>Transmission</th>\n",
              "      <th>Owner_Type</th>\n",
              "      <th>Mileage</th>\n",
              "      <th>Engine</th>\n",
              "      <th>Power</th>\n",
              "      <th>Seats</th>\n",
              "      <th>Price</th>\n",
              "      <th>carCompany</th>\n",
              "      <th>carModel</th>\n",
              "    </tr>\n",
              "  </thead>\n",
              "  <tbody>\n",
              "    <tr>\n",
              "      <th>340</th>\n",
              "      <td>Skoda Octavia Ambition Plus 2.0 TDI AT</td>\n",
              "      <td>Kolkata</td>\n",
              "      <td>2013</td>\n",
              "      <td>775000</td>\n",
              "      <td>Diesel</td>\n",
              "      <td>Automatic</td>\n",
              "      <td>First</td>\n",
              "      <td>19.3 kmpl</td>\n",
              "      <td>1968 CC</td>\n",
              "      <td>141 bhp</td>\n",
              "      <td>5.0</td>\n",
              "      <td>7.50</td>\n",
              "      <td>Skoda</td>\n",
              "      <td>octavia</td>\n",
              "    </tr>\n",
              "    <tr>\n",
              "      <th>358</th>\n",
              "      <td>Hyundai i10 Magna 1.2</td>\n",
              "      <td>Chennai</td>\n",
              "      <td>2009</td>\n",
              "      <td>620000</td>\n",
              "      <td>Petrol</td>\n",
              "      <td>Manual</td>\n",
              "      <td>First</td>\n",
              "      <td>20.36 kmpl</td>\n",
              "      <td>1197 CC</td>\n",
              "      <td>78.9 bhp</td>\n",
              "      <td>5.0</td>\n",
              "      <td>2.70</td>\n",
              "      <td>Hyundai</td>\n",
              "      <td>i10</td>\n",
              "    </tr>\n",
              "    <tr>\n",
              "      <th>1860</th>\n",
              "      <td>Volkswagen Vento Diesel Highline</td>\n",
              "      <td>Chennai</td>\n",
              "      <td>2013</td>\n",
              "      <td>720000</td>\n",
              "      <td>Diesel</td>\n",
              "      <td>Manual</td>\n",
              "      <td>First</td>\n",
              "      <td>20.54 kmpl</td>\n",
              "      <td>1598 CC</td>\n",
              "      <td>103.6 bhp</td>\n",
              "      <td>5.0</td>\n",
              "      <td>5.90</td>\n",
              "      <td>Volkswagen</td>\n",
              "      <td>vento</td>\n",
              "    </tr>\n",
              "    <tr>\n",
              "      <th>2328</th>\n",
              "      <td>BMW X5 xDrive 30d M Sport</td>\n",
              "      <td>Chennai</td>\n",
              "      <td>2017</td>\n",
              "      <td>6500000</td>\n",
              "      <td>Diesel</td>\n",
              "      <td>Automatic</td>\n",
              "      <td>First</td>\n",
              "      <td>15.97 kmpl</td>\n",
              "      <td>2993 CC</td>\n",
              "      <td>258 bhp</td>\n",
              "      <td>5.0</td>\n",
              "      <td>65.00</td>\n",
              "      <td>Bmw</td>\n",
              "      <td>x5</td>\n",
              "    </tr>\n",
              "    <tr>\n",
              "      <th>2823</th>\n",
              "      <td>Volkswagen Jetta 2013-2015 2.0L TDI Highline AT</td>\n",
              "      <td>Chennai</td>\n",
              "      <td>2015</td>\n",
              "      <td>480000</td>\n",
              "      <td>Diesel</td>\n",
              "      <td>Automatic</td>\n",
              "      <td>First</td>\n",
              "      <td>16.96 kmpl</td>\n",
              "      <td>1968 CC</td>\n",
              "      <td>138.03 bhp</td>\n",
              "      <td>5.0</td>\n",
              "      <td>13.00</td>\n",
              "      <td>Volkswagen</td>\n",
              "      <td>jetta</td>\n",
              "    </tr>\n",
              "    <tr>\n",
              "      <th>3092</th>\n",
              "      <td>Honda City i VTEC SV</td>\n",
              "      <td>Kolkata</td>\n",
              "      <td>2015</td>\n",
              "      <td>480000</td>\n",
              "      <td>Petrol</td>\n",
              "      <td>Manual</td>\n",
              "      <td>First</td>\n",
              "      <td>17.4 kmpl</td>\n",
              "      <td>1497 CC</td>\n",
              "      <td>117.3 bhp</td>\n",
              "      <td>5.0</td>\n",
              "      <td>5.00</td>\n",
              "      <td>Honda</td>\n",
              "      <td>city</td>\n",
              "    </tr>\n",
              "    <tr>\n",
              "      <th>4491</th>\n",
              "      <td>Hyundai i20 Magna Optional 1.2</td>\n",
              "      <td>Bangalore</td>\n",
              "      <td>2013</td>\n",
              "      <td>445000</td>\n",
              "      <td>Petrol</td>\n",
              "      <td>Manual</td>\n",
              "      <td>First</td>\n",
              "      <td>18.5 kmpl</td>\n",
              "      <td>1197 CC</td>\n",
              "      <td>82.9 bhp</td>\n",
              "      <td>5.0</td>\n",
              "      <td>4.45</td>\n",
              "      <td>Hyundai</td>\n",
              "      <td>i20</td>\n",
              "    </tr>\n",
              "  </tbody>\n",
              "</table>\n",
              "</div>"
            ],
            "text/plain": [
              "                                                 Name   Location  Year  \\\n",
              "340            Skoda Octavia Ambition Plus 2.0 TDI AT    Kolkata  2013   \n",
              "358                             Hyundai i10 Magna 1.2    Chennai  2009   \n",
              "1860                 Volkswagen Vento Diesel Highline    Chennai  2013   \n",
              "2328                        BMW X5 xDrive 30d M Sport    Chennai  2017   \n",
              "2823  Volkswagen Jetta 2013-2015 2.0L TDI Highline AT    Chennai  2015   \n",
              "3092                             Honda City i VTEC SV    Kolkata  2015   \n",
              "4491                   Hyundai i20 Magna Optional 1.2  Bangalore  2013   \n",
              "\n",
              "      Kilometers_Driven Fuel_Type Transmission Owner_Type     Mileage  \\\n",
              "340              775000    Diesel    Automatic      First   19.3 kmpl   \n",
              "358              620000    Petrol       Manual      First  20.36 kmpl   \n",
              "1860             720000    Diesel       Manual      First  20.54 kmpl   \n",
              "2328            6500000    Diesel    Automatic      First  15.97 kmpl   \n",
              "2823             480000    Diesel    Automatic      First  16.96 kmpl   \n",
              "3092             480000    Petrol       Manual      First   17.4 kmpl   \n",
              "4491             445000    Petrol       Manual      First   18.5 kmpl   \n",
              "\n",
              "       Engine       Power  Seats  Price  carCompany carModel  \n",
              "340   1968 CC     141 bhp    5.0   7.50       Skoda  octavia  \n",
              "358   1197 CC    78.9 bhp    5.0   2.70     Hyundai      i10  \n",
              "1860  1598 CC   103.6 bhp    5.0   5.90  Volkswagen    vento  \n",
              "2328  2993 CC     258 bhp    5.0  65.00         Bmw       x5  \n",
              "2823  1968 CC  138.03 bhp    5.0  13.00  Volkswagen    jetta  \n",
              "3092  1497 CC   117.3 bhp    5.0   5.00       Honda     city  \n",
              "4491  1197 CC    82.9 bhp    5.0   4.45     Hyundai      i20  "
            ]
          },
          "execution_count": 16,
          "metadata": {},
          "output_type": "execute_result"
        }
      ],
      "source": [
        "data[data.Kilometers_Driven>=400000]"
      ]
    },
    {
      "cell_type": "markdown",
      "metadata": {
        "id": "h9hyjmPI-tj1"
      },
      "source": [
        "##### So the outlier of this data is 6500000 kilometers driven bmw car from chennai"
      ]
    },
    {
      "cell_type": "code",
      "execution_count": null,
      "metadata": {
        "id": "9dvcqDVp-tj1",
        "outputId": "cbcb4d46-dca0-4541-a29c-11ba75fb3bcc"
      },
      "outputs": [
        {
          "data": {
            "text/plain": [
              "<matplotlib.axes._subplots.AxesSubplot at 0x214640b3b08>"
            ]
          },
          "execution_count": 17,
          "metadata": {},
          "output_type": "execute_result"
        },
        {
          "data": {
            "image/png": "[encoded data removed]",
            "text/plain": [
              "<Figure size 1152x576 with 1 Axes>"
            ]
          },
          "metadata": {
            "needs_background": "light"
          },
          "output_type": "display_data"
        }
      ],
      "source": [
        "plt.figure(figsize=(16,8))\n",
        "plt.title('Kilometers_Driven V/S Kilometers_Driven')\n",
        "sns.scatterplot('Kilometers_Driven','Kilometers_Driven', data=data)"
      ]
    },
    {
      "cell_type": "markdown",
      "metadata": {
        "id": "pkGVGlEn-tj1"
      },
      "source": [
        "## Fuel Type"
      ]
    },
    {
      "cell_type": "code",
      "execution_count": null,
      "metadata": {
        "id": "0wMYIWou-tj1",
        "outputId": "59ade624-184e-4b54-fa80-150c7b6cf4f3"
      },
      "outputs": [
        {
          "data": {
            "text/plain": [
              "Diesel      3205\n",
              "Petrol      2746\n",
              "CNG           56\n",
              "LPG           10\n",
              "Electric       2\n",
              "Name: Fuel_Type, dtype: int64"
            ]
          },
          "execution_count": 18,
          "metadata": {},
          "output_type": "execute_result"
        }
      ],
      "source": [
        "data.Fuel_Type.value_counts()"
      ]
    },
    {
      "cell_type": "code",
      "execution_count": null,
      "metadata": {
        "id": "kmRFpD1V-tj2",
        "outputId": "78f9cff6-2fd7-455a-dc30-8bbeacbb204a"
      },
      "outputs": [
        {
          "data": {
            "text/plain": [
              "Text(0.5, 1.0, 'Fuel Type Count')"
            ]
          },
          "execution_count": 19,
          "metadata": {},
          "output_type": "execute_result"
        },
        {
          "data": {
            "image/png": "[encoded data removed]",
            "text/plain": [
              "<Figure size 720x360 with 1 Axes>"
            ]
          },
          "metadata": {
            "needs_background": "light"
          },
          "output_type": "display_data"
        }
      ],
      "source": [
        "data.Fuel_Type.value_counts().plot(kind='bar')\n",
        "plt.title('Fuel Type Count')"
      ]
    },
    {
      "cell_type": "markdown",
      "metadata": {
        "id": "jx9mMNJT-tj2"
      },
      "source": [
        "#### Most of the cars Fuel are Diesel, Petrol Type."
      ]
    },
    {
      "cell_type": "markdown",
      "metadata": {
        "id": "3ZfsaWNC-tj2"
      },
      "source": [
        "## Owner Type"
      ]
    },
    {
      "cell_type": "code",
      "execution_count": null,
      "metadata": {
        "id": "lvCSYujM-tj2",
        "outputId": "2c2c4dce-06f3-4f9a-d9b7-1608f3087f09"
      },
      "outputs": [
        {
          "data": {
            "text/plain": [
              "First             4929\n",
              "Second             968\n",
              "Third              113\n",
              "Fourth & Above       9\n",
              "Name: Owner_Type, dtype: int64"
            ]
          },
          "execution_count": 20,
          "metadata": {},
          "output_type": "execute_result"
        }
      ],
      "source": [
        "data.Owner_Type.value_counts()"
      ]
    },
    {
      "cell_type": "markdown",
      "metadata": {
        "id": "nPyHgTh_-tj2"
      },
      "source": [
        "# Data Cleaning and Filling Null & Missing values"
      ]
    },
    {
      "cell_type": "markdown",
      "metadata": {
        "id": "nwM-gYP5-tj2"
      },
      "source": [
        "### Checking how many unique cars are there"
      ]
    },
    {
      "cell_type": "code",
      "execution_count": null,
      "metadata": {
        "id": "fur-a0If-tj2"
      },
      "outputs": [],
      "source": [
        "uniqueCars = data.Name.unique()"
      ]
    },
    {
      "cell_type": "code",
      "execution_count": null,
      "metadata": {
        "id": "XClrge1a-tj3",
        "outputId": "cddb5010-c6dd-4af8-b5c4-53343ee84219"
      },
      "outputs": [
        {
          "data": {
            "text/plain": [
              "1876"
            ]
          },
          "execution_count": 22,
          "metadata": {},
          "output_type": "execute_result"
        }
      ],
      "source": [
        "uniqueCars.size"
      ]
    },
    {
      "cell_type": "markdown",
      "metadata": {
        "id": "RAzPoHDr-tj3"
      },
      "source": [
        "### Checking Null values"
      ]
    },
    {
      "cell_type": "code",
      "execution_count": null,
      "metadata": {
        "id": "FEfZY9We-tj3",
        "outputId": "853b8f28-af16-49fd-fb09-3a72bfad1ac4"
      },
      "outputs": [
        {
          "data": {
            "text/plain": [
              "Name                  0\n",
              "Location              0\n",
              "Year                  0\n",
              "Kilometers_Driven     0\n",
              "Fuel_Type             0\n",
              "Transmission          0\n",
              "Owner_Type            0\n",
              "Mileage               2\n",
              "Engine               36\n",
              "Power                36\n",
              "Seats                42\n",
              "Price                 0\n",
              "carCompany            0\n",
              "carModel              0\n",
              "dtype: int64"
            ]
          },
          "execution_count": 23,
          "metadata": {},
          "output_type": "execute_result"
        }
      ],
      "source": [
        "data.isnull().sum()"
      ]
    },
    {
      "cell_type": "markdown",
      "metadata": {
        "id": "5vwnJzgZ-tj3"
      },
      "source": [
        "## Filled all null values of seats with 5"
      ]
    },
    {
      "cell_type": "code",
      "execution_count": null,
      "metadata": {
        "id": "TYkkg6CL-tj3"
      },
      "outputs": [],
      "source": [
        "data[\"Seats\"].fillna(5, inplace = True)"
      ]
    },
    {
      "cell_type": "markdown",
      "metadata": {
        "id": "6b9Y7czU-tj4"
      },
      "source": [
        "## Checking null columns "
      ]
    },
    {
      "cell_type": "code",
      "execution_count": null,
      "metadata": {
        "id": "MYbERcNh-tj4",
        "outputId": "1380f917-4cd7-434a-fd59-698ccbf8db2f"
      },
      "outputs": [
        {
          "data": {
            "text/plain": [
              "Name                  0\n",
              "Location              0\n",
              "Year                  0\n",
              "Kilometers_Driven     0\n",
              "Fuel_Type             0\n",
              "Transmission          0\n",
              "Owner_Type            0\n",
              "Mileage               2\n",
              "Engine               36\n",
              "Power                36\n",
              "Seats                 0\n",
              "Price                 0\n",
              "carCompany            0\n",
              "carModel              0\n",
              "dtype: int64"
            ]
          },
          "execution_count": 25,
          "metadata": {},
          "output_type": "execute_result"
        }
      ],
      "source": [
        "data.isnull().sum()"
      ]
    },
    {
      "cell_type": "markdown",
      "metadata": {
        "id": "ENN0wynQ-tj5"
      },
      "source": [
        "## Removing CC from Engine column & Adding Clean Engine column to the dataset"
      ]
    },
    {
      "cell_type": "code",
      "execution_count": null,
      "metadata": {
        "id": "45AvV_hx-tj5"
      },
      "outputs": [],
      "source": [
        "cleanEngine = (data.Engine.str.split(' ').str[0]) "
      ]
    },
    {
      "cell_type": "code",
      "execution_count": null,
      "metadata": {
        "id": "kmXehyXE-tj5",
        "outputId": "118c22cb-4f2e-47c0-e38b-d132fcaeedee"
      },
      "outputs": [
        {
          "data": {
            "text/plain": [
              "0        998\n",
              "1       1582\n",
              "2       1199\n",
              "3       1248\n",
              "4       1968\n",
              "        ... \n",
              "6014    1248\n",
              "6015    1120\n",
              "6016    2498\n",
              "6017     998\n",
              "6018     936\n",
              "Name: Engine, Length: 6019, dtype: object"
            ]
          },
          "execution_count": 27,
          "metadata": {},
          "output_type": "execute_result"
        }
      ],
      "source": [
        "cleanEngine"
      ]
    },
    {
      "cell_type": "code",
      "execution_count": null,
      "metadata": {
        "id": "jxfveAGS-tj5"
      },
      "outputs": [],
      "source": [
        "data['cleanEngine'] = cleanEngine "
      ]
    },
    {
      "cell_type": "code",
      "execution_count": null,
      "metadata": {
        "id": "X0kDfugW-tj5",
        "outputId": "2f939581-2590-4258-a3d0-4152feff752f"
      },
      "outputs": [
        {
          "data": {
            "text/html": [
              "<div>\n",
              "<style scoped>\n",
              "    .dataframe tbody tr th:only-of-type {\n",
              "        vertical-align: middle;\n",
              "    }\n",
              "\n",
              "    .dataframe tbody tr th {\n",
              "        vertical-align: top;\n",
              "    }\n",
              "\n",
              "    .dataframe thead th {\n",
              "        text-align: right;\n",
              "    }\n",
              "</style>\n",
              "<table border=\"1\" class=\"dataframe\">\n",
              "  <thead>\n",
              "    <tr style=\"text-align: right;\">\n",
              "      <th></th>\n",
              "      <th>Name</th>\n",
              "      <th>Location</th>\n",
              "      <th>Year</th>\n",
              "      <th>Kilometers_Driven</th>\n",
              "      <th>Fuel_Type</th>\n",
              "      <th>Transmission</th>\n",
              "      <th>Owner_Type</th>\n",
              "      <th>Mileage</th>\n",
              "      <th>Engine</th>\n",
              "      <th>Power</th>\n",
              "      <th>Seats</th>\n",
              "      <th>Price</th>\n",
              "      <th>carCompany</th>\n",
              "      <th>carModel</th>\n",
              "      <th>cleanEngine</th>\n",
              "    </tr>\n",
              "  </thead>\n",
              "  <tbody>\n",
              "    <tr>\n",
              "      <th>0</th>\n",
              "      <td>Maruti Wagon R LXI CNG</td>\n",
              "      <td>Mumbai</td>\n",
              "      <td>2010</td>\n",
              "      <td>72000</td>\n",
              "      <td>CNG</td>\n",
              "      <td>Manual</td>\n",
              "      <td>First</td>\n",
              "      <td>26.6 km/kg</td>\n",
              "      <td>998 CC</td>\n",
              "      <td>58.16 bhp</td>\n",
              "      <td>5.0</td>\n",
              "      <td>1.75</td>\n",
              "      <td>Maruti</td>\n",
              "      <td>wagon</td>\n",
              "      <td>998</td>\n",
              "    </tr>\n",
              "    <tr>\n",
              "      <th>1</th>\n",
              "      <td>Hyundai Creta 1.6 CRDi SX Option</td>\n",
              "      <td>Pune</td>\n",
              "      <td>2015</td>\n",
              "      <td>41000</td>\n",
              "      <td>Diesel</td>\n",
              "      <td>Manual</td>\n",
              "      <td>First</td>\n",
              "      <td>19.67 kmpl</td>\n",
              "      <td>1582 CC</td>\n",
              "      <td>126.2 bhp</td>\n",
              "      <td>5.0</td>\n",
              "      <td>12.50</td>\n",
              "      <td>Hyundai</td>\n",
              "      <td>creta</td>\n",
              "      <td>1582</td>\n",
              "    </tr>\n",
              "    <tr>\n",
              "      <th>2</th>\n",
              "      <td>Honda Jazz V</td>\n",
              "      <td>Chennai</td>\n",
              "      <td>2011</td>\n",
              "      <td>46000</td>\n",
              "      <td>Petrol</td>\n",
              "      <td>Manual</td>\n",
              "      <td>First</td>\n",
              "      <td>18.2 kmpl</td>\n",
              "      <td>1199 CC</td>\n",
              "      <td>88.7 bhp</td>\n",
              "      <td>5.0</td>\n",
              "      <td>4.50</td>\n",
              "      <td>Honda</td>\n",
              "      <td>jazz</td>\n",
              "      <td>1199</td>\n",
              "    </tr>\n",
              "    <tr>\n",
              "      <th>3</th>\n",
              "      <td>Maruti Ertiga VDI</td>\n",
              "      <td>Chennai</td>\n",
              "      <td>2012</td>\n",
              "      <td>87000</td>\n",
              "      <td>Diesel</td>\n",
              "      <td>Manual</td>\n",
              "      <td>First</td>\n",
              "      <td>20.77 kmpl</td>\n",
              "      <td>1248 CC</td>\n",
              "      <td>88.76 bhp</td>\n",
              "      <td>7.0</td>\n",
              "      <td>6.00</td>\n",
              "      <td>Maruti</td>\n",
              "      <td>ertiga</td>\n",
              "      <td>1248</td>\n",
              "    </tr>\n",
              "    <tr>\n",
              "      <th>4</th>\n",
              "      <td>Audi A4 New 2.0 TDI Multitronic</td>\n",
              "      <td>Coimbatore</td>\n",
              "      <td>2013</td>\n",
              "      <td>40670</td>\n",
              "      <td>Diesel</td>\n",
              "      <td>Automatic</td>\n",
              "      <td>Second</td>\n",
              "      <td>15.2 kmpl</td>\n",
              "      <td>1968 CC</td>\n",
              "      <td>140.8 bhp</td>\n",
              "      <td>5.0</td>\n",
              "      <td>17.74</td>\n",
              "      <td>Audi</td>\n",
              "      <td>a4</td>\n",
              "      <td>1968</td>\n",
              "    </tr>\n",
              "  </tbody>\n",
              "</table>\n",
              "</div>"
            ],
            "text/plain": [
              "                               Name    Location  Year  Kilometers_Driven  \\\n",
              "0            Maruti Wagon R LXI CNG      Mumbai  2010              72000   \n",
              "1  Hyundai Creta 1.6 CRDi SX Option        Pune  2015              41000   \n",
              "2                      Honda Jazz V     Chennai  2011              46000   \n",
              "3                 Maruti Ertiga VDI     Chennai  2012              87000   \n",
              "4   Audi A4 New 2.0 TDI Multitronic  Coimbatore  2013              40670   \n",
              "\n",
              "  Fuel_Type Transmission Owner_Type     Mileage   Engine      Power  Seats  \\\n",
              "0       CNG       Manual      First  26.6 km/kg   998 CC  58.16 bhp    5.0   \n",
              "1    Diesel       Manual      First  19.67 kmpl  1582 CC  126.2 bhp    5.0   \n",
              "2    Petrol       Manual      First   18.2 kmpl  1199 CC   88.7 bhp    5.0   \n",
              "3    Diesel       Manual      First  20.77 kmpl  1248 CC  88.76 bhp    7.0   \n",
              "4    Diesel    Automatic     Second   15.2 kmpl  1968 CC  140.8 bhp    5.0   \n",
              "\n",
              "   Price carCompany carModel cleanEngine  \n",
              "0   1.75     Maruti    wagon         998  \n",
              "1  12.50    Hyundai    creta        1582  \n",
              "2   4.50      Honda     jazz        1199  \n",
              "3   6.00     Maruti   ertiga        1248  \n",
              "4  17.74       Audi       a4        1968  "
            ]
          },
          "execution_count": 29,
          "metadata": {},
          "output_type": "execute_result"
        }
      ],
      "source": [
        "data.head(5)"
      ]
    },
    {
      "cell_type": "markdown",
      "metadata": {
        "id": "nkQsoOsT-tj6"
      },
      "source": [
        "# Removing bhp from Power column & Adding a Clean Power column to the dataset"
      ]
    },
    {
      "cell_type": "code",
      "execution_count": null,
      "metadata": {
        "id": "la9UOEpN-tj6"
      },
      "outputs": [],
      "source": [
        "cleanPower = (data.Power.str.split(' ').str[0])"
      ]
    },
    {
      "cell_type": "code",
      "execution_count": null,
      "metadata": {
        "id": "eFLpKG-w-tj6",
        "outputId": "8f86cd73-2c29-451a-d9f1-665937a68a0d"
      },
      "outputs": [
        {
          "data": {
            "text/plain": [
              "0       58.16\n",
              "1       126.2\n",
              "2        88.7\n",
              "3       88.76\n",
              "4       140.8\n",
              "        ...  \n",
              "6014       74\n",
              "6015       71\n",
              "6016      112\n",
              "6017     67.1\n",
              "6018     57.6\n",
              "Name: Power, Length: 6019, dtype: object"
            ]
          },
          "execution_count": 31,
          "metadata": {},
          "output_type": "execute_result"
        }
      ],
      "source": [
        "cleanPower"
      ]
    },
    {
      "cell_type": "code",
      "execution_count": null,
      "metadata": {
        "id": "_zVFUCSG-tj6"
      },
      "outputs": [],
      "source": [
        "data['cleanPower'] = cleanPower"
      ]
    },
    {
      "cell_type": "code",
      "execution_count": null,
      "metadata": {
        "id": "x4--AtCQ-tj6",
        "outputId": "fef6664c-3335-488a-b622-4f7e9c2bbe00"
      },
      "outputs": [
        {
          "data": {
            "text/html": [
              "<div>\n",
              "<style scoped>\n",
              "    .dataframe tbody tr th:only-of-type {\n",
              "        vertical-align: middle;\n",
              "    }\n",
              "\n",
              "    .dataframe tbody tr th {\n",
              "        vertical-align: top;\n",
              "    }\n",
              "\n",
              "    .dataframe thead th {\n",
              "        text-align: right;\n",
              "    }\n",
              "</style>\n",
              "<table border=\"1\" class=\"dataframe\">\n",
              "  <thead>\n",
              "    <tr style=\"text-align: right;\">\n",
              "      <th></th>\n",
              "      <th>Name</th>\n",
              "      <th>Location</th>\n",
              "      <th>Year</th>\n",
              "      <th>Kilometers_Driven</th>\n",
              "      <th>Fuel_Type</th>\n",
              "      <th>Transmission</th>\n",
              "      <th>Owner_Type</th>\n",
              "      <th>Mileage</th>\n",
              "      <th>Engine</th>\n",
              "      <th>Power</th>\n",
              "      <th>Seats</th>\n",
              "      <th>Price</th>\n",
              "      <th>carCompany</th>\n",
              "      <th>carModel</th>\n",
              "      <th>cleanEngine</th>\n",
              "      <th>cleanPower</th>\n",
              "    </tr>\n",
              "  </thead>\n",
              "  <tbody>\n",
              "    <tr>\n",
              "      <th>0</th>\n",
              "      <td>Maruti Wagon R LXI CNG</td>\n",
              "      <td>Mumbai</td>\n",
              "      <td>2010</td>\n",
              "      <td>72000</td>\n",
              "      <td>CNG</td>\n",
              "      <td>Manual</td>\n",
              "      <td>First</td>\n",
              "      <td>26.6 km/kg</td>\n",
              "      <td>998 CC</td>\n",
              "      <td>58.16 bhp</td>\n",
              "      <td>5.0</td>\n",
              "      <td>1.75</td>\n",
              "      <td>Maruti</td>\n",
              "      <td>wagon</td>\n",
              "      <td>998</td>\n",
              "      <td>58.16</td>\n",
              "    </tr>\n",
              "    <tr>\n",
              "      <th>1</th>\n",
              "      <td>Hyundai Creta 1.6 CRDi SX Option</td>\n",
              "      <td>Pune</td>\n",
              "      <td>2015</td>\n",
              "      <td>41000</td>\n",
              "      <td>Diesel</td>\n",
              "      <td>Manual</td>\n",
              "      <td>First</td>\n",
              "      <td>19.67 kmpl</td>\n",
              "      <td>1582 CC</td>\n",
              "      <td>126.2 bhp</td>\n",
              "      <td>5.0</td>\n",
              "      <td>12.50</td>\n",
              "      <td>Hyundai</td>\n",
              "      <td>creta</td>\n",
              "      <td>1582</td>\n",
              "      <td>126.2</td>\n",
              "    </tr>\n",
              "    <tr>\n",
              "      <th>2</th>\n",
              "      <td>Honda Jazz V</td>\n",
              "      <td>Chennai</td>\n",
              "      <td>2011</td>\n",
              "      <td>46000</td>\n",
              "      <td>Petrol</td>\n",
              "      <td>Manual</td>\n",
              "      <td>First</td>\n",
              "      <td>18.2 kmpl</td>\n",
              "      <td>1199 CC</td>\n",
              "      <td>88.7 bhp</td>\n",
              "      <td>5.0</td>\n",
              "      <td>4.50</td>\n",
              "      <td>Honda</td>\n",
              "      <td>jazz</td>\n",
              "      <td>1199</td>\n",
              "      <td>88.7</td>\n",
              "    </tr>\n",
              "    <tr>\n",
              "      <th>3</th>\n",
              "      <td>Maruti Ertiga VDI</td>\n",
              "      <td>Chennai</td>\n",
              "      <td>2012</td>\n",
              "      <td>87000</td>\n",
              "      <td>Diesel</td>\n",
              "      <td>Manual</td>\n",
              "      <td>First</td>\n",
              "      <td>20.77 kmpl</td>\n",
              "      <td>1248 CC</td>\n",
              "      <td>88.76 bhp</td>\n",
              "      <td>7.0</td>\n",
              "      <td>6.00</td>\n",
              "      <td>Maruti</td>\n",
              "      <td>ertiga</td>\n",
              "      <td>1248</td>\n",
              "      <td>88.76</td>\n",
              "    </tr>\n",
              "    <tr>\n",
              "      <th>4</th>\n",
              "      <td>Audi A4 New 2.0 TDI Multitronic</td>\n",
              "      <td>Coimbatore</td>\n",
              "      <td>2013</td>\n",
              "      <td>40670</td>\n",
              "      <td>Diesel</td>\n",
              "      <td>Automatic</td>\n",
              "      <td>Second</td>\n",
              "      <td>15.2 kmpl</td>\n",
              "      <td>1968 CC</td>\n",
              "      <td>140.8 bhp</td>\n",
              "      <td>5.0</td>\n",
              "      <td>17.74</td>\n",
              "      <td>Audi</td>\n",
              "      <td>a4</td>\n",
              "      <td>1968</td>\n",
              "      <td>140.8</td>\n",
              "    </tr>\n",
              "  </tbody>\n",
              "</table>\n",
              "</div>"
            ],
            "text/plain": [
              "                               Name    Location  Year  Kilometers_Driven  \\\n",
              "0            Maruti Wagon R LXI CNG      Mumbai  2010              72000   \n",
              "1  Hyundai Creta 1.6 CRDi SX Option        Pune  2015              41000   \n",
              "2                      Honda Jazz V     Chennai  2011              46000   \n",
              "3                 Maruti Ertiga VDI     Chennai  2012              87000   \n",
              "4   Audi A4 New 2.0 TDI Multitronic  Coimbatore  2013              40670   \n",
              "\n",
              "  Fuel_Type Transmission Owner_Type     Mileage   Engine      Power  Seats  \\\n",
              "0       CNG       Manual      First  26.6 km/kg   998 CC  58.16 bhp    5.0   \n",
              "1    Diesel       Manual      First  19.67 kmpl  1582 CC  126.2 bhp    5.0   \n",
              "2    Petrol       Manual      First   18.2 kmpl  1199 CC   88.7 bhp    5.0   \n",
              "3    Diesel       Manual      First  20.77 kmpl  1248 CC  88.76 bhp    7.0   \n",
              "4    Diesel    Automatic     Second   15.2 kmpl  1968 CC  140.8 bhp    5.0   \n",
              "\n",
              "   Price carCompany carModel cleanEngine cleanPower  \n",
              "0   1.75     Maruti    wagon         998      58.16  \n",
              "1  12.50    Hyundai    creta        1582      126.2  \n",
              "2   4.50      Honda     jazz        1199       88.7  \n",
              "3   6.00     Maruti   ertiga        1248      88.76  \n",
              "4  17.74       Audi       a4        1968      140.8  "
            ]
          },
          "execution_count": 33,
          "metadata": {},
          "output_type": "execute_result"
        }
      ],
      "source": [
        "data.head(5)"
      ]
    },
    {
      "cell_type": "markdown",
      "metadata": {
        "id": "u7eJCReS-tj7"
      },
      "source": [
        "## Removing km/kg or kmpl from Mileage column & Adding a Clean Mileage to the dataset"
      ]
    },
    {
      "cell_type": "code",
      "execution_count": null,
      "metadata": {
        "id": "BW-7nh04-tj7"
      },
      "outputs": [],
      "source": [
        "cleanMileage = (data.Mileage.str.split(' ').str[0])"
      ]
    },
    {
      "cell_type": "code",
      "execution_count": null,
      "metadata": {
        "id": "somxHT3O-tj7"
      },
      "outputs": [],
      "source": [
        "data['cleanMileage'] = cleanMileage "
      ]
    },
    {
      "cell_type": "code",
      "execution_count": null,
      "metadata": {
        "id": "WrggMj2A-tj7",
        "outputId": "825a80cb-62ba-44f6-da42-8da5e812aa2c"
      },
      "outputs": [
        {
          "data": {
            "text/html": [
              "<div>\n",
              "<style scoped>\n",
              "    .dataframe tbody tr th:only-of-type {\n",
              "        vertical-align: middle;\n",
              "    }\n",
              "\n",
              "    .dataframe tbody tr th {\n",
              "        vertical-align: top;\n",
              "    }\n",
              "\n",
              "    .dataframe thead th {\n",
              "        text-align: right;\n",
              "    }\n",
              "</style>\n",
              "<table border=\"1\" class=\"dataframe\">\n",
              "  <thead>\n",
              "    <tr style=\"text-align: right;\">\n",
              "      <th></th>\n",
              "      <th>Name</th>\n",
              "      <th>Location</th>\n",
              "      <th>Year</th>\n",
              "      <th>Kilometers_Driven</th>\n",
              "      <th>Fuel_Type</th>\n",
              "      <th>Transmission</th>\n",
              "      <th>Owner_Type</th>\n",
              "      <th>Mileage</th>\n",
              "      <th>Engine</th>\n",
              "      <th>Power</th>\n",
              "      <th>Seats</th>\n",
              "      <th>Price</th>\n",
              "      <th>carCompany</th>\n",
              "      <th>carModel</th>\n",
              "      <th>cleanEngine</th>\n",
              "      <th>cleanPower</th>\n",
              "      <th>cleanMileage</th>\n",
              "    </tr>\n",
              "  </thead>\n",
              "  <tbody>\n",
              "    <tr>\n",
              "      <th>0</th>\n",
              "      <td>Maruti Wagon R LXI CNG</td>\n",
              "      <td>Mumbai</td>\n",
              "      <td>2010</td>\n",
              "      <td>72000</td>\n",
              "      <td>CNG</td>\n",
              "      <td>Manual</td>\n",
              "      <td>First</td>\n",
              "      <td>26.6 km/kg</td>\n",
              "      <td>998 CC</td>\n",
              "      <td>58.16 bhp</td>\n",
              "      <td>5.0</td>\n",
              "      <td>1.75</td>\n",
              "      <td>Maruti</td>\n",
              "      <td>wagon</td>\n",
              "      <td>998</td>\n",
              "      <td>58.16</td>\n",
              "      <td>26.6</td>\n",
              "    </tr>\n",
              "    <tr>\n",
              "      <th>1</th>\n",
              "      <td>Hyundai Creta 1.6 CRDi SX Option</td>\n",
              "      <td>Pune</td>\n",
              "      <td>2015</td>\n",
              "      <td>41000</td>\n",
              "      <td>Diesel</td>\n",
              "      <td>Manual</td>\n",
              "      <td>First</td>\n",
              "      <td>19.67 kmpl</td>\n",
              "      <td>1582 CC</td>\n",
              "      <td>126.2 bhp</td>\n",
              "      <td>5.0</td>\n",
              "      <td>12.50</td>\n",
              "      <td>Hyundai</td>\n",
              "      <td>creta</td>\n",
              "      <td>1582</td>\n",
              "      <td>126.2</td>\n",
              "      <td>19.67</td>\n",
              "    </tr>\n",
              "    <tr>\n",
              "      <th>2</th>\n",
              "      <td>Honda Jazz V</td>\n",
              "      <td>Chennai</td>\n",
              "      <td>2011</td>\n",
              "      <td>46000</td>\n",
              "      <td>Petrol</td>\n",
              "      <td>Manual</td>\n",
              "      <td>First</td>\n",
              "      <td>18.2 kmpl</td>\n",
              "      <td>1199 CC</td>\n",
              "      <td>88.7 bhp</td>\n",
              "      <td>5.0</td>\n",
              "      <td>4.50</td>\n",
              "      <td>Honda</td>\n",
              "      <td>jazz</td>\n",
              "      <td>1199</td>\n",
              "      <td>88.7</td>\n",
              "      <td>18.2</td>\n",
              "    </tr>\n",
              "    <tr>\n",
              "      <th>3</th>\n",
              "      <td>Maruti Ertiga VDI</td>\n",
              "      <td>Chennai</td>\n",
              "      <td>2012</td>\n",
              "      <td>87000</td>\n",
              "      <td>Diesel</td>\n",
              "      <td>Manual</td>\n",
              "      <td>First</td>\n",
              "      <td>20.77 kmpl</td>\n",
              "      <td>1248 CC</td>\n",
              "      <td>88.76 bhp</td>\n",
              "      <td>7.0</td>\n",
              "      <td>6.00</td>\n",
              "      <td>Maruti</td>\n",
              "      <td>ertiga</td>\n",
              "      <td>1248</td>\n",
              "      <td>88.76</td>\n",
              "      <td>20.77</td>\n",
              "    </tr>\n",
              "    <tr>\n",
              "      <th>4</th>\n",
              "      <td>Audi A4 New 2.0 TDI Multitronic</td>\n",
              "      <td>Coimbatore</td>\n",
              "      <td>2013</td>\n",
              "      <td>40670</td>\n",
              "      <td>Diesel</td>\n",
              "      <td>Automatic</td>\n",
              "      <td>Second</td>\n",
              "      <td>15.2 kmpl</td>\n",
              "      <td>1968 CC</td>\n",
              "      <td>140.8 bhp</td>\n",
              "      <td>5.0</td>\n",
              "      <td>17.74</td>\n",
              "      <td>Audi</td>\n",
              "      <td>a4</td>\n",
              "      <td>1968</td>\n",
              "      <td>140.8</td>\n",
              "      <td>15.2</td>\n",
              "    </tr>\n",
              "  </tbody>\n",
              "</table>\n",
              "</div>"
            ],
            "text/plain": [
              "                               Name    Location  Year  Kilometers_Driven  \\\n",
              "0            Maruti Wagon R LXI CNG      Mumbai  2010              72000   \n",
              "1  Hyundai Creta 1.6 CRDi SX Option        Pune  2015              41000   \n",
              "2                      Honda Jazz V     Chennai  2011              46000   \n",
              "3                 Maruti Ertiga VDI     Chennai  2012              87000   \n",
              "4   Audi A4 New 2.0 TDI Multitronic  Coimbatore  2013              40670   \n",
              "\n",
              "  Fuel_Type Transmission Owner_Type     Mileage   Engine      Power  Seats  \\\n",
              "0       CNG       Manual      First  26.6 km/kg   998 CC  58.16 bhp    5.0   \n",
              "1    Diesel       Manual      First  19.67 kmpl  1582 CC  126.2 bhp    5.0   \n",
              "2    Petrol       Manual      First   18.2 kmpl  1199 CC   88.7 bhp    5.0   \n",
              "3    Diesel       Manual      First  20.77 kmpl  1248 CC  88.76 bhp    7.0   \n",
              "4    Diesel    Automatic     Second   15.2 kmpl  1968 CC  140.8 bhp    5.0   \n",
              "\n",
              "   Price carCompany carModel cleanEngine cleanPower cleanMileage  \n",
              "0   1.75     Maruti    wagon         998      58.16         26.6  \n",
              "1  12.50    Hyundai    creta        1582      126.2        19.67  \n",
              "2   4.50      Honda     jazz        1199       88.7         18.2  \n",
              "3   6.00     Maruti   ertiga        1248      88.76        20.77  \n",
              "4  17.74       Audi       a4        1968      140.8         15.2  "
            ]
          },
          "execution_count": 36,
          "metadata": {},
          "output_type": "execute_result"
        }
      ],
      "source": [
        "data.head(5)"
      ]
    },
    {
      "cell_type": "code",
      "execution_count": null,
      "metadata": {
        "id": "TerOLW3U-tj7",
        "outputId": "7e7af09e-05a0-4e48-d365-b8004fb38692"
      },
      "outputs": [
        {
          "data": {
            "text/plain": [
              "Name                  0\n",
              "Location              0\n",
              "Year                  0\n",
              "Kilometers_Driven     0\n",
              "Fuel_Type             0\n",
              "Transmission          0\n",
              "Owner_Type            0\n",
              "Mileage               2\n",
              "Engine               36\n",
              "Power                36\n",
              "Seats                 0\n",
              "Price                 0\n",
              "carCompany            0\n",
              "carModel              0\n",
              "cleanEngine          36\n",
              "cleanPower           36\n",
              "cleanMileage          2\n",
              "dtype: int64"
            ]
          },
          "execution_count": 37,
          "metadata": {},
          "output_type": "execute_result"
        }
      ],
      "source": [
        "data.isnull().sum()"
      ]
    },
    {
      "cell_type": "markdown",
      "metadata": {
        "id": "lgTAeWpj-tj7"
      },
      "source": [
        "## Changing null values to missing values\n",
        "          i.e filling null values as zero(0)"
      ]
    },
    {
      "cell_type": "code",
      "execution_count": null,
      "metadata": {
        "id": "WHurMBxG-tj7"
      },
      "outputs": [],
      "source": [
        "data[\"cleanMileage\"].fillna(0, inplace = True)\n",
        "\n",
        "data[\"cleanEngine\"].fillna(0, inplace = True)\n",
        "\n",
        "data[\"cleanPower\"].fillna(0, inplace = True)"
      ]
    },
    {
      "cell_type": "code",
      "execution_count": null,
      "metadata": {
        "id": "nECHIqf6-tj8",
        "outputId": "8a105043-2faa-4ed4-a93e-8fad2f72066a"
      },
      "outputs": [
        {
          "data": {
            "text/plain": [
              "Name                  0\n",
              "Location              0\n",
              "Year                  0\n",
              "Kilometers_Driven     0\n",
              "Fuel_Type             0\n",
              "Transmission          0\n",
              "Owner_Type            0\n",
              "Mileage               2\n",
              "Engine               36\n",
              "Power                36\n",
              "Seats                 0\n",
              "Price                 0\n",
              "carCompany            0\n",
              "carModel              0\n",
              "cleanEngine           0\n",
              "cleanPower            0\n",
              "cleanMileage          0\n",
              "dtype: int64"
            ]
          },
          "execution_count": 39,
          "metadata": {},
          "output_type": "execute_result"
        }
      ],
      "source": [
        "data.isnull().sum()"
      ]
    },
    {
      "cell_type": "markdown",
      "metadata": {
        "id": "rN8bHV33-tj8"
      },
      "source": [
        "## Checking data type of all columns"
      ]
    },
    {
      "cell_type": "code",
      "execution_count": null,
      "metadata": {
        "id": "dCKhP9xC-tj8",
        "outputId": "759de4e0-4883-4225-867d-c2f6b8bf7a26"
      },
      "outputs": [
        {
          "data": {
            "text/plain": [
              "Name                  object\n",
              "Location              object\n",
              "Year                   int64\n",
              "Kilometers_Driven      int64\n",
              "Fuel_Type             object\n",
              "Transmission          object\n",
              "Owner_Type            object\n",
              "Mileage               object\n",
              "Engine                object\n",
              "Power                 object\n",
              "Seats                float64\n",
              "Price                float64\n",
              "carCompany            object\n",
              "carModel              object\n",
              "cleanEngine           object\n",
              "cleanPower            object\n",
              "cleanMileage          object\n",
              "dtype: object"
            ]
          },
          "execution_count": 40,
          "metadata": {},
          "output_type": "execute_result"
        }
      ],
      "source": [
        "data.dtypes"
      ]
    },
    {
      "cell_type": "markdown",
      "metadata": {
        "id": "9c3ataRP-tj8"
      },
      "source": [
        "## Changing data type of cleanMileage, cleanEngine and cleanPower from object to numeric"
      ]
    },
    {
      "cell_type": "code",
      "execution_count": null,
      "metadata": {
        "id": "rARnmkli-tj9"
      },
      "outputs": [],
      "source": [
        "data[\"cleanMileage\"] = pd.to_numeric(data[\"cleanMileage\"])\n",
        "\n",
        "data[\"cleanEngine\"] = pd.to_numeric(data[\"cleanEngine\"])\n",
        "\n",
        "data.cleanPower.replace('null','0.0',inplace=True)\n",
        "data[\"cleanPower\"] = pd.to_numeric(data[\"cleanPower\"])"
      ]
    },
    {
      "cell_type": "code",
      "execution_count": null,
      "metadata": {
        "scrolled": true,
        "id": "I5pdIvgh-tj9",
        "outputId": "492ffabd-cad8-437e-cad4-747a108491e0"
      },
      "outputs": [
        {
          "data": {
            "text/plain": [
              "Name                  object\n",
              "Location              object\n",
              "Year                   int64\n",
              "Kilometers_Driven      int64\n",
              "Fuel_Type             object\n",
              "Transmission          object\n",
              "Owner_Type            object\n",
              "Mileage               object\n",
              "Engine                object\n",
              "Power                 object\n",
              "Seats                float64\n",
              "Price                float64\n",
              "carCompany            object\n",
              "carModel              object\n",
              "cleanEngine            int64\n",
              "cleanPower           float64\n",
              "cleanMileage         float64\n",
              "dtype: object"
            ]
          },
          "execution_count": 42,
          "metadata": {},
          "output_type": "execute_result"
        }
      ],
      "source": [
        "data.dtypes"
      ]
    },
    {
      "cell_type": "code",
      "execution_count": null,
      "metadata": {
        "scrolled": true,
        "id": "D1D7uIY5-tj-",
        "outputId": "e5ca3906-198d-45b3-f728-844c5f720455"
      },
      "outputs": [
        {
          "data": {
            "text/html": [
              "<div>\n",
              "<style scoped>\n",
              "    .dataframe tbody tr th:only-of-type {\n",
              "        vertical-align: middle;\n",
              "    }\n",
              "\n",
              "    .dataframe tbody tr th {\n",
              "        vertical-align: top;\n",
              "    }\n",
              "\n",
              "    .dataframe thead th {\n",
              "        text-align: right;\n",
              "    }\n",
              "</style>\n",
              "<table border=\"1\" class=\"dataframe\">\n",
              "  <thead>\n",
              "    <tr style=\"text-align: right;\">\n",
              "      <th></th>\n",
              "      <th>Name</th>\n",
              "      <th>Location</th>\n",
              "      <th>Year</th>\n",
              "      <th>Kilometers_Driven</th>\n",
              "      <th>Fuel_Type</th>\n",
              "      <th>Transmission</th>\n",
              "      <th>Owner_Type</th>\n",
              "      <th>Mileage</th>\n",
              "      <th>Engine</th>\n",
              "      <th>Power</th>\n",
              "      <th>Seats</th>\n",
              "      <th>Price</th>\n",
              "      <th>carCompany</th>\n",
              "      <th>carModel</th>\n",
              "      <th>cleanEngine</th>\n",
              "      <th>cleanPower</th>\n",
              "      <th>cleanMileage</th>\n",
              "    </tr>\n",
              "  </thead>\n",
              "  <tbody>\n",
              "    <tr>\n",
              "      <th>0</th>\n",
              "      <td>Maruti Wagon R LXI CNG</td>\n",
              "      <td>Mumbai</td>\n",
              "      <td>2010</td>\n",
              "      <td>72000</td>\n",
              "      <td>CNG</td>\n",
              "      <td>Manual</td>\n",
              "      <td>First</td>\n",
              "      <td>26.6 km/kg</td>\n",
              "      <td>998 CC</td>\n",
              "      <td>58.16 bhp</td>\n",
              "      <td>5.0</td>\n",
              "      <td>1.75</td>\n",
              "      <td>Maruti</td>\n",
              "      <td>wagon</td>\n",
              "      <td>998</td>\n",
              "      <td>58.16</td>\n",
              "      <td>26.60</td>\n",
              "    </tr>\n",
              "    <tr>\n",
              "      <th>1</th>\n",
              "      <td>Hyundai Creta 1.6 CRDi SX Option</td>\n",
              "      <td>Pune</td>\n",
              "      <td>2015</td>\n",
              "      <td>41000</td>\n",
              "      <td>Diesel</td>\n",
              "      <td>Manual</td>\n",
              "      <td>First</td>\n",
              "      <td>19.67 kmpl</td>\n",
              "      <td>1582 CC</td>\n",
              "      <td>126.2 bhp</td>\n",
              "      <td>5.0</td>\n",
              "      <td>12.50</td>\n",
              "      <td>Hyundai</td>\n",
              "      <td>creta</td>\n",
              "      <td>1582</td>\n",
              "      <td>126.20</td>\n",
              "      <td>19.67</td>\n",
              "    </tr>\n",
              "    <tr>\n",
              "      <th>2</th>\n",
              "      <td>Honda Jazz V</td>\n",
              "      <td>Chennai</td>\n",
              "      <td>2011</td>\n",
              "      <td>46000</td>\n",
              "      <td>Petrol</td>\n",
              "      <td>Manual</td>\n",
              "      <td>First</td>\n",
              "      <td>18.2 kmpl</td>\n",
              "      <td>1199 CC</td>\n",
              "      <td>88.7 bhp</td>\n",
              "      <td>5.0</td>\n",
              "      <td>4.50</td>\n",
              "      <td>Honda</td>\n",
              "      <td>jazz</td>\n",
              "      <td>1199</td>\n",
              "      <td>88.70</td>\n",
              "      <td>18.20</td>\n",
              "    </tr>\n",
              "    <tr>\n",
              "      <th>3</th>\n",
              "      <td>Maruti Ertiga VDI</td>\n",
              "      <td>Chennai</td>\n",
              "      <td>2012</td>\n",
              "      <td>87000</td>\n",
              "      <td>Diesel</td>\n",
              "      <td>Manual</td>\n",
              "      <td>First</td>\n",
              "      <td>20.77 kmpl</td>\n",
              "      <td>1248 CC</td>\n",
              "      <td>88.76 bhp</td>\n",
              "      <td>7.0</td>\n",
              "      <td>6.00</td>\n",
              "      <td>Maruti</td>\n",
              "      <td>ertiga</td>\n",
              "      <td>1248</td>\n",
              "      <td>88.76</td>\n",
              "      <td>20.77</td>\n",
              "    </tr>\n",
              "    <tr>\n",
              "      <th>4</th>\n",
              "      <td>Audi A4 New 2.0 TDI Multitronic</td>\n",
              "      <td>Coimbatore</td>\n",
              "      <td>2013</td>\n",
              "      <td>40670</td>\n",
              "      <td>Diesel</td>\n",
              "      <td>Automatic</td>\n",
              "      <td>Second</td>\n",
              "      <td>15.2 kmpl</td>\n",
              "      <td>1968 CC</td>\n",
              "      <td>140.8 bhp</td>\n",
              "      <td>5.0</td>\n",
              "      <td>17.74</td>\n",
              "      <td>Audi</td>\n",
              "      <td>a4</td>\n",
              "      <td>1968</td>\n",
              "      <td>140.80</td>\n",
              "      <td>15.20</td>\n",
              "    </tr>\n",
              "    <tr>\n",
              "      <th>5</th>\n",
              "      <td>Hyundai EON LPG Era Plus Option</td>\n",
              "      <td>Hyderabad</td>\n",
              "      <td>2012</td>\n",
              "      <td>75000</td>\n",
              "      <td>LPG</td>\n",
              "      <td>Manual</td>\n",
              "      <td>First</td>\n",
              "      <td>21.1 km/kg</td>\n",
              "      <td>814 CC</td>\n",
              "      <td>55.2 bhp</td>\n",
              "      <td>5.0</td>\n",
              "      <td>2.35</td>\n",
              "      <td>Hyundai</td>\n",
              "      <td>eon</td>\n",
              "      <td>814</td>\n",
              "      <td>55.20</td>\n",
              "      <td>21.10</td>\n",
              "    </tr>\n",
              "    <tr>\n",
              "      <th>6</th>\n",
              "      <td>Nissan Micra Diesel XV</td>\n",
              "      <td>Jaipur</td>\n",
              "      <td>2013</td>\n",
              "      <td>86999</td>\n",
              "      <td>Diesel</td>\n",
              "      <td>Manual</td>\n",
              "      <td>First</td>\n",
              "      <td>23.08 kmpl</td>\n",
              "      <td>1461 CC</td>\n",
              "      <td>63.1 bhp</td>\n",
              "      <td>5.0</td>\n",
              "      <td>3.50</td>\n",
              "      <td>Nissan</td>\n",
              "      <td>micra</td>\n",
              "      <td>1461</td>\n",
              "      <td>63.10</td>\n",
              "      <td>23.08</td>\n",
              "    </tr>\n",
              "    <tr>\n",
              "      <th>7</th>\n",
              "      <td>Toyota Innova Crysta 2.8 GX AT 8S</td>\n",
              "      <td>Mumbai</td>\n",
              "      <td>2016</td>\n",
              "      <td>36000</td>\n",
              "      <td>Diesel</td>\n",
              "      <td>Automatic</td>\n",
              "      <td>First</td>\n",
              "      <td>11.36 kmpl</td>\n",
              "      <td>2755 CC</td>\n",
              "      <td>171.5 bhp</td>\n",
              "      <td>8.0</td>\n",
              "      <td>17.50</td>\n",
              "      <td>Toyota</td>\n",
              "      <td>innova</td>\n",
              "      <td>2755</td>\n",
              "      <td>171.50</td>\n",
              "      <td>11.36</td>\n",
              "    </tr>\n",
              "    <tr>\n",
              "      <th>8</th>\n",
              "      <td>Volkswagen Vento Diesel Comfortline</td>\n",
              "      <td>Pune</td>\n",
              "      <td>2013</td>\n",
              "      <td>64430</td>\n",
              "      <td>Diesel</td>\n",
              "      <td>Manual</td>\n",
              "      <td>First</td>\n",
              "      <td>20.54 kmpl</td>\n",
              "      <td>1598 CC</td>\n",
              "      <td>103.6 bhp</td>\n",
              "      <td>5.0</td>\n",
              "      <td>5.20</td>\n",
              "      <td>Volkswagen</td>\n",
              "      <td>vento</td>\n",
              "      <td>1598</td>\n",
              "      <td>103.60</td>\n",
              "      <td>20.54</td>\n",
              "    </tr>\n",
              "    <tr>\n",
              "      <th>9</th>\n",
              "      <td>Tata Indica Vista Quadrajet LS</td>\n",
              "      <td>Chennai</td>\n",
              "      <td>2012</td>\n",
              "      <td>65932</td>\n",
              "      <td>Diesel</td>\n",
              "      <td>Manual</td>\n",
              "      <td>Second</td>\n",
              "      <td>22.3 kmpl</td>\n",
              "      <td>1248 CC</td>\n",
              "      <td>74 bhp</td>\n",
              "      <td>5.0</td>\n",
              "      <td>1.95</td>\n",
              "      <td>Tata</td>\n",
              "      <td>indica</td>\n",
              "      <td>1248</td>\n",
              "      <td>74.00</td>\n",
              "      <td>22.30</td>\n",
              "    </tr>\n",
              "  </tbody>\n",
              "</table>\n",
              "</div>"
            ],
            "text/plain": [
              "                                  Name    Location  Year  Kilometers_Driven  \\\n",
              "0               Maruti Wagon R LXI CNG      Mumbai  2010              72000   \n",
              "1     Hyundai Creta 1.6 CRDi SX Option        Pune  2015              41000   \n",
              "2                         Honda Jazz V     Chennai  2011              46000   \n",
              "3                    Maruti Ertiga VDI     Chennai  2012              87000   \n",
              "4      Audi A4 New 2.0 TDI Multitronic  Coimbatore  2013              40670   \n",
              "5      Hyundai EON LPG Era Plus Option   Hyderabad  2012              75000   \n",
              "6               Nissan Micra Diesel XV      Jaipur  2013              86999   \n",
              "7    Toyota Innova Crysta 2.8 GX AT 8S      Mumbai  2016              36000   \n",
              "8  Volkswagen Vento Diesel Comfortline        Pune  2013              64430   \n",
              "9       Tata Indica Vista Quadrajet LS     Chennai  2012              65932   \n",
              "\n",
              "  Fuel_Type Transmission Owner_Type     Mileage   Engine      Power  Seats  \\\n",
              "0       CNG       Manual      First  26.6 km/kg   998 CC  58.16 bhp    5.0   \n",
              "1    Diesel       Manual      First  19.67 kmpl  1582 CC  126.2 bhp    5.0   \n",
              "2    Petrol       Manual      First   18.2 kmpl  1199 CC   88.7 bhp    5.0   \n",
              "3    Diesel       Manual      First  20.77 kmpl  1248 CC  88.76 bhp    7.0   \n",
              "4    Diesel    Automatic     Second   15.2 kmpl  1968 CC  140.8 bhp    5.0   \n",
              "5       LPG       Manual      First  21.1 km/kg   814 CC   55.2 bhp    5.0   \n",
              "6    Diesel       Manual      First  23.08 kmpl  1461 CC   63.1 bhp    5.0   \n",
              "7    Diesel    Automatic      First  11.36 kmpl  2755 CC  171.5 bhp    8.0   \n",
              "8    Diesel       Manual      First  20.54 kmpl  1598 CC  103.6 bhp    5.0   \n",
              "9    Diesel       Manual     Second   22.3 kmpl  1248 CC     74 bhp    5.0   \n",
              "\n",
              "   Price  carCompany carModel  cleanEngine  cleanPower  cleanMileage  \n",
              "0   1.75      Maruti    wagon          998       58.16         26.60  \n",
              "1  12.50     Hyundai    creta         1582      126.20         19.67  \n",
              "2   4.50       Honda     jazz         1199       88.70         18.20  \n",
              "3   6.00      Maruti   ertiga         1248       88.76         20.77  \n",
              "4  17.74        Audi       a4         1968      140.80         15.20  \n",
              "5   2.35     Hyundai      eon          814       55.20         21.10  \n",
              "6   3.50      Nissan    micra         1461       63.10         23.08  \n",
              "7  17.50      Toyota   innova         2755      171.50         11.36  \n",
              "8   5.20  Volkswagen    vento         1598      103.60         20.54  \n",
              "9   1.95        Tata   indica         1248       74.00         22.30  "
            ]
          },
          "execution_count": 43,
          "metadata": {},
          "output_type": "execute_result"
        }
      ],
      "source": [
        "data.head(10)"
      ]
    },
    {
      "cell_type": "markdown",
      "metadata": {
        "id": "azaAyzrI-tj-"
      },
      "source": [
        "### Filling up Missing Values of cleanMileage column"
      ]
    },
    {
      "cell_type": "code",
      "execution_count": null,
      "metadata": {
        "id": "cllpohuP-tj-",
        "outputId": "fb837370-c77f-4bde-f796-bb97246dd7ef"
      },
      "outputs": [
        {
          "name": "stderr",
          "output_type": "stream",
          "text": [
            "C:\\Users\\PREM\\anaconda3\\lib\\site-packages\\ipykernel_launcher.py:1: SettingWithCopyWarning: \n",
            "A value is trying to be set on a copy of a slice from a DataFrame\n",
            "\n",
            "See the caveats in the documentation: https://pandas.pydata.org/pandas-docs/stable/user_guide/indexing.html#returning-a-view-versus-a-copy\n",
            "  \"\"\"Entry point for launching an IPython kernel.\n"
          ]
        }
      ],
      "source": [
        "data.cleanMileage[data.cleanMileage == 0 ] = data.cleanMileage.mean()"
      ]
    },
    {
      "cell_type": "code",
      "execution_count": null,
      "metadata": {
        "id": "6Eym9ZpG-tj-",
        "outputId": "26fd0ca8-006a-4071-ca99-56e2c6a43ea1"
      },
      "outputs": [
        {
          "data": {
            "text/plain": [
              "count    6019.000000\n",
              "mean       18.339772\n",
              "std         4.151183\n",
              "min         6.400000\n",
              "25%        15.400000\n",
              "50%        18.150000\n",
              "75%        21.100000\n",
              "max        33.540000\n",
              "Name: cleanMileage, dtype: float64"
            ]
          },
          "execution_count": 45,
          "metadata": {},
          "output_type": "execute_result"
        }
      ],
      "source": [
        "data['cleanMileage'].describe()"
      ]
    },
    {
      "cell_type": "markdown",
      "metadata": {
        "id": "3SmGEDum-tj_"
      },
      "source": [
        "### Filling up Missing Values of cleanEngine column"
      ]
    },
    {
      "cell_type": "code",
      "execution_count": null,
      "metadata": {
        "id": "dbl-IsaJ-tj_"
      },
      "outputs": [],
      "source": [
        "P_M = data[(data.Fuel_Type=='Petrol') & (data.Transmission=='Manual')].cleanEngine.mean()\n",
        "P_A = data[(data.Fuel_Type=='Petrol') & (data.Transmission=='Automatic')].cleanEngine.mean()\n",
        "D_M = data[(data.Fuel_Type=='Diesel') & (data.Transmission=='Manual')].cleanEngine.mean()\n",
        "D_A = data[(data.Fuel_Type=='Diesel') & (data.Transmission=='Automatic')].cleanEngine.mean()"
      ]
    },
    {
      "cell_type": "code",
      "execution_count": null,
      "metadata": {
        "id": "mNlkVQCY-tj_"
      },
      "outputs": [],
      "source": [
        "P_M = data[(data.Fuel_Type=='Petrol') & (data.Transmission=='Manual')].cleanEngine.mean()\n",
        "P_A = data[(data.Fuel_Type=='Petrol') & (data.Transmission=='Automatic')].cleanEngine.mean()\n",
        "D_M = data[(data.Fuel_Type=='Diesel') & (data.Transmission=='Manual')].cleanEngine.mean()\n",
        "D_A = data[(data.Fuel_Type=='Diesel') & (data.Transmission=='Automatic')].cleanEngine.mean()"
      ]
    },
    {
      "cell_type": "code",
      "execution_count": null,
      "metadata": {
        "id": "R0O6iwat-tj_",
        "outputId": "8d78a694-d8c8-4ec5-d443-8f88dcdc35f4"
      },
      "outputs": [
        {
          "data": {
            "text/plain": [
              "count    6019.000000\n",
              "mean     1611.579498\n",
              "std       612.449869\n",
              "min         0.000000\n",
              "25%      1197.000000\n",
              "50%      1493.000000\n",
              "75%      1969.000000\n",
              "max      5998.000000\n",
              "Name: cleanEngine, dtype: float64"
            ]
          },
          "execution_count": 48,
          "metadata": {},
          "output_type": "execute_result"
        }
      ],
      "source": [
        "data['cleanEngine'].describe()"
      ]
    },
    {
      "cell_type": "markdown",
      "metadata": {
        "id": "vEfy5Ezb-tj_"
      },
      "source": [
        "### Filling up Missing Values of cleanPower column"
      ]
    },
    {
      "cell_type": "code",
      "execution_count": null,
      "metadata": {
        "id": "9_wWup1X-tj_",
        "outputId": "5e7368a3-eb42-434a-bff6-6b8fd7755fcb"
      },
      "outputs": [
        {
          "data": {
            "text/html": [
              "<div>\n",
              "<style scoped>\n",
              "    .dataframe tbody tr th:only-of-type {\n",
              "        vertical-align: middle;\n",
              "    }\n",
              "\n",
              "    .dataframe tbody tr th {\n",
              "        vertical-align: top;\n",
              "    }\n",
              "\n",
              "    .dataframe thead th {\n",
              "        text-align: right;\n",
              "    }\n",
              "</style>\n",
              "<table border=\"1\" class=\"dataframe\">\n",
              "  <thead>\n",
              "    <tr style=\"text-align: right;\">\n",
              "      <th></th>\n",
              "      <th>Name</th>\n",
              "      <th>Location</th>\n",
              "      <th>Year</th>\n",
              "      <th>Kilometers_Driven</th>\n",
              "      <th>Fuel_Type</th>\n",
              "      <th>Transmission</th>\n",
              "      <th>Owner_Type</th>\n",
              "      <th>Mileage</th>\n",
              "      <th>Engine</th>\n",
              "      <th>Power</th>\n",
              "      <th>Seats</th>\n",
              "      <th>Price</th>\n",
              "      <th>carCompany</th>\n",
              "      <th>carModel</th>\n",
              "      <th>cleanEngine</th>\n",
              "      <th>cleanPower</th>\n",
              "      <th>cleanMileage</th>\n",
              "    </tr>\n",
              "  </thead>\n",
              "  <tbody>\n",
              "    <tr>\n",
              "      <th>76</th>\n",
              "      <td>Ford Fiesta 1.4 SXi TDCi</td>\n",
              "      <td>Jaipur</td>\n",
              "      <td>2008</td>\n",
              "      <td>111111</td>\n",
              "      <td>Diesel</td>\n",
              "      <td>Manual</td>\n",
              "      <td>First</td>\n",
              "      <td>17.8 kmpl</td>\n",
              "      <td>1399 CC</td>\n",
              "      <td>null bhp</td>\n",
              "      <td>5.0</td>\n",
              "      <td>2.00</td>\n",
              "      <td>Ford</td>\n",
              "      <td>fiesta</td>\n",
              "      <td>1399</td>\n",
              "      <td>0.0</td>\n",
              "      <td>17.800000</td>\n",
              "    </tr>\n",
              "    <tr>\n",
              "      <th>79</th>\n",
              "      <td>Hyundai Santro Xing XL</td>\n",
              "      <td>Hyderabad</td>\n",
              "      <td>2005</td>\n",
              "      <td>87591</td>\n",
              "      <td>Petrol</td>\n",
              "      <td>Manual</td>\n",
              "      <td>First</td>\n",
              "      <td>0.0 kmpl</td>\n",
              "      <td>1086 CC</td>\n",
              "      <td>null bhp</td>\n",
              "      <td>5.0</td>\n",
              "      <td>1.30</td>\n",
              "      <td>Hyundai</td>\n",
              "      <td>santro</td>\n",
              "      <td>1086</td>\n",
              "      <td>0.0</td>\n",
              "      <td>18.128935</td>\n",
              "    </tr>\n",
              "    <tr>\n",
              "      <th>89</th>\n",
              "      <td>Hyundai Santro Xing XO</td>\n",
              "      <td>Hyderabad</td>\n",
              "      <td>2007</td>\n",
              "      <td>73745</td>\n",
              "      <td>Petrol</td>\n",
              "      <td>Manual</td>\n",
              "      <td>First</td>\n",
              "      <td>17.0 kmpl</td>\n",
              "      <td>1086 CC</td>\n",
              "      <td>null bhp</td>\n",
              "      <td>5.0</td>\n",
              "      <td>2.10</td>\n",
              "      <td>Hyundai</td>\n",
              "      <td>santro</td>\n",
              "      <td>1086</td>\n",
              "      <td>0.0</td>\n",
              "      <td>17.000000</td>\n",
              "    </tr>\n",
              "    <tr>\n",
              "      <th>120</th>\n",
              "      <td>Hyundai Santro Xing XL eRLX Euro III</td>\n",
              "      <td>Mumbai</td>\n",
              "      <td>2005</td>\n",
              "      <td>102000</td>\n",
              "      <td>Petrol</td>\n",
              "      <td>Manual</td>\n",
              "      <td>Second</td>\n",
              "      <td>17.0 kmpl</td>\n",
              "      <td>1086 CC</td>\n",
              "      <td>null bhp</td>\n",
              "      <td>5.0</td>\n",
              "      <td>0.85</td>\n",
              "      <td>Hyundai</td>\n",
              "      <td>santro</td>\n",
              "      <td>1086</td>\n",
              "      <td>0.0</td>\n",
              "      <td>17.000000</td>\n",
              "    </tr>\n",
              "    <tr>\n",
              "      <th>143</th>\n",
              "      <td>Hyundai Santro Xing XO eRLX Euro II</td>\n",
              "      <td>Kochi</td>\n",
              "      <td>2008</td>\n",
              "      <td>80759</td>\n",
              "      <td>Petrol</td>\n",
              "      <td>Manual</td>\n",
              "      <td>Third</td>\n",
              "      <td>17.0 kmpl</td>\n",
              "      <td>1086 CC</td>\n",
              "      <td>null bhp</td>\n",
              "      <td>5.0</td>\n",
              "      <td>1.67</td>\n",
              "      <td>Hyundai</td>\n",
              "      <td>santro</td>\n",
              "      <td>1086</td>\n",
              "      <td>0.0</td>\n",
              "      <td>17.000000</td>\n",
              "    </tr>\n",
              "    <tr>\n",
              "      <th>...</th>\n",
              "      <td>...</td>\n",
              "      <td>...</td>\n",
              "      <td>...</td>\n",
              "      <td>...</td>\n",
              "      <td>...</td>\n",
              "      <td>...</td>\n",
              "      <td>...</td>\n",
              "      <td>...</td>\n",
              "      <td>...</td>\n",
              "      <td>...</td>\n",
              "      <td>...</td>\n",
              "      <td>...</td>\n",
              "      <td>...</td>\n",
              "      <td>...</td>\n",
              "      <td>...</td>\n",
              "      <td>...</td>\n",
              "      <td>...</td>\n",
              "    </tr>\n",
              "    <tr>\n",
              "      <th>5873</th>\n",
              "      <td>Hyundai Santro Xing XO eRLX Euro II</td>\n",
              "      <td>Pune</td>\n",
              "      <td>2006</td>\n",
              "      <td>47200</td>\n",
              "      <td>Petrol</td>\n",
              "      <td>Manual</td>\n",
              "      <td>Second</td>\n",
              "      <td>17.0 kmpl</td>\n",
              "      <td>1086 CC</td>\n",
              "      <td>null bhp</td>\n",
              "      <td>5.0</td>\n",
              "      <td>1.20</td>\n",
              "      <td>Hyundai</td>\n",
              "      <td>santro</td>\n",
              "      <td>1086</td>\n",
              "      <td>0.0</td>\n",
              "      <td>17.000000</td>\n",
              "    </tr>\n",
              "    <tr>\n",
              "      <th>5893</th>\n",
              "      <td>Maruti Estilo LXI</td>\n",
              "      <td>Chennai</td>\n",
              "      <td>2008</td>\n",
              "      <td>51000</td>\n",
              "      <td>Petrol</td>\n",
              "      <td>Manual</td>\n",
              "      <td>Second</td>\n",
              "      <td>19.5 kmpl</td>\n",
              "      <td>1061 CC</td>\n",
              "      <td>null bhp</td>\n",
              "      <td>5.0</td>\n",
              "      <td>1.75</td>\n",
              "      <td>Maruti</td>\n",
              "      <td>estilo</td>\n",
              "      <td>1061</td>\n",
              "      <td>0.0</td>\n",
              "      <td>19.500000</td>\n",
              "    </tr>\n",
              "    <tr>\n",
              "      <th>5925</th>\n",
              "      <td>Skoda Laura Classic 1.8 TSI</td>\n",
              "      <td>Pune</td>\n",
              "      <td>2010</td>\n",
              "      <td>85000</td>\n",
              "      <td>Petrol</td>\n",
              "      <td>Manual</td>\n",
              "      <td>First</td>\n",
              "      <td>17.5 kmpl</td>\n",
              "      <td>1798 CC</td>\n",
              "      <td>null bhp</td>\n",
              "      <td>5.0</td>\n",
              "      <td>2.85</td>\n",
              "      <td>Skoda</td>\n",
              "      <td>laura</td>\n",
              "      <td>1798</td>\n",
              "      <td>0.0</td>\n",
              "      <td>17.500000</td>\n",
              "    </tr>\n",
              "    <tr>\n",
              "      <th>5943</th>\n",
              "      <td>Mahindra Jeep MM 540 DP</td>\n",
              "      <td>Chennai</td>\n",
              "      <td>2002</td>\n",
              "      <td>75000</td>\n",
              "      <td>Diesel</td>\n",
              "      <td>Manual</td>\n",
              "      <td>First</td>\n",
              "      <td>0.0 kmpl</td>\n",
              "      <td>2112 CC</td>\n",
              "      <td>null bhp</td>\n",
              "      <td>6.0</td>\n",
              "      <td>1.70</td>\n",
              "      <td>Mahindra</td>\n",
              "      <td>jeep</td>\n",
              "      <td>2112</td>\n",
              "      <td>0.0</td>\n",
              "      <td>18.128935</td>\n",
              "    </tr>\n",
              "    <tr>\n",
              "      <th>5985</th>\n",
              "      <td>Toyota Etios GD</td>\n",
              "      <td>Delhi</td>\n",
              "      <td>2013</td>\n",
              "      <td>70000</td>\n",
              "      <td>Diesel</td>\n",
              "      <td>Manual</td>\n",
              "      <td>First</td>\n",
              "      <td>23.59 kmpl</td>\n",
              "      <td>1364 CC</td>\n",
              "      <td>null bhp</td>\n",
              "      <td>5.0</td>\n",
              "      <td>3.88</td>\n",
              "      <td>Toyota</td>\n",
              "      <td>etios</td>\n",
              "      <td>1364</td>\n",
              "      <td>0.0</td>\n",
              "      <td>23.590000</td>\n",
              "    </tr>\n",
              "  </tbody>\n",
              "</table>\n",
              "<p>143 rows × 17 columns</p>\n",
              "</div>"
            ],
            "text/plain": [
              "                                      Name   Location  Year  \\\n",
              "76                Ford Fiesta 1.4 SXi TDCi     Jaipur  2008   \n",
              "79                  Hyundai Santro Xing XL  Hyderabad  2005   \n",
              "89                  Hyundai Santro Xing XO  Hyderabad  2007   \n",
              "120   Hyundai Santro Xing XL eRLX Euro III     Mumbai  2005   \n",
              "143    Hyundai Santro Xing XO eRLX Euro II      Kochi  2008   \n",
              "...                                    ...        ...   ...   \n",
              "5873   Hyundai Santro Xing XO eRLX Euro II       Pune  2006   \n",
              "5893                     Maruti Estilo LXI    Chennai  2008   \n",
              "5925           Skoda Laura Classic 1.8 TSI       Pune  2010   \n",
              "5943               Mahindra Jeep MM 540 DP    Chennai  2002   \n",
              "5985                       Toyota Etios GD      Delhi  2013   \n",
              "\n",
              "      Kilometers_Driven Fuel_Type Transmission Owner_Type     Mileage  \\\n",
              "76               111111    Diesel       Manual      First   17.8 kmpl   \n",
              "79                87591    Petrol       Manual      First    0.0 kmpl   \n",
              "89                73745    Petrol       Manual      First   17.0 kmpl   \n",
              "120              102000    Petrol       Manual     Second   17.0 kmpl   \n",
              "143               80759    Petrol       Manual      Third   17.0 kmpl   \n",
              "...                 ...       ...          ...        ...         ...   \n",
              "5873              47200    Petrol       Manual     Second   17.0 kmpl   \n",
              "5893              51000    Petrol       Manual     Second   19.5 kmpl   \n",
              "5925              85000    Petrol       Manual      First   17.5 kmpl   \n",
              "5943              75000    Diesel       Manual      First    0.0 kmpl   \n",
              "5985              70000    Diesel       Manual      First  23.59 kmpl   \n",
              "\n",
              "       Engine     Power  Seats  Price carCompany carModel  cleanEngine  \\\n",
              "76    1399 CC  null bhp    5.0   2.00       Ford   fiesta         1399   \n",
              "79    1086 CC  null bhp    5.0   1.30    Hyundai   santro         1086   \n",
              "89    1086 CC  null bhp    5.0   2.10    Hyundai   santro         1086   \n",
              "120   1086 CC  null bhp    5.0   0.85    Hyundai   santro         1086   \n",
              "143   1086 CC  null bhp    5.0   1.67    Hyundai   santro         1086   \n",
              "...       ...       ...    ...    ...        ...      ...          ...   \n",
              "5873  1086 CC  null bhp    5.0   1.20    Hyundai   santro         1086   \n",
              "5893  1061 CC  null bhp    5.0   1.75     Maruti   estilo         1061   \n",
              "5925  1798 CC  null bhp    5.0   2.85      Skoda    laura         1798   \n",
              "5943  2112 CC  null bhp    6.0   1.70   Mahindra     jeep         2112   \n",
              "5985  1364 CC  null bhp    5.0   3.88     Toyota    etios         1364   \n",
              "\n",
              "      cleanPower  cleanMileage  \n",
              "76           0.0     17.800000  \n",
              "79           0.0     18.128935  \n",
              "89           0.0     17.000000  \n",
              "120          0.0     17.000000  \n",
              "143          0.0     17.000000  \n",
              "...          ...           ...  \n",
              "5873         0.0     17.000000  \n",
              "5893         0.0     19.500000  \n",
              "5925         0.0     17.500000  \n",
              "5943         0.0     18.128935  \n",
              "5985         0.0     23.590000  \n",
              "\n",
              "[143 rows x 17 columns]"
            ]
          },
          "execution_count": 49,
          "metadata": {},
          "output_type": "execute_result"
        }
      ],
      "source": [
        "data[data.cleanPower == 0]"
      ]
    },
    {
      "cell_type": "code",
      "execution_count": null,
      "metadata": {
        "id": "ORLI8ksV-tj_"
      },
      "outputs": [],
      "source": [
        "psv=[]\n",
        "for i,j in data[data.cleanPower==0].iterrows():\n",
        "    psv.append(data[(data.cleanMileage.between(j.cleanMileage-20,j.cleanMileage+20)) & (data.cleanEngine.between(j.cleanEngine-200,j.cleanEngine+200))].cleanPower.mean())"
      ]
    },
    {
      "cell_type": "code",
      "execution_count": null,
      "metadata": {
        "scrolled": true,
        "id": "QDvgm3We-tkA",
        "outputId": "a4956163-8741-4d8f-f82b-5a7e506e7153"
      },
      "outputs": [
        {
          "name": "stderr",
          "output_type": "stream",
          "text": [
            "C:\\Users\\PREM\\anaconda3\\lib\\site-packages\\pandas\\core\\indexing.py:670: SettingWithCopyWarning: \n",
            "A value is trying to be set on a copy of a slice from a DataFrame\n",
            "\n",
            "See the caveats in the documentation: https://pandas.pydata.org/pandas-docs/stable/user_guide/indexing.html#returning-a-view-versus-a-copy\n",
            "  self._setitem_with_indexer(indexer, value)\n"
          ]
        }
      ],
      "source": [
        "j=0\n",
        "for i in data[data.cleanPower==0]['cleanPower'].index.tolist():\n",
        "    data['cleanPower'].iloc[i]=psv[j]\n",
        "    j+=1"
      ]
    },
    {
      "cell_type": "code",
      "execution_count": null,
      "metadata": {
        "id": "A9spUf2v-tkA",
        "outputId": "1d39c2cb-1d22-45fa-a75d-ed91489fb9f4"
      },
      "outputs": [
        {
          "data": {
            "text/plain": [
              "count    6019.000000\n",
              "mean      112.200694\n",
              "std        54.206627\n",
              "min         1.108108\n",
              "25%        74.949137\n",
              "50%        93.000000\n",
              "75%       138.100000\n",
              "max       560.000000\n",
              "Name: cleanPower, dtype: float64"
            ]
          },
          "execution_count": 52,
          "metadata": {},
          "output_type": "execute_result"
        }
      ],
      "source": [
        "data['cleanPower'].describe()"
      ]
    },
    {
      "cell_type": "markdown",
      "metadata": {
        "id": "KbNzEHkV-tkA"
      },
      "source": [
        "### Taking average value of each column"
      ]
    },
    {
      "cell_type": "code",
      "execution_count": null,
      "metadata": {
        "scrolled": true,
        "id": "dCfwUsmE-tkA",
        "outputId": "2f3a3663-063a-49f1-ecbc-f79fbd358ab0"
      },
      "outputs": [
        {
          "data": {
            "text/plain": [
              "Year                  2013.358199\n",
              "Kilometers_Driven    58738.380296\n",
              "Seats                    5.276790\n",
              "Price                    9.479468\n",
              "cleanEngine           1611.579498\n",
              "cleanPower             112.200694\n",
              "cleanMileage            18.339772\n",
              "dtype: float64"
            ]
          },
          "execution_count": 53,
          "metadata": {},
          "output_type": "execute_result"
        }
      ],
      "source": [
        "data.mean(axis=0)"
      ]
    },
    {
      "cell_type": "markdown",
      "metadata": {
        "id": "Z_Ydj3ip-tkA"
      },
      "source": [
        "# Performing EDA"
      ]
    },
    {
      "cell_type": "code",
      "execution_count": null,
      "metadata": {
        "id": "ysiW6M9d-tkA"
      },
      "outputs": [],
      "source": [
        "plt.rcParams[\"figure.figsize\"] = [30,10]"
      ]
    },
    {
      "cell_type": "markdown",
      "metadata": {
        "id": "7MNh258h-tkA"
      },
      "source": [
        "## 1. The car company that produces Max no. of cars"
      ]
    },
    {
      "cell_type": "code",
      "execution_count": null,
      "metadata": {
        "id": "IVqKUql7-tkB",
        "outputId": "bc9359e2-741b-4640-b209-520cfb33fabd"
      },
      "outputs": [
        {
          "data": {
            "text/plain": [
              "Text(0.5, 1.0, 'No. of Different Branded Cars Availability')"
            ]
          },
          "execution_count": 55,
          "metadata": {},
          "output_type": "execute_result"
        },
        {
          "data": {
            "image/png": "[encoded data removed]",
            "text/plain": [
              "<Figure size 2160x1008 with 1 Axes>"
            ]
          },
          "metadata": {
            "needs_background": "light"
          },
          "output_type": "display_data"
        }
      ],
      "source": [
        "plt.figure(figsize=(30,14))\n",
        "sns.countplot(x = \"carCompany\" , data = data)\n",
        "plt.title(\"No. of Different Branded Cars Availability\",fontsize=30)"
      ]
    },
    {
      "cell_type": "markdown",
      "metadata": {
        "id": "Be87ARWH-tkB"
      },
      "source": [
        "## 2. The location at cars are High Price"
      ]
    },
    {
      "cell_type": "code",
      "execution_count": null,
      "metadata": {
        "id": "WQwXqQff-tkB",
        "outputId": "7fd46b2e-cb31-4453-8165-735ff4fa651b"
      },
      "outputs": [
        {
          "data": {
            "text/plain": [
              "Text(0.5, 1.0, 'Location VS Price of car')"
            ]
          },
          "execution_count": 56,
          "metadata": {},
          "output_type": "execute_result"
        },
        {
          "data": {
            "image/png": "[encoded data removed]",
            "text/plain": [
              "<Figure size 1008x432 with 1 Axes>"
            ]
          },
          "metadata": {
            "needs_background": "light"
          },
          "output_type": "display_data"
        }
      ],
      "source": [
        "plt.figure(figsize=(14,6))\n",
        "sns.barplot(data['Location'], data['Price'])\n",
        "plt.title('Location VS Price of car',fontsize=30)"
      ]
    },
    {
      "cell_type": "markdown",
      "metadata": {
        "id": "_oQJ7tR4-tkB"
      },
      "source": [
        "## 3. Price of cars according to owner type"
      ]
    },
    {
      "cell_type": "code",
      "execution_count": null,
      "metadata": {
        "id": "vsQhZp51-tkB",
        "outputId": "7b9fe975-eef7-4800-ea91-94dd3b1ffea1"
      },
      "outputs": [
        {
          "data": {
            "text/plain": [
              "Text(0.5, 1.0, 'Owner Type VS Price of car')"
            ]
          },
          "execution_count": 57,
          "metadata": {},
          "output_type": "execute_result"
        },
        {
          "data": {
            "image/png": "[encoded data removed]",
            "text/plain": [
              "<Figure size 1008x576 with 1 Axes>"
            ]
          },
          "metadata": {
            "needs_background": "light"
          },
          "output_type": "display_data"
        }
      ],
      "source": [
        "plt.figure(figsize=(14,8))\n",
        "sns.barplot(data['Owner_Type'], data['Price'])\n",
        "plt.title('Owner Type VS Price of car',fontsize=30)"
      ]
    },
    {
      "cell_type": "markdown",
      "metadata": {
        "id": "VpoMAc7E-tkB"
      },
      "source": [
        "# Location wise distribution of owner_type of cars"
      ]
    },
    {
      "cell_type": "code",
      "execution_count": null,
      "metadata": {
        "id": "ziEQwrDK-tkB",
        "outputId": "fea0c0a5-b304-4818-bb06-63d12e8978e4"
      },
      "outputs": [
        {
          "data": {
            "text/plain": [
              "<matplotlib.axes._subplots.AxesSubplot at 0x21465192ac8>"
            ]
          },
          "execution_count": 58,
          "metadata": {},
          "output_type": "execute_result"
        },
        {
          "data": {
            "image/png": "[encoded data removed]",
            "text/plain": [
              "<Figure size 1224x792 with 1 Axes>"
            ]
          },
          "metadata": {
            "needs_background": "light"
          },
          "output_type": "display_data"
        }
      ],
      "source": [
        "plt.figure(figsize=(17,11))\n",
        "sns.barplot(x=\"Location\", y=\"Price\", hue=\"Owner_Type\", data=data)"
      ]
    },
    {
      "cell_type": "markdown",
      "metadata": {
        "id": "MoODAdOV-tkC"
      },
      "source": [
        "#### According to above graph the Third Owner type cars are high price in Coimbatore and Delhi , least at Ahmedabad(count=0), Kochi, Jaipur and Pune\n",
        "#### In some locations the some Owner type cars are not available (as price graph=0) "
      ]
    },
    {
      "cell_type": "markdown",
      "metadata": {
        "id": "hv22M4xW-tkC"
      },
      "source": [
        "## 4. Car Company wise distribution of owner type of cars"
      ]
    },
    {
      "cell_type": "code",
      "execution_count": null,
      "metadata": {
        "id": "uIspYtbZ-tkC",
        "outputId": "aec116e5-655e-4565-c411-50ebfb8ee5bd"
      },
      "outputs": [
        {
          "data": {
            "text/plain": [
              "<matplotlib.axes._subplots.AxesSubplot at 0x21464e7a208>"
            ]
          },
          "execution_count": 59,
          "metadata": {},
          "output_type": "execute_result"
        },
        {
          "data": {
            "image/png": "[encoded data removed]",
            "text/plain": [
              "<Figure size 2160x1584 with 1 Axes>"
            ]
          },
          "metadata": {
            "needs_background": "light"
          },
          "output_type": "display_data"
        }
      ],
      "source": [
        "plt.figure(figsize=(30,22))\n",
        "sns.barplot(x=\"carCompany\", y=\"Price\", hue=\"Owner_Type\", data=data)"
      ]
    },
    {
      "cell_type": "markdown",
      "metadata": {
        "id": "Gl9MJQho-tkC"
      },
      "source": [
        "#### Above graph shows only maruti, hyundai, toyota and ford cars go for Fourth and above owner type\n",
        "\n",
        "#### Price of Audi, Porche and Lamborgini are high even for third owner type"
      ]
    },
    {
      "cell_type": "markdown",
      "metadata": {
        "id": "uBH0ozKo-tkC"
      },
      "source": [
        "## 5. Location wise variation in price of cars belonging to different compnay"
      ]
    },
    {
      "cell_type": "code",
      "execution_count": null,
      "metadata": {
        "id": "UtiClszL-tkC",
        "outputId": "57e719c6-6f4c-410b-dbf7-1fb42663a164"
      },
      "outputs": [
        {
          "data": {
            "text/plain": [
              "<matplotlib.axes._subplots.AxesSubplot at 0x21464d08448>"
            ]
          },
          "execution_count": 60,
          "metadata": {},
          "output_type": "execute_result"
        },
        {
          "data": {
            "image/png": "[encoded data removed]",
            "text/plain": [
              "<Figure size 1800x1440 with 1 Axes>"
            ]
          },
          "metadata": {
            "needs_background": "light"
          },
          "output_type": "display_data"
        }
      ],
      "source": [
        "plt.figure(figsize=(25,20))\n",
        "sns.barplot(x=\"carCompany\", y=\"Price\", hue=\"Location\", data=data)"
      ]
    },
    {
      "cell_type": "markdown",
      "metadata": {
        "id": "I4Pgp3wT-tkD"
      },
      "source": [
        "#### For Maruti maximum price is at: Coimbatore and kochi\n",
        "#### For Hyundai maximum price is at: Coimbatore, Kochi and Bangalore\n",
        "#### For Honda maximum price is at: Coimbatore, Hyderabad and Kochi\n",
        "#### For Audi maximum price is at: Coimbatore, Bangalore\n",
        "#### For Nissan maximum price is at: Coimabatore, Bangalore and Kochi\n",
        "#### For Toyota maximum price is at: Coimbatore and Kochi"
      ]
    },
    {
      "cell_type": "markdown",
      "metadata": {
        "id": "PQtia_xu-tkD"
      },
      "source": [
        "## 6. Company wise distribution of owner_type of cars and thier count"
      ]
    },
    {
      "cell_type": "code",
      "execution_count": null,
      "metadata": {
        "id": "RJ0eOrJL-tkD",
        "outputId": "dff64965-6a0c-4e50-8511-d7a93ef316c0"
      },
      "outputs": [
        {
          "data": {
            "image/png": "[encoded data removed]",
            "text/plain": [
              "<Figure size 2160x1080 with 1 Axes>"
            ]
          },
          "metadata": {
            "needs_background": "light"
          },
          "output_type": "display_data"
        }
      ],
      "source": [
        "plt.rcParams[\"figure.figsize\"] = [30,15]\n",
        "g = sns.countplot(x=\"carCompany\", data = data, hue = 'Owner_Type')\n",
        "g.set_xticklabels(g.get_xticklabels(),rotation=30,fontsize=20)\n",
        "plt.tight_layout()\n",
        "plt.show()"
      ]
    },
    {
      "cell_type": "code",
      "execution_count": null,
      "metadata": {
        "id": "QTx16mGJ-tkD",
        "outputId": "8073f891-c42d-4ccc-b889-7cf32b93914a"
      },
      "outputs": [
        {
          "data": {
            "image/png": "[encoded data removed]",
            "text/plain": [
              "<Figure size 1080x720 with 1 Axes>"
            ]
          },
          "metadata": {
            "needs_background": "light"
          },
          "output_type": "display_data"
        }
      ],
      "source": [
        "import seaborn as sns\n",
        "import matplotlib.pyplot as plt\n",
        "plt.figure(figsize=(15,10))\n",
        "a= sns.scatterplot(x=\"Price\", y=\"carCompany\",hue=\"Year\" ,data=data)\n",
        "plt.show()"
      ]
    },
    {
      "cell_type": "markdown",
      "metadata": {
        "id": "q_TjCVPe-tkE"
      },
      "source": [
        "# Number of unique values in each column"
      ]
    },
    {
      "cell_type": "code",
      "execution_count": null,
      "metadata": {
        "id": "iMBcJ1jY-tkE",
        "outputId": "836a88dc-6c0a-4d27-d7b2-f5f5177854a3"
      },
      "outputs": [
        {
          "data": {
            "text/plain": [
              "Name                 1876\n",
              "Location               11\n",
              "Year                   22\n",
              "Kilometers_Driven    3093\n",
              "Fuel_Type               5\n",
              "Transmission            2\n",
              "Owner_Type              4\n",
              "Mileage               442\n",
              "Engine                146\n",
              "Power                 372\n",
              "Seats                   9\n",
              "Price                1373\n",
              "carCompany             30\n",
              "carModel              211\n",
              "cleanEngine           147\n",
              "cleanPower            396\n",
              "cleanMileage          430\n",
              "dtype: int64"
            ]
          },
          "execution_count": 63,
          "metadata": {},
          "output_type": "execute_result"
        }
      ],
      "source": [
        "data.nunique(axis=0)"
      ]
    },
    {
      "cell_type": "markdown",
      "metadata": {
        "id": "jLgSavx2-tkE"
      },
      "source": [
        "# Description of each kind of numeric column"
      ]
    },
    {
      "cell_type": "code",
      "execution_count": null,
      "metadata": {
        "id": "jHDzBYp9-tkE",
        "outputId": "948563db-9730-4b3d-a753-3f74c44999d9"
      },
      "outputs": [
        {
          "data": {
            "text/html": [
              "<div>\n",
              "<style scoped>\n",
              "    .dataframe tbody tr th:only-of-type {\n",
              "        vertical-align: middle;\n",
              "    }\n",
              "\n",
              "    .dataframe tbody tr th {\n",
              "        vertical-align: top;\n",
              "    }\n",
              "\n",
              "    .dataframe thead th {\n",
              "        text-align: right;\n",
              "    }\n",
              "</style>\n",
              "<table border=\"1\" class=\"dataframe\">\n",
              "  <thead>\n",
              "    <tr style=\"text-align: right;\">\n",
              "      <th></th>\n",
              "      <th>Year</th>\n",
              "      <th>Kilometers_Driven</th>\n",
              "      <th>Seats</th>\n",
              "      <th>Price</th>\n",
              "      <th>cleanEngine</th>\n",
              "      <th>cleanPower</th>\n",
              "      <th>cleanMileage</th>\n",
              "    </tr>\n",
              "  </thead>\n",
              "  <tbody>\n",
              "    <tr>\n",
              "      <th>count</th>\n",
              "      <td>6019.000000</td>\n",
              "      <td>6019.000000</td>\n",
              "      <td>6019.000000</td>\n",
              "      <td>6019.000000</td>\n",
              "      <td>6019.000000</td>\n",
              "      <td>6019.000000</td>\n",
              "      <td>6019.000000</td>\n",
              "    </tr>\n",
              "    <tr>\n",
              "      <th>mean</th>\n",
              "      <td>2013.358199</td>\n",
              "      <td>58738.380296</td>\n",
              "      <td>5.276790</td>\n",
              "      <td>9.479468</td>\n",
              "      <td>1611.579498</td>\n",
              "      <td>112.200694</td>\n",
              "      <td>18.339772</td>\n",
              "    </tr>\n",
              "    <tr>\n",
              "      <th>std</th>\n",
              "      <td>3.269742</td>\n",
              "      <td>91268.843206</td>\n",
              "      <td>0.806346</td>\n",
              "      <td>11.187917</td>\n",
              "      <td>612.449869</td>\n",
              "      <td>54.206627</td>\n",
              "      <td>4.151183</td>\n",
              "    </tr>\n",
              "    <tr>\n",
              "      <th>min</th>\n",
              "      <td>1998.000000</td>\n",
              "      <td>171.000000</td>\n",
              "      <td>0.000000</td>\n",
              "      <td>0.440000</td>\n",
              "      <td>0.000000</td>\n",
              "      <td>1.108108</td>\n",
              "      <td>6.400000</td>\n",
              "    </tr>\n",
              "    <tr>\n",
              "      <th>25%</th>\n",
              "      <td>2011.000000</td>\n",
              "      <td>34000.000000</td>\n",
              "      <td>5.000000</td>\n",
              "      <td>3.500000</td>\n",
              "      <td>1197.000000</td>\n",
              "      <td>74.949137</td>\n",
              "      <td>15.400000</td>\n",
              "    </tr>\n",
              "    <tr>\n",
              "      <th>50%</th>\n",
              "      <td>2014.000000</td>\n",
              "      <td>53000.000000</td>\n",
              "      <td>5.000000</td>\n",
              "      <td>5.640000</td>\n",
              "      <td>1493.000000</td>\n",
              "      <td>93.000000</td>\n",
              "      <td>18.150000</td>\n",
              "    </tr>\n",
              "    <tr>\n",
              "      <th>75%</th>\n",
              "      <td>2016.000000</td>\n",
              "      <td>73000.000000</td>\n",
              "      <td>5.000000</td>\n",
              "      <td>9.950000</td>\n",
              "      <td>1969.000000</td>\n",
              "      <td>138.100000</td>\n",
              "      <td>21.100000</td>\n",
              "    </tr>\n",
              "    <tr>\n",
              "      <th>max</th>\n",
              "      <td>2019.000000</td>\n",
              "      <td>6500000.000000</td>\n",
              "      <td>10.000000</td>\n",
              "      <td>160.000000</td>\n",
              "      <td>5998.000000</td>\n",
              "      <td>560.000000</td>\n",
              "      <td>33.540000</td>\n",
              "    </tr>\n",
              "  </tbody>\n",
              "</table>\n",
              "</div>"
            ],
            "text/plain": [
              "              Year Kilometers_Driven        Seats        Price  cleanEngine  \\\n",
              "count  6019.000000       6019.000000  6019.000000  6019.000000  6019.000000   \n",
              "mean   2013.358199      58738.380296     5.276790     9.479468  1611.579498   \n",
              "std       3.269742      91268.843206     0.806346    11.187917   612.449869   \n",
              "min    1998.000000        171.000000     0.000000     0.440000     0.000000   \n",
              "25%    2011.000000      34000.000000     5.000000     3.500000  1197.000000   \n",
              "50%    2014.000000      53000.000000     5.000000     5.640000  1493.000000   \n",
              "75%    2016.000000      73000.000000     5.000000     9.950000  1969.000000   \n",
              "max    2019.000000    6500000.000000    10.000000   160.000000  5998.000000   \n",
              "\n",
              "        cleanPower cleanMileage  \n",
              "count  6019.000000  6019.000000  \n",
              "mean    112.200694    18.339772  \n",
              "std      54.206627     4.151183  \n",
              "min       1.108108     6.400000  \n",
              "25%      74.949137    15.400000  \n",
              "50%      93.000000    18.150000  \n",
              "75%     138.100000    21.100000  \n",
              "max     560.000000    33.540000  "
            ]
          },
          "execution_count": 64,
          "metadata": {},
          "output_type": "execute_result"
        }
      ],
      "source": [
        "data.describe().apply(lambda s: s.apply(lambda x: format(x, 'f')))"
      ]
    },
    {
      "cell_type": "markdown",
      "metadata": {
        "id": "llPkY2W3-tkE"
      },
      "source": [
        "### Saving data to pickle file"
      ]
    },
    {
      "cell_type": "code",
      "execution_count": null,
      "metadata": {
        "id": "wM23YPUu-tkE"
      },
      "outputs": [],
      "source": [
        "data.to_pickle('cleaned_train_data')"
      ]
    },
    {
      "cell_type": "code",
      "execution_count": null,
      "metadata": {
        "id": "C6vJG58F-tkE"
      },
      "outputs": [],
      "source": [
        "import pandas as pd\n",
        "train_data=pd.read_pickle('cleaned_train_data')\n",
        "test_data=pd.read_pickle('cleaned_test_data')"
      ]
    },
    {
      "cell_type": "code",
      "execution_count": null,
      "metadata": {
        "id": "3VB1TTA6-tkF"
      },
      "outputs": [],
      "source": [
        "data_concate=pd.concat([train_data,test_data])"
      ]
    },
    {
      "cell_type": "code",
      "execution_count": null,
      "metadata": {
        "id": "uzvCIJ2Z-tkF",
        "outputId": "9fd4aee9-3903-4538-87e2-9973b9ff3e97"
      },
      "outputs": [
        {
          "data": {
            "text/html": [
              "<div>\n",
              "<style scoped>\n",
              "    .dataframe tbody tr th:only-of-type {\n",
              "        vertical-align: middle;\n",
              "    }\n",
              "\n",
              "    .dataframe tbody tr th {\n",
              "        vertical-align: top;\n",
              "    }\n",
              "\n",
              "    .dataframe thead th {\n",
              "        text-align: right;\n",
              "    }\n",
              "</style>\n",
              "<table border=\"1\" class=\"dataframe\">\n",
              "  <thead>\n",
              "    <tr style=\"text-align: right;\">\n",
              "      <th></th>\n",
              "      <th>Name</th>\n",
              "      <th>Location</th>\n",
              "      <th>Year</th>\n",
              "      <th>Kilometers_Driven</th>\n",
              "      <th>Fuel_Type</th>\n",
              "      <th>Transmission</th>\n",
              "      <th>Owner_Type</th>\n",
              "      <th>Mileage</th>\n",
              "      <th>Engine</th>\n",
              "      <th>Power</th>\n",
              "      <th>Seats</th>\n",
              "      <th>Price</th>\n",
              "      <th>carCompany</th>\n",
              "      <th>carModel</th>\n",
              "      <th>cleanEngine</th>\n",
              "      <th>cleanPower</th>\n",
              "      <th>cleanMileage</th>\n",
              "      <th>carVersion</th>\n",
              "    </tr>\n",
              "  </thead>\n",
              "  <tbody>\n",
              "    <tr>\n",
              "      <th>0</th>\n",
              "      <td>Maruti Wagon R LXI CNG</td>\n",
              "      <td>Mumbai</td>\n",
              "      <td>2010</td>\n",
              "      <td>72000</td>\n",
              "      <td>CNG</td>\n",
              "      <td>Manual</td>\n",
              "      <td>First</td>\n",
              "      <td>26.6 km/kg</td>\n",
              "      <td>998 CC</td>\n",
              "      <td>58.16 bhp</td>\n",
              "      <td>5.0</td>\n",
              "      <td>1.75</td>\n",
              "      <td>Maruti</td>\n",
              "      <td>wagon</td>\n",
              "      <td>998</td>\n",
              "      <td>58.16</td>\n",
              "      <td>26.60</td>\n",
              "      <td>NaN</td>\n",
              "    </tr>\n",
              "    <tr>\n",
              "      <th>1</th>\n",
              "      <td>Hyundai Creta 1.6 CRDi SX Option</td>\n",
              "      <td>Pune</td>\n",
              "      <td>2015</td>\n",
              "      <td>41000</td>\n",
              "      <td>Diesel</td>\n",
              "      <td>Manual</td>\n",
              "      <td>First</td>\n",
              "      <td>19.67 kmpl</td>\n",
              "      <td>1582 CC</td>\n",
              "      <td>126.2 bhp</td>\n",
              "      <td>5.0</td>\n",
              "      <td>12.50</td>\n",
              "      <td>Hyundai</td>\n",
              "      <td>creta</td>\n",
              "      <td>1582</td>\n",
              "      <td>126.20</td>\n",
              "      <td>19.67</td>\n",
              "      <td>NaN</td>\n",
              "    </tr>\n",
              "    <tr>\n",
              "      <th>2</th>\n",
              "      <td>Honda Jazz V</td>\n",
              "      <td>Chennai</td>\n",
              "      <td>2011</td>\n",
              "      <td>46000</td>\n",
              "      <td>Petrol</td>\n",
              "      <td>Manual</td>\n",
              "      <td>First</td>\n",
              "      <td>18.2 kmpl</td>\n",
              "      <td>1199 CC</td>\n",
              "      <td>88.7 bhp</td>\n",
              "      <td>5.0</td>\n",
              "      <td>4.50</td>\n",
              "      <td>Honda</td>\n",
              "      <td>jazz</td>\n",
              "      <td>1199</td>\n",
              "      <td>88.70</td>\n",
              "      <td>18.20</td>\n",
              "      <td>NaN</td>\n",
              "    </tr>\n",
              "    <tr>\n",
              "      <th>3</th>\n",
              "      <td>Maruti Ertiga VDI</td>\n",
              "      <td>Chennai</td>\n",
              "      <td>2012</td>\n",
              "      <td>87000</td>\n",
              "      <td>Diesel</td>\n",
              "      <td>Manual</td>\n",
              "      <td>First</td>\n",
              "      <td>20.77 kmpl</td>\n",
              "      <td>1248 CC</td>\n",
              "      <td>88.76 bhp</td>\n",
              "      <td>7.0</td>\n",
              "      <td>6.00</td>\n",
              "      <td>Maruti</td>\n",
              "      <td>ertiga</td>\n",
              "      <td>1248</td>\n",
              "      <td>88.76</td>\n",
              "      <td>20.77</td>\n",
              "      <td>NaN</td>\n",
              "    </tr>\n",
              "    <tr>\n",
              "      <th>4</th>\n",
              "      <td>Audi A4 New 2.0 TDI Multitronic</td>\n",
              "      <td>Coimbatore</td>\n",
              "      <td>2013</td>\n",
              "      <td>40670</td>\n",
              "      <td>Diesel</td>\n",
              "      <td>Automatic</td>\n",
              "      <td>Second</td>\n",
              "      <td>15.2 kmpl</td>\n",
              "      <td>1968 CC</td>\n",
              "      <td>140.8 bhp</td>\n",
              "      <td>5.0</td>\n",
              "      <td>17.74</td>\n",
              "      <td>Audi</td>\n",
              "      <td>a4</td>\n",
              "      <td>1968</td>\n",
              "      <td>140.80</td>\n",
              "      <td>15.20</td>\n",
              "      <td>NaN</td>\n",
              "    </tr>\n",
              "    <tr>\n",
              "      <th>...</th>\n",
              "      <td>...</td>\n",
              "      <td>...</td>\n",
              "      <td>...</td>\n",
              "      <td>...</td>\n",
              "      <td>...</td>\n",
              "      <td>...</td>\n",
              "      <td>...</td>\n",
              "      <td>...</td>\n",
              "      <td>...</td>\n",
              "      <td>...</td>\n",
              "      <td>...</td>\n",
              "      <td>...</td>\n",
              "      <td>...</td>\n",
              "      <td>...</td>\n",
              "      <td>...</td>\n",
              "      <td>...</td>\n",
              "      <td>...</td>\n",
              "      <td>...</td>\n",
              "    </tr>\n",
              "    <tr>\n",
              "      <th>1229</th>\n",
              "      <td>Volkswagen Vento Diesel Trendline</td>\n",
              "      <td>Hyderabad</td>\n",
              "      <td>2011</td>\n",
              "      <td>89411</td>\n",
              "      <td>Diesel</td>\n",
              "      <td>Manual</td>\n",
              "      <td>First</td>\n",
              "      <td>20.54 kmpl</td>\n",
              "      <td>1598 CC</td>\n",
              "      <td>103.6 bhp</td>\n",
              "      <td>5.0</td>\n",
              "      <td>NaN</td>\n",
              "      <td>volkswagen</td>\n",
              "      <td>vento</td>\n",
              "      <td>1598</td>\n",
              "      <td>103.60</td>\n",
              "      <td>20.54</td>\n",
              "      <td>DieselTrendline</td>\n",
              "    </tr>\n",
              "    <tr>\n",
              "      <th>1230</th>\n",
              "      <td>Volkswagen Polo GT TSI</td>\n",
              "      <td>Mumbai</td>\n",
              "      <td>2015</td>\n",
              "      <td>59000</td>\n",
              "      <td>Petrol</td>\n",
              "      <td>Automatic</td>\n",
              "      <td>First</td>\n",
              "      <td>17.21 kmpl</td>\n",
              "      <td>1197 CC</td>\n",
              "      <td>103.6 bhp</td>\n",
              "      <td>5.0</td>\n",
              "      <td>NaN</td>\n",
              "      <td>volkswagen</td>\n",
              "      <td>polo</td>\n",
              "      <td>1197</td>\n",
              "      <td>103.60</td>\n",
              "      <td>17.21</td>\n",
              "      <td>GTTSI</td>\n",
              "    </tr>\n",
              "    <tr>\n",
              "      <th>1231</th>\n",
              "      <td>Nissan Micra Diesel XV</td>\n",
              "      <td>Kolkata</td>\n",
              "      <td>2012</td>\n",
              "      <td>28000</td>\n",
              "      <td>Diesel</td>\n",
              "      <td>Manual</td>\n",
              "      <td>First</td>\n",
              "      <td>23.08 kmpl</td>\n",
              "      <td>1461 CC</td>\n",
              "      <td>63.1 bhp</td>\n",
              "      <td>5.0</td>\n",
              "      <td>NaN</td>\n",
              "      <td>nissan</td>\n",
              "      <td>micra</td>\n",
              "      <td>1461</td>\n",
              "      <td>63.10</td>\n",
              "      <td>23.08</td>\n",
              "      <td>DieselXV</td>\n",
              "    </tr>\n",
              "    <tr>\n",
              "      <th>1232</th>\n",
              "      <td>Volkswagen Polo GT TSI</td>\n",
              "      <td>Pune</td>\n",
              "      <td>2013</td>\n",
              "      <td>52262</td>\n",
              "      <td>Petrol</td>\n",
              "      <td>Automatic</td>\n",
              "      <td>Third</td>\n",
              "      <td>17.2 kmpl</td>\n",
              "      <td>1197 CC</td>\n",
              "      <td>103.6 bhp</td>\n",
              "      <td>5.0</td>\n",
              "      <td>NaN</td>\n",
              "      <td>volkswagen</td>\n",
              "      <td>polo</td>\n",
              "      <td>1197</td>\n",
              "      <td>103.60</td>\n",
              "      <td>17.20</td>\n",
              "      <td>GTTSI</td>\n",
              "    </tr>\n",
              "    <tr>\n",
              "      <th>1233</th>\n",
              "      <td>Mercedes-Benz E-Class 2009-2013 E 220 CDI Avan...</td>\n",
              "      <td>Kochi</td>\n",
              "      <td>2014</td>\n",
              "      <td>72443</td>\n",
              "      <td>Diesel</td>\n",
              "      <td>Automatic</td>\n",
              "      <td>First</td>\n",
              "      <td>10.0 kmpl</td>\n",
              "      <td>2148 CC</td>\n",
              "      <td>170 bhp</td>\n",
              "      <td>5.0</td>\n",
              "      <td>NaN</td>\n",
              "      <td>mercedesbenz</td>\n",
              "      <td>e-class</td>\n",
              "      <td>2148</td>\n",
              "      <td>170.00</td>\n",
              "      <td>10.00</td>\n",
              "      <td>2009-2013E220CDIAvantgarde</td>\n",
              "    </tr>\n",
              "  </tbody>\n",
              "</table>\n",
              "<p>7253 rows × 18 columns</p>\n",
              "</div>"
            ],
            "text/plain": [
              "                                                   Name    Location  Year  \\\n",
              "0                                Maruti Wagon R LXI CNG      Mumbai  2010   \n",
              "1                      Hyundai Creta 1.6 CRDi SX Option        Pune  2015   \n",
              "2                                          Honda Jazz V     Chennai  2011   \n",
              "3                                     Maruti Ertiga VDI     Chennai  2012   \n",
              "4                       Audi A4 New 2.0 TDI Multitronic  Coimbatore  2013   \n",
              "...                                                 ...         ...   ...   \n",
              "1229                  Volkswagen Vento Diesel Trendline   Hyderabad  2011   \n",
              "1230                             Volkswagen Polo GT TSI      Mumbai  2015   \n",
              "1231                             Nissan Micra Diesel XV     Kolkata  2012   \n",
              "1232                             Volkswagen Polo GT TSI        Pune  2013   \n",
              "1233  Mercedes-Benz E-Class 2009-2013 E 220 CDI Avan...       Kochi  2014   \n",
              "\n",
              "      Kilometers_Driven Fuel_Type Transmission Owner_Type     Mileage  \\\n",
              "0                 72000       CNG       Manual      First  26.6 km/kg   \n",
              "1                 41000    Diesel       Manual      First  19.67 kmpl   \n",
              "2                 46000    Petrol       Manual      First   18.2 kmpl   \n",
              "3                 87000    Diesel       Manual      First  20.77 kmpl   \n",
              "4                 40670    Diesel    Automatic     Second   15.2 kmpl   \n",
              "...                 ...       ...          ...        ...         ...   \n",
              "1229              89411    Diesel       Manual      First  20.54 kmpl   \n",
              "1230              59000    Petrol    Automatic      First  17.21 kmpl   \n",
              "1231              28000    Diesel       Manual      First  23.08 kmpl   \n",
              "1232              52262    Petrol    Automatic      Third   17.2 kmpl   \n",
              "1233              72443    Diesel    Automatic      First   10.0 kmpl   \n",
              "\n",
              "       Engine      Power  Seats  Price    carCompany carModel  cleanEngine  \\\n",
              "0      998 CC  58.16 bhp    5.0   1.75        Maruti    wagon          998   \n",
              "1     1582 CC  126.2 bhp    5.0  12.50       Hyundai    creta         1582   \n",
              "2     1199 CC   88.7 bhp    5.0   4.50         Honda     jazz         1199   \n",
              "3     1248 CC  88.76 bhp    7.0   6.00        Maruti   ertiga         1248   \n",
              "4     1968 CC  140.8 bhp    5.0  17.74          Audi       a4         1968   \n",
              "...       ...        ...    ...    ...           ...      ...          ...   \n",
              "1229  1598 CC  103.6 bhp    5.0    NaN    volkswagen    vento         1598   \n",
              "1230  1197 CC  103.6 bhp    5.0    NaN    volkswagen     polo         1197   \n",
              "1231  1461 CC   63.1 bhp    5.0    NaN        nissan    micra         1461   \n",
              "1232  1197 CC  103.6 bhp    5.0    NaN    volkswagen     polo         1197   \n",
              "1233  2148 CC    170 bhp    5.0    NaN  mercedesbenz  e-class         2148   \n",
              "\n",
              "      cleanPower  cleanMileage                  carVersion  \n",
              "0          58.16         26.60                         NaN  \n",
              "1         126.20         19.67                         NaN  \n",
              "2          88.70         18.20                         NaN  \n",
              "3          88.76         20.77                         NaN  \n",
              "4         140.80         15.20                         NaN  \n",
              "...          ...           ...                         ...  \n",
              "1229      103.60         20.54             DieselTrendline  \n",
              "1230      103.60         17.21                       GTTSI  \n",
              "1231       63.10         23.08                    DieselXV  \n",
              "1232      103.60         17.20                       GTTSI  \n",
              "1233      170.00         10.00  2009-2013E220CDIAvantgarde  \n",
              "\n",
              "[7253 rows x 18 columns]"
            ]
          },
          "execution_count": 68,
          "metadata": {},
          "output_type": "execute_result"
        }
      ],
      "source": [
        "data_concate"
      ]
    },
    {
      "cell_type": "markdown",
      "metadata": {
        "id": "qfG-3ajH-tkF"
      },
      "source": [
        "## Label Encoding"
      ]
    },
    {
      "cell_type": "markdown",
      "metadata": {
        "id": "-SIlEvSz-tkF"
      },
      "source": [
        "### Brand Encoding"
      ]
    },
    {
      "cell_type": "code",
      "execution_count": null,
      "metadata": {
        "id": "xkGClC87-tkF",
        "outputId": "957af78b-615e-4ff3-e22c-9e39c769366f"
      },
      "outputs": [
        {
          "data": {
            "text/plain": [
              "LabelEncoder()"
            ]
          },
          "execution_count": 69,
          "metadata": {},
          "output_type": "execute_result"
        }
      ],
      "source": [
        "from sklearn import preprocessing\n",
        "le = preprocessing.LabelEncoder()\n",
        "le.fit(data_concate['carCompany'])"
      ]
    },
    {
      "cell_type": "code",
      "execution_count": null,
      "metadata": {
        "id": "7Voj6Blu-tkF"
      },
      "outputs": [],
      "source": [
        "data_concate['Transformed_carCompany'] = le.transform(data_concate['carCompany'])"
      ]
    },
    {
      "cell_type": "markdown",
      "metadata": {
        "id": "G71mvGWz-tkG"
      },
      "source": [
        "### Model Encoding"
      ]
    },
    {
      "cell_type": "code",
      "execution_count": null,
      "metadata": {
        "id": "HlzrHDtI-tkG"
      },
      "outputs": [],
      "source": [
        "from sklearn import preprocessing\n",
        "le = preprocessing.LabelEncoder()\n",
        "le.fit(data_concate['carModel'])\n",
        "data_concate['Transformed_carModel']=le.transform(data_concate['carModel'])"
      ]
    },
    {
      "cell_type": "markdown",
      "metadata": {
        "id": "cwmyn5TQ-tkG"
      },
      "source": [
        "### Owner Type Encoding"
      ]
    },
    {
      "cell_type": "code",
      "execution_count": null,
      "metadata": {
        "id": "ov1E2nLo-tkG"
      },
      "outputs": [],
      "source": [
        "from sklearn import preprocessing\n",
        "le = preprocessing.LabelEncoder()\n",
        "le.fit(data_concate['Owner_Type'])\n",
        "data_concate['Transformed_Owner_Type']=le.transform(data_concate['Owner_Type'])"
      ]
    },
    {
      "cell_type": "code",
      "execution_count": null,
      "metadata": {
        "scrolled": false,
        "id": "e88dP6yT-tkG",
        "outputId": "89572e69-53ed-406c-a956-39964d32c418"
      },
      "outputs": [
        {
          "data": {
            "text/html": [
              "<div>\n",
              "<style scoped>\n",
              "    .dataframe tbody tr th:only-of-type {\n",
              "        vertical-align: middle;\n",
              "    }\n",
              "\n",
              "    .dataframe tbody tr th {\n",
              "        vertical-align: top;\n",
              "    }\n",
              "\n",
              "    .dataframe thead th {\n",
              "        text-align: right;\n",
              "    }\n",
              "</style>\n",
              "<table border=\"1\" class=\"dataframe\">\n",
              "  <thead>\n",
              "    <tr style=\"text-align: right;\">\n",
              "      <th></th>\n",
              "      <th>Name</th>\n",
              "      <th>Location</th>\n",
              "      <th>Year</th>\n",
              "      <th>Kilometers_Driven</th>\n",
              "      <th>Fuel_Type</th>\n",
              "      <th>Transmission</th>\n",
              "      <th>Owner_Type</th>\n",
              "      <th>Mileage</th>\n",
              "      <th>Engine</th>\n",
              "      <th>Power</th>\n",
              "      <th>...</th>\n",
              "      <th>Price</th>\n",
              "      <th>carCompany</th>\n",
              "      <th>carModel</th>\n",
              "      <th>cleanEngine</th>\n",
              "      <th>cleanPower</th>\n",
              "      <th>cleanMileage</th>\n",
              "      <th>carVersion</th>\n",
              "      <th>Transformed_carCompany</th>\n",
              "      <th>Transformed_carModel</th>\n",
              "      <th>Transformed_Owner_Type</th>\n",
              "    </tr>\n",
              "  </thead>\n",
              "  <tbody>\n",
              "    <tr>\n",
              "      <th>0</th>\n",
              "      <td>Maruti Wagon R LXI CNG</td>\n",
              "      <td>Mumbai</td>\n",
              "      <td>2010</td>\n",
              "      <td>72000</td>\n",
              "      <td>CNG</td>\n",
              "      <td>Manual</td>\n",
              "      <td>First</td>\n",
              "      <td>26.6 km/kg</td>\n",
              "      <td>998 CC</td>\n",
              "      <td>58.16 bhp</td>\n",
              "      <td>...</td>\n",
              "      <td>1.75</td>\n",
              "      <td>Maruti</td>\n",
              "      <td>wagon</td>\n",
              "      <td>998</td>\n",
              "      <td>58.16</td>\n",
              "      <td>26.60</td>\n",
              "      <td>NaN</td>\n",
              "      <td>17</td>\n",
              "      <td>196</td>\n",
              "      <td>0</td>\n",
              "    </tr>\n",
              "    <tr>\n",
              "      <th>1</th>\n",
              "      <td>Hyundai Creta 1.6 CRDi SX Option</td>\n",
              "      <td>Pune</td>\n",
              "      <td>2015</td>\n",
              "      <td>41000</td>\n",
              "      <td>Diesel</td>\n",
              "      <td>Manual</td>\n",
              "      <td>First</td>\n",
              "      <td>19.67 kmpl</td>\n",
              "      <td>1582 CC</td>\n",
              "      <td>126.2 bhp</td>\n",
              "      <td>...</td>\n",
              "      <td>12.50</td>\n",
              "      <td>Hyundai</td>\n",
              "      <td>creta</td>\n",
              "      <td>1582</td>\n",
              "      <td>126.20</td>\n",
              "      <td>19.67</td>\n",
              "      <td>NaN</td>\n",
              "      <td>10</td>\n",
              "      <td>56</td>\n",
              "      <td>0</td>\n",
              "    </tr>\n",
              "    <tr>\n",
              "      <th>2</th>\n",
              "      <td>Honda Jazz V</td>\n",
              "      <td>Chennai</td>\n",
              "      <td>2011</td>\n",
              "      <td>46000</td>\n",
              "      <td>Petrol</td>\n",
              "      <td>Manual</td>\n",
              "      <td>First</td>\n",
              "      <td>18.2 kmpl</td>\n",
              "      <td>1199 CC</td>\n",
              "      <td>88.7 bhp</td>\n",
              "      <td>...</td>\n",
              "      <td>4.50</td>\n",
              "      <td>Honda</td>\n",
              "      <td>jazz</td>\n",
              "      <td>1199</td>\n",
              "      <td>88.70</td>\n",
              "      <td>18.20</td>\n",
              "      <td>NaN</td>\n",
              "      <td>9</td>\n",
              "      <td>104</td>\n",
              "      <td>0</td>\n",
              "    </tr>\n",
              "    <tr>\n",
              "      <th>3</th>\n",
              "      <td>Maruti Ertiga VDI</td>\n",
              "      <td>Chennai</td>\n",
              "      <td>2012</td>\n",
              "      <td>87000</td>\n",
              "      <td>Diesel</td>\n",
              "      <td>Manual</td>\n",
              "      <td>First</td>\n",
              "      <td>20.77 kmpl</td>\n",
              "      <td>1248 CC</td>\n",
              "      <td>88.76 bhp</td>\n",
              "      <td>...</td>\n",
              "      <td>6.00</td>\n",
              "      <td>Maruti</td>\n",
              "      <td>ertiga</td>\n",
              "      <td>1248</td>\n",
              "      <td>88.76</td>\n",
              "      <td>20.77</td>\n",
              "      <td>NaN</td>\n",
              "      <td>17</td>\n",
              "      <td>71</td>\n",
              "      <td>0</td>\n",
              "    </tr>\n",
              "    <tr>\n",
              "      <th>4</th>\n",
              "      <td>Audi A4 New 2.0 TDI Multitronic</td>\n",
              "      <td>Coimbatore</td>\n",
              "      <td>2013</td>\n",
              "      <td>40670</td>\n",
              "      <td>Diesel</td>\n",
              "      <td>Automatic</td>\n",
              "      <td>Second</td>\n",
              "      <td>15.2 kmpl</td>\n",
              "      <td>1968 CC</td>\n",
              "      <td>140.8 bhp</td>\n",
              "      <td>...</td>\n",
              "      <td>17.74</td>\n",
              "      <td>Audi</td>\n",
              "      <td>a4</td>\n",
              "      <td>1968</td>\n",
              "      <td>140.80</td>\n",
              "      <td>15.20</td>\n",
              "      <td>NaN</td>\n",
              "      <td>1</td>\n",
              "      <td>12</td>\n",
              "      <td>2</td>\n",
              "    </tr>\n",
              "    <tr>\n",
              "      <th>...</th>\n",
              "      <td>...</td>\n",
              "      <td>...</td>\n",
              "      <td>...</td>\n",
              "      <td>...</td>\n",
              "      <td>...</td>\n",
              "      <td>...</td>\n",
              "      <td>...</td>\n",
              "      <td>...</td>\n",
              "      <td>...</td>\n",
              "      <td>...</td>\n",
              "      <td>...</td>\n",
              "      <td>...</td>\n",
              "      <td>...</td>\n",
              "      <td>...</td>\n",
              "      <td>...</td>\n",
              "      <td>...</td>\n",
              "      <td>...</td>\n",
              "      <td>...</td>\n",
              "      <td>...</td>\n",
              "      <td>...</td>\n",
              "      <td>...</td>\n",
              "    </tr>\n",
              "    <tr>\n",
              "      <th>1229</th>\n",
              "      <td>Volkswagen Vento Diesel Trendline</td>\n",
              "      <td>Hyderabad</td>\n",
              "      <td>2011</td>\n",
              "      <td>89411</td>\n",
              "      <td>Diesel</td>\n",
              "      <td>Manual</td>\n",
              "      <td>First</td>\n",
              "      <td>20.54 kmpl</td>\n",
              "      <td>1598 CC</td>\n",
              "      <td>103.6 bhp</td>\n",
              "      <td>...</td>\n",
              "      <td>NaN</td>\n",
              "      <td>volkswagen</td>\n",
              "      <td>vento</td>\n",
              "      <td>1598</td>\n",
              "      <td>103.60</td>\n",
              "      <td>20.54</td>\n",
              "      <td>DieselTrendline</td>\n",
              "      <td>56</td>\n",
              "      <td>190</td>\n",
              "      <td>0</td>\n",
              "    </tr>\n",
              "    <tr>\n",
              "      <th>1230</th>\n",
              "      <td>Volkswagen Polo GT TSI</td>\n",
              "      <td>Mumbai</td>\n",
              "      <td>2015</td>\n",
              "      <td>59000</td>\n",
              "      <td>Petrol</td>\n",
              "      <td>Automatic</td>\n",
              "      <td>First</td>\n",
              "      <td>17.21 kmpl</td>\n",
              "      <td>1197 CC</td>\n",
              "      <td>103.6 bhp</td>\n",
              "      <td>...</td>\n",
              "      <td>NaN</td>\n",
              "      <td>volkswagen</td>\n",
              "      <td>polo</td>\n",
              "      <td>1197</td>\n",
              "      <td>103.60</td>\n",
              "      <td>17.21</td>\n",
              "      <td>GTTSI</td>\n",
              "      <td>56</td>\n",
              "      <td>139</td>\n",
              "      <td>0</td>\n",
              "    </tr>\n",
              "    <tr>\n",
              "      <th>1231</th>\n",
              "      <td>Nissan Micra Diesel XV</td>\n",
              "      <td>Kolkata</td>\n",
              "      <td>2012</td>\n",
              "      <td>28000</td>\n",
              "      <td>Diesel</td>\n",
              "      <td>Manual</td>\n",
              "      <td>First</td>\n",
              "      <td>23.08 kmpl</td>\n",
              "      <td>1461 CC</td>\n",
              "      <td>63.1 bhp</td>\n",
              "      <td>...</td>\n",
              "      <td>NaN</td>\n",
              "      <td>nissan</td>\n",
              "      <td>micra</td>\n",
              "      <td>1461</td>\n",
              "      <td>63.10</td>\n",
              "      <td>23.08</td>\n",
              "      <td>DieselXV</td>\n",
              "      <td>49</td>\n",
              "      <td>118</td>\n",
              "      <td>0</td>\n",
              "    </tr>\n",
              "    <tr>\n",
              "      <th>1232</th>\n",
              "      <td>Volkswagen Polo GT TSI</td>\n",
              "      <td>Pune</td>\n",
              "      <td>2013</td>\n",
              "      <td>52262</td>\n",
              "      <td>Petrol</td>\n",
              "      <td>Automatic</td>\n",
              "      <td>Third</td>\n",
              "      <td>17.2 kmpl</td>\n",
              "      <td>1197 CC</td>\n",
              "      <td>103.6 bhp</td>\n",
              "      <td>...</td>\n",
              "      <td>NaN</td>\n",
              "      <td>volkswagen</td>\n",
              "      <td>polo</td>\n",
              "      <td>1197</td>\n",
              "      <td>103.60</td>\n",
              "      <td>17.20</td>\n",
              "      <td>GTTSI</td>\n",
              "      <td>56</td>\n",
              "      <td>139</td>\n",
              "      <td>3</td>\n",
              "    </tr>\n",
              "    <tr>\n",
              "      <th>1233</th>\n",
              "      <td>Mercedes-Benz E-Class 2009-2013 E 220 CDI Avan...</td>\n",
              "      <td>Kochi</td>\n",
              "      <td>2014</td>\n",
              "      <td>72443</td>\n",
              "      <td>Diesel</td>\n",
              "      <td>Automatic</td>\n",
              "      <td>First</td>\n",
              "      <td>10.0 kmpl</td>\n",
              "      <td>2148 CC</td>\n",
              "      <td>170 bhp</td>\n",
              "      <td>...</td>\n",
              "      <td>NaN</td>\n",
              "      <td>mercedesbenz</td>\n",
              "      <td>e-class</td>\n",
              "      <td>2148</td>\n",
              "      <td>170.00</td>\n",
              "      <td>10.00</td>\n",
              "      <td>2009-2013E220CDIAvantgarde</td>\n",
              "      <td>46</td>\n",
              "      <td>63</td>\n",
              "      <td>0</td>\n",
              "    </tr>\n",
              "  </tbody>\n",
              "</table>\n",
              "<p>7253 rows × 21 columns</p>\n",
              "</div>"
            ],
            "text/plain": [
              "                                                   Name    Location  Year  \\\n",
              "0                                Maruti Wagon R LXI CNG      Mumbai  2010   \n",
              "1                      Hyundai Creta 1.6 CRDi SX Option        Pune  2015   \n",
              "2                                          Honda Jazz V     Chennai  2011   \n",
              "3                                     Maruti Ertiga VDI     Chennai  2012   \n",
              "4                       Audi A4 New 2.0 TDI Multitronic  Coimbatore  2013   \n",
              "...                                                 ...         ...   ...   \n",
              "1229                  Volkswagen Vento Diesel Trendline   Hyderabad  2011   \n",
              "1230                             Volkswagen Polo GT TSI      Mumbai  2015   \n",
              "1231                             Nissan Micra Diesel XV     Kolkata  2012   \n",
              "1232                             Volkswagen Polo GT TSI        Pune  2013   \n",
              "1233  Mercedes-Benz E-Class 2009-2013 E 220 CDI Avan...       Kochi  2014   \n",
              "\n",
              "      Kilometers_Driven Fuel_Type Transmission Owner_Type     Mileage  \\\n",
              "0                 72000       CNG       Manual      First  26.6 km/kg   \n",
              "1                 41000    Diesel       Manual      First  19.67 kmpl   \n",
              "2                 46000    Petrol       Manual      First   18.2 kmpl   \n",
              "3                 87000    Diesel       Manual      First  20.77 kmpl   \n",
              "4                 40670    Diesel    Automatic     Second   15.2 kmpl   \n",
              "...                 ...       ...          ...        ...         ...   \n",
              "1229              89411    Diesel       Manual      First  20.54 kmpl   \n",
              "1230              59000    Petrol    Automatic      First  17.21 kmpl   \n",
              "1231              28000    Diesel       Manual      First  23.08 kmpl   \n",
              "1232              52262    Petrol    Automatic      Third   17.2 kmpl   \n",
              "1233              72443    Diesel    Automatic      First   10.0 kmpl   \n",
              "\n",
              "       Engine      Power  ...  Price    carCompany carModel cleanEngine  \\\n",
              "0      998 CC  58.16 bhp  ...   1.75        Maruti    wagon         998   \n",
              "1     1582 CC  126.2 bhp  ...  12.50       Hyundai    creta        1582   \n",
              "2     1199 CC   88.7 bhp  ...   4.50         Honda     jazz        1199   \n",
              "3     1248 CC  88.76 bhp  ...   6.00        Maruti   ertiga        1248   \n",
              "4     1968 CC  140.8 bhp  ...  17.74          Audi       a4        1968   \n",
              "...       ...        ...  ...    ...           ...      ...         ...   \n",
              "1229  1598 CC  103.6 bhp  ...    NaN    volkswagen    vento        1598   \n",
              "1230  1197 CC  103.6 bhp  ...    NaN    volkswagen     polo        1197   \n",
              "1231  1461 CC   63.1 bhp  ...    NaN        nissan    micra        1461   \n",
              "1232  1197 CC  103.6 bhp  ...    NaN    volkswagen     polo        1197   \n",
              "1233  2148 CC    170 bhp  ...    NaN  mercedesbenz  e-class        2148   \n",
              "\n",
              "      cleanPower  cleanMileage                  carVersion  \\\n",
              "0          58.16         26.60                         NaN   \n",
              "1         126.20         19.67                         NaN   \n",
              "2          88.70         18.20                         NaN   \n",
              "3          88.76         20.77                         NaN   \n",
              "4         140.80         15.20                         NaN   \n",
              "...          ...           ...                         ...   \n",
              "1229      103.60         20.54             DieselTrendline   \n",
              "1230      103.60         17.21                       GTTSI   \n",
              "1231       63.10         23.08                    DieselXV   \n",
              "1232      103.60         17.20                       GTTSI   \n",
              "1233      170.00         10.00  2009-2013E220CDIAvantgarde   \n",
              "\n",
              "     Transformed_carCompany  Transformed_carModel  Transformed_Owner_Type  \n",
              "0                        17                   196                       0  \n",
              "1                        10                    56                       0  \n",
              "2                         9                   104                       0  \n",
              "3                        17                    71                       0  \n",
              "4                         1                    12                       2  \n",
              "...                     ...                   ...                     ...  \n",
              "1229                     56                   190                       0  \n",
              "1230                     56                   139                       0  \n",
              "1231                     49                   118                       0  \n",
              "1232                     56                   139                       3  \n",
              "1233                     46                    63                       0  \n",
              "\n",
              "[7253 rows x 21 columns]"
            ]
          },
          "execution_count": 73,
          "metadata": {},
          "output_type": "execute_result"
        }
      ],
      "source": [
        "data_concate"
      ]
    },
    {
      "cell_type": "markdown",
      "metadata": {
        "id": "90D3sjry-tkG"
      },
      "source": [
        "## One Hot Encoding"
      ]
    },
    {
      "cell_type": "code",
      "execution_count": null,
      "metadata": {
        "id": "X4dGm8Ot-tkG"
      },
      "outputs": [],
      "source": [
        "from sklearn.preprocessing import OneHotEncoder\n",
        "enc = OneHotEncoder(handle_unknown='ignore')\n",
        "ohe_trns = enc.fit_transform(data_concate['Year'].values.astype(float).reshape(-1,1))"
      ]
    },
    {
      "cell_type": "code",
      "execution_count": null,
      "metadata": {
        "id": "SkhyJYBW-tkG"
      },
      "outputs": [],
      "source": [
        "data_concate=pd.concat([data_concate,pd.get_dummies(data_concate['Location'],prefix='Location')],axis=1)\n",
        "data_concate=pd.concat([data_concate,pd.get_dummies(data_concate['Year'],prefix='Year')],axis=1)"
      ]
    },
    {
      "cell_type": "code",
      "execution_count": null,
      "metadata": {
        "id": "ONt9Rr2e-tkG"
      },
      "outputs": [],
      "source": [
        "data_concate=pd.concat([data_concate,pd.get_dummies(data_concate['Transmission'],prefix='Transmission')],axis=1)"
      ]
    },
    {
      "cell_type": "code",
      "execution_count": null,
      "metadata": {
        "id": "2DpZGXdL-tkH",
        "outputId": "c8ea3e41-428d-4308-b871-fa098e5b9278"
      },
      "outputs": [
        {
          "data": {
            "text/plain": [
              "Index(['Name', 'Location', 'Year', 'Kilometers_Driven', 'Fuel_Type',\n",
              "       'Transmission', 'Owner_Type', 'Mileage', 'Engine', 'Power', 'Seats',\n",
              "       'Price', 'carCompany', 'carModel', 'cleanEngine', 'cleanPower',\n",
              "       'cleanMileage', 'carVersion', 'Transformed_carCompany',\n",
              "       'Transformed_carModel', 'Transformed_Owner_Type', 'Location_Ahmedabad',\n",
              "       'Location_Bangalore', 'Location_Chennai', 'Location_Coimbatore',\n",
              "       'Location_Delhi', 'Location_Hyderabad', 'Location_Jaipur',\n",
              "       'Location_Kochi', 'Location_Kolkata', 'Location_Mumbai',\n",
              "       'Location_Pune', 'Year_1996', 'Year_1998', 'Year_1999', 'Year_2000',\n",
              "       'Year_2001', 'Year_2002', 'Year_2003', 'Year_2004', 'Year_2005',\n",
              "       'Year_2006', 'Year_2007', 'Year_2008', 'Year_2009', 'Year_2010',\n",
              "       'Year_2011', 'Year_2012', 'Year_2013', 'Year_2014', 'Year_2015',\n",
              "       'Year_2016', 'Year_2017', 'Year_2018', 'Year_2019',\n",
              "       'Transmission_Automatic', 'Transmission_Manual'],\n",
              "      dtype='object')"
            ]
          },
          "execution_count": 77,
          "metadata": {},
          "output_type": "execute_result"
        }
      ],
      "source": [
        "data_concate.columns"
      ]
    },
    {
      "cell_type": "code",
      "execution_count": null,
      "metadata": {
        "id": "OC8NqJ-o-tkH",
        "outputId": "9c54eb8b-c955-4f92-9159-fe6ee50ecaf4"
      },
      "outputs": [
        {
          "data": {
            "text/plain": [
              "array(['Mercedesbenz', 'Audi', 'Bmw', 'Land', 'Mini', 'Jaguar', 'Porsche',\n",
              "       'Ford', 'Toyota', 'Bentley', 'Lamborghini'], dtype=object)"
            ]
          },
          "execution_count": 78,
          "metadata": {},
          "output_type": "execute_result"
        }
      ],
      "source": [
        "data_concate[data_concate['Price']>35]['carCompany'].unique()"
      ]
    },
    {
      "cell_type": "code",
      "execution_count": null,
      "metadata": {
        "id": "7iAfyfUC-tkH"
      },
      "outputs": [],
      "source": [
        "data_concate['mercedes-benz_highend_car']=data_concate[['carCompany','Price']].apply(lambda x: 1 if ((x['carCompany']=='mercedesbenz')&(x['Price']>35)) else 0, axis=1)\n",
        "data_concate['audi_highend_car']=data_concate[['carCompany','Price']].apply(lambda x: 1 if ((x['carCompany']=='audi')&(x['Price']>35)) else 0, axis=1)\n",
        "data_concate['bmw_highend_car']=data_concate[['carCompany','Price']].apply(lambda x: 1 if ((x['carCompany']=='bmw')&(x['Price']>35)) else 0, axis=1)\n",
        "data_concate['landrover_highend_car']=data_concate[['carCompany','Price']].apply(lambda x: 1 if ((x['carCompany']=='land')&(x['Price']>35)) else 0, axis=1)\n",
        "data_concate['minicooper_highend_car']=data_concate[['carCompany','Price']].apply(lambda x: 1 if ((x['carCompany']=='mini')&(x['Price']>35)) else 0, axis=1)\n",
        "data_concate['jaguar_highend_car']=data_concate[['carCompany','Price']].apply(lambda x: 1 if ((x['carCompany']=='jaguar')&(x['Price']>35)) else 0, axis=1)\n",
        "data_concate['porsche_highend_car']=data_concate[['carCompany','Price']].apply(lambda x: 1 if ((x['carCompany']=='porsche')&(x['Price']>35)) else 0, axis=1)\n",
        "data_concate['ford_highend_car']=data_concate[['carCompany','Price']].apply(lambda x: 1 if ((x['carCompany']=='ford')&(x['Price']>35)) else 0, axis=1)\n",
        "data_concate['toyota_highend_car']=data_concate[['carCompany','Price']].apply(lambda x: 1 if ((x['carCompany']=='toyota')&(x['Price']>35)) else 0, axis=1)\n",
        "data_concate['bentley_highend_car']=data_concate[['carCompany','Price']].apply(lambda x: 1 if ((x['carCompany']=='bentley')&(x['Price']>35)) else 0, axis=1)\n",
        "data_concate['lamborghini_highend_car']=data_concate[['carCompany','Price']].apply(lambda x: 1 if ((x['carCompany']=='lamborghini')&(x['Price']>35)) else 0, axis=1)"
      ]
    },
    {
      "cell_type": "code",
      "execution_count": null,
      "metadata": {
        "id": "QOktnJEL-tkH"
      },
      "outputs": [],
      "source": [
        "data_concate['Below_2000']=data_concate.Year.apply(lambda x: 1 if x<2000 else 0)\n",
        "data_concate['2000_2005']=data_concate.Year.apply(lambda x: 1 if (x>=2000 & x<2005) else 0)\n",
        "data_concate['2005_2010']=data_concate.Year.apply(lambda x: 1 if (x>=2005 & x<2010) else 0)\n",
        "data_concate['2010_2015']=data_concate.Year.apply(lambda x: 1 if (x>=2010 & x<2015) else 0)\n",
        "data_concate['2015_above']=data_concate.Year.apply(lambda x: 1 if x>=2015 else 0)"
      ]
    },
    {
      "cell_type": "code",
      "execution_count": null,
      "metadata": {
        "id": "e3C5IfoW-tkH",
        "outputId": "08ebf9ff-7a9e-4bab-9f27-fc1218e87a29"
      },
      "outputs": [
        {
          "data": {
            "text/plain": [
              "Index(['Name', 'Location', 'Year', 'Kilometers_Driven', 'Fuel_Type',\n",
              "       'Transmission', 'Owner_Type', 'Mileage', 'Engine', 'Power', 'Seats',\n",
              "       'Price', 'carCompany', 'carModel', 'cleanEngine', 'cleanPower',\n",
              "       'cleanMileage', 'carVersion', 'Transformed_carCompany',\n",
              "       'Transformed_carModel', 'Transformed_Owner_Type', 'Location_Ahmedabad',\n",
              "       'Location_Bangalore', 'Location_Chennai', 'Location_Coimbatore',\n",
              "       'Location_Delhi', 'Location_Hyderabad', 'Location_Jaipur',\n",
              "       'Location_Kochi', 'Location_Kolkata', 'Location_Mumbai',\n",
              "       'Location_Pune', 'Year_1996', 'Year_1998', 'Year_1999', 'Year_2000',\n",
              "       'Year_2001', 'Year_2002', 'Year_2003', 'Year_2004', 'Year_2005',\n",
              "       'Year_2006', 'Year_2007', 'Year_2008', 'Year_2009', 'Year_2010',\n",
              "       'Year_2011', 'Year_2012', 'Year_2013', 'Year_2014', 'Year_2015',\n",
              "       'Year_2016', 'Year_2017', 'Year_2018', 'Year_2019',\n",
              "       'Transmission_Automatic', 'Transmission_Manual',\n",
              "       'mercedes-benz_highend_car', 'audi_highend_car', 'bmw_highend_car',\n",
              "       'landrover_highend_car', 'minicooper_highend_car', 'jaguar_highend_car',\n",
              "       'porsche_highend_car', 'ford_highend_car', 'toyota_highend_car',\n",
              "       'bentley_highend_car', 'lamborghini_highend_car', 'Below_2000',\n",
              "       '2000_2005', '2005_2010', '2010_2015', '2015_above'],\n",
              "      dtype='object')"
            ]
          },
          "execution_count": 81,
          "metadata": {},
          "output_type": "execute_result"
        }
      ],
      "source": [
        "data_concate.columns"
      ]
    },
    {
      "cell_type": "markdown",
      "metadata": {
        "id": "_yncid8K-tkH"
      },
      "source": [
        "### Min Max Scaling"
      ]
    },
    {
      "cell_type": "code",
      "execution_count": null,
      "metadata": {
        "id": "pQXkvR89-tkH"
      },
      "outputs": [],
      "source": [
        "from sklearn.preprocessing import MinMaxScaler\n",
        "for i in ['Kilometers_Driven']:\n",
        "    data_concate[i]= MinMaxScaler(feature_range=(0,1)).fit_transform(data_concate[i].values.astype(float).reshape(-1,1))"
      ]
    },
    {
      "cell_type": "markdown",
      "metadata": {
        "id": "b-lMla4u-tkH"
      },
      "source": [
        "### Spliting Train and Test Data"
      ]
    },
    {
      "cell_type": "code",
      "execution_count": null,
      "metadata": {
        "id": "haucnh20-tkH",
        "outputId": "14b8c0d4-5ad2-4fd9-fd41-29ebafe8a422"
      },
      "outputs": [
        {
          "data": {
            "text/html": [
              "<div>\n",
              "<style scoped>\n",
              "    .dataframe tbody tr th:only-of-type {\n",
              "        vertical-align: middle;\n",
              "    }\n",
              "\n",
              "    .dataframe tbody tr th {\n",
              "        vertical-align: top;\n",
              "    }\n",
              "\n",
              "    .dataframe thead th {\n",
              "        text-align: right;\n",
              "    }\n",
              "</style>\n",
              "<table border=\"1\" class=\"dataframe\">\n",
              "  <thead>\n",
              "    <tr style=\"text-align: right;\">\n",
              "      <th></th>\n",
              "      <th>Name</th>\n",
              "      <th>Location</th>\n",
              "      <th>Year</th>\n",
              "      <th>Kilometers_Driven</th>\n",
              "      <th>Fuel_Type</th>\n",
              "      <th>Transmission</th>\n",
              "      <th>Owner_Type</th>\n",
              "      <th>Mileage</th>\n",
              "      <th>Engine</th>\n",
              "      <th>Power</th>\n",
              "      <th>Seats</th>\n",
              "      <th>Price</th>\n",
              "      <th>carCompany</th>\n",
              "      <th>carModel</th>\n",
              "      <th>cleanEngine</th>\n",
              "      <th>cleanPower</th>\n",
              "      <th>cleanMileage</th>\n",
              "    </tr>\n",
              "  </thead>\n",
              "  <tbody>\n",
              "    <tr>\n",
              "      <th>0</th>\n",
              "      <td>Maruti Wagon R LXI CNG</td>\n",
              "      <td>Mumbai</td>\n",
              "      <td>2010</td>\n",
              "      <td>72000</td>\n",
              "      <td>CNG</td>\n",
              "      <td>Manual</td>\n",
              "      <td>First</td>\n",
              "      <td>26.6 km/kg</td>\n",
              "      <td>998 CC</td>\n",
              "      <td>58.16 bhp</td>\n",
              "      <td>5.0</td>\n",
              "      <td>1.75</td>\n",
              "      <td>Maruti</td>\n",
              "      <td>wagon</td>\n",
              "      <td>998</td>\n",
              "      <td>58.16</td>\n",
              "      <td>26.60</td>\n",
              "    </tr>\n",
              "    <tr>\n",
              "      <th>1</th>\n",
              "      <td>Hyundai Creta 1.6 CRDi SX Option</td>\n",
              "      <td>Pune</td>\n",
              "      <td>2015</td>\n",
              "      <td>41000</td>\n",
              "      <td>Diesel</td>\n",
              "      <td>Manual</td>\n",
              "      <td>First</td>\n",
              "      <td>19.67 kmpl</td>\n",
              "      <td>1582 CC</td>\n",
              "      <td>126.2 bhp</td>\n",
              "      <td>5.0</td>\n",
              "      <td>12.50</td>\n",
              "      <td>Hyundai</td>\n",
              "      <td>creta</td>\n",
              "      <td>1582</td>\n",
              "      <td>126.20</td>\n",
              "      <td>19.67</td>\n",
              "    </tr>\n",
              "    <tr>\n",
              "      <th>2</th>\n",
              "      <td>Honda Jazz V</td>\n",
              "      <td>Chennai</td>\n",
              "      <td>2011</td>\n",
              "      <td>46000</td>\n",
              "      <td>Petrol</td>\n",
              "      <td>Manual</td>\n",
              "      <td>First</td>\n",
              "      <td>18.2 kmpl</td>\n",
              "      <td>1199 CC</td>\n",
              "      <td>88.7 bhp</td>\n",
              "      <td>5.0</td>\n",
              "      <td>4.50</td>\n",
              "      <td>Honda</td>\n",
              "      <td>jazz</td>\n",
              "      <td>1199</td>\n",
              "      <td>88.70</td>\n",
              "      <td>18.20</td>\n",
              "    </tr>\n",
              "    <tr>\n",
              "      <th>3</th>\n",
              "      <td>Maruti Ertiga VDI</td>\n",
              "      <td>Chennai</td>\n",
              "      <td>2012</td>\n",
              "      <td>87000</td>\n",
              "      <td>Diesel</td>\n",
              "      <td>Manual</td>\n",
              "      <td>First</td>\n",
              "      <td>20.77 kmpl</td>\n",
              "      <td>1248 CC</td>\n",
              "      <td>88.76 bhp</td>\n",
              "      <td>7.0</td>\n",
              "      <td>6.00</td>\n",
              "      <td>Maruti</td>\n",
              "      <td>ertiga</td>\n",
              "      <td>1248</td>\n",
              "      <td>88.76</td>\n",
              "      <td>20.77</td>\n",
              "    </tr>\n",
              "    <tr>\n",
              "      <th>4</th>\n",
              "      <td>Audi A4 New 2.0 TDI Multitronic</td>\n",
              "      <td>Coimbatore</td>\n",
              "      <td>2013</td>\n",
              "      <td>40670</td>\n",
              "      <td>Diesel</td>\n",
              "      <td>Automatic</td>\n",
              "      <td>Second</td>\n",
              "      <td>15.2 kmpl</td>\n",
              "      <td>1968 CC</td>\n",
              "      <td>140.8 bhp</td>\n",
              "      <td>5.0</td>\n",
              "      <td>17.74</td>\n",
              "      <td>Audi</td>\n",
              "      <td>a4</td>\n",
              "      <td>1968</td>\n",
              "      <td>140.80</td>\n",
              "      <td>15.20</td>\n",
              "    </tr>\n",
              "    <tr>\n",
              "      <th>...</th>\n",
              "      <td>...</td>\n",
              "      <td>...</td>\n",
              "      <td>...</td>\n",
              "      <td>...</td>\n",
              "      <td>...</td>\n",
              "      <td>...</td>\n",
              "      <td>...</td>\n",
              "      <td>...</td>\n",
              "      <td>...</td>\n",
              "      <td>...</td>\n",
              "      <td>...</td>\n",
              "      <td>...</td>\n",
              "      <td>...</td>\n",
              "      <td>...</td>\n",
              "      <td>...</td>\n",
              "      <td>...</td>\n",
              "      <td>...</td>\n",
              "    </tr>\n",
              "    <tr>\n",
              "      <th>6014</th>\n",
              "      <td>Maruti Swift VDI</td>\n",
              "      <td>Delhi</td>\n",
              "      <td>2014</td>\n",
              "      <td>27365</td>\n",
              "      <td>Diesel</td>\n",
              "      <td>Manual</td>\n",
              "      <td>First</td>\n",
              "      <td>28.4 kmpl</td>\n",
              "      <td>1248 CC</td>\n",
              "      <td>74 bhp</td>\n",
              "      <td>5.0</td>\n",
              "      <td>4.75</td>\n",
              "      <td>Maruti</td>\n",
              "      <td>swift</td>\n",
              "      <td>1248</td>\n",
              "      <td>74.00</td>\n",
              "      <td>28.40</td>\n",
              "    </tr>\n",
              "    <tr>\n",
              "      <th>6015</th>\n",
              "      <td>Hyundai Xcent 1.1 CRDi S</td>\n",
              "      <td>Jaipur</td>\n",
              "      <td>2015</td>\n",
              "      <td>100000</td>\n",
              "      <td>Diesel</td>\n",
              "      <td>Manual</td>\n",
              "      <td>First</td>\n",
              "      <td>24.4 kmpl</td>\n",
              "      <td>1120 CC</td>\n",
              "      <td>71 bhp</td>\n",
              "      <td>5.0</td>\n",
              "      <td>4.00</td>\n",
              "      <td>Hyundai</td>\n",
              "      <td>xcent</td>\n",
              "      <td>1120</td>\n",
              "      <td>71.00</td>\n",
              "      <td>24.40</td>\n",
              "    </tr>\n",
              "    <tr>\n",
              "      <th>6016</th>\n",
              "      <td>Mahindra Xylo D4 BSIV</td>\n",
              "      <td>Jaipur</td>\n",
              "      <td>2012</td>\n",
              "      <td>55000</td>\n",
              "      <td>Diesel</td>\n",
              "      <td>Manual</td>\n",
              "      <td>Second</td>\n",
              "      <td>14.0 kmpl</td>\n",
              "      <td>2498 CC</td>\n",
              "      <td>112 bhp</td>\n",
              "      <td>8.0</td>\n",
              "      <td>2.90</td>\n",
              "      <td>Mahindra</td>\n",
              "      <td>xylo</td>\n",
              "      <td>2498</td>\n",
              "      <td>112.00</td>\n",
              "      <td>14.00</td>\n",
              "    </tr>\n",
              "    <tr>\n",
              "      <th>6017</th>\n",
              "      <td>Maruti Wagon R VXI</td>\n",
              "      <td>Kolkata</td>\n",
              "      <td>2013</td>\n",
              "      <td>46000</td>\n",
              "      <td>Petrol</td>\n",
              "      <td>Manual</td>\n",
              "      <td>First</td>\n",
              "      <td>18.9 kmpl</td>\n",
              "      <td>998 CC</td>\n",
              "      <td>67.1 bhp</td>\n",
              "      <td>5.0</td>\n",
              "      <td>2.65</td>\n",
              "      <td>Maruti</td>\n",
              "      <td>wagon</td>\n",
              "      <td>998</td>\n",
              "      <td>67.10</td>\n",
              "      <td>18.90</td>\n",
              "    </tr>\n",
              "    <tr>\n",
              "      <th>6018</th>\n",
              "      <td>Chevrolet Beat Diesel</td>\n",
              "      <td>Hyderabad</td>\n",
              "      <td>2011</td>\n",
              "      <td>47000</td>\n",
              "      <td>Diesel</td>\n",
              "      <td>Manual</td>\n",
              "      <td>First</td>\n",
              "      <td>25.44 kmpl</td>\n",
              "      <td>936 CC</td>\n",
              "      <td>57.6 bhp</td>\n",
              "      <td>5.0</td>\n",
              "      <td>2.50</td>\n",
              "      <td>Chevrolet</td>\n",
              "      <td>beat</td>\n",
              "      <td>936</td>\n",
              "      <td>57.60</td>\n",
              "      <td>25.44</td>\n",
              "    </tr>\n",
              "  </tbody>\n",
              "</table>\n",
              "<p>6019 rows × 17 columns</p>\n",
              "</div>"
            ],
            "text/plain": [
              "                                  Name    Location  Year  Kilometers_Driven  \\\n",
              "0               Maruti Wagon R LXI CNG      Mumbai  2010              72000   \n",
              "1     Hyundai Creta 1.6 CRDi SX Option        Pune  2015              41000   \n",
              "2                         Honda Jazz V     Chennai  2011              46000   \n",
              "3                    Maruti Ertiga VDI     Chennai  2012              87000   \n",
              "4      Audi A4 New 2.0 TDI Multitronic  Coimbatore  2013              40670   \n",
              "...                                ...         ...   ...                ...   \n",
              "6014                  Maruti Swift VDI       Delhi  2014              27365   \n",
              "6015          Hyundai Xcent 1.1 CRDi S      Jaipur  2015             100000   \n",
              "6016             Mahindra Xylo D4 BSIV      Jaipur  2012              55000   \n",
              "6017                Maruti Wagon R VXI     Kolkata  2013              46000   \n",
              "6018             Chevrolet Beat Diesel   Hyderabad  2011              47000   \n",
              "\n",
              "     Fuel_Type Transmission Owner_Type     Mileage   Engine      Power  Seats  \\\n",
              "0          CNG       Manual      First  26.6 km/kg   998 CC  58.16 bhp    5.0   \n",
              "1       Diesel       Manual      First  19.67 kmpl  1582 CC  126.2 bhp    5.0   \n",
              "2       Petrol       Manual      First   18.2 kmpl  1199 CC   88.7 bhp    5.0   \n",
              "3       Diesel       Manual      First  20.77 kmpl  1248 CC  88.76 bhp    7.0   \n",
              "4       Diesel    Automatic     Second   15.2 kmpl  1968 CC  140.8 bhp    5.0   \n",
              "...        ...          ...        ...         ...      ...        ...    ...   \n",
              "6014    Diesel       Manual      First   28.4 kmpl  1248 CC     74 bhp    5.0   \n",
              "6015    Diesel       Manual      First   24.4 kmpl  1120 CC     71 bhp    5.0   \n",
              "6016    Diesel       Manual     Second   14.0 kmpl  2498 CC    112 bhp    8.0   \n",
              "6017    Petrol       Manual      First   18.9 kmpl   998 CC   67.1 bhp    5.0   \n",
              "6018    Diesel       Manual      First  25.44 kmpl   936 CC   57.6 bhp    5.0   \n",
              "\n",
              "      Price carCompany carModel  cleanEngine  cleanPower  cleanMileage  \n",
              "0      1.75     Maruti    wagon          998       58.16         26.60  \n",
              "1     12.50    Hyundai    creta         1582      126.20         19.67  \n",
              "2      4.50      Honda     jazz         1199       88.70         18.20  \n",
              "3      6.00     Maruti   ertiga         1248       88.76         20.77  \n",
              "4     17.74       Audi       a4         1968      140.80         15.20  \n",
              "...     ...        ...      ...          ...         ...           ...  \n",
              "6014   4.75     Maruti    swift         1248       74.00         28.40  \n",
              "6015   4.00    Hyundai    xcent         1120       71.00         24.40  \n",
              "6016   2.90   Mahindra     xylo         2498      112.00         14.00  \n",
              "6017   2.65     Maruti    wagon          998       67.10         18.90  \n",
              "6018   2.50  Chevrolet     beat          936       57.60         25.44  \n",
              "\n",
              "[6019 rows x 17 columns]"
            ]
          },
          "execution_count": 83,
          "metadata": {},
          "output_type": "execute_result"
        }
      ],
      "source": [
        "train_data"
      ]
    },
    {
      "cell_type": "code",
      "execution_count": null,
      "metadata": {
        "id": "cu_FiIRC-tkH"
      },
      "outputs": [],
      "source": [
        "train_data=data_concate[:6019]\n",
        "test_data=data_concate[6019:]"
      ]
    },
    {
      "cell_type": "code",
      "execution_count": null,
      "metadata": {
        "id": "V7UcUjfJ-tkI"
      },
      "outputs": [],
      "source": [
        "train_data1 = train_data.copy()\n",
        "test_data1 = test_data.copy()"
      ]
    },
    {
      "cell_type": "code",
      "execution_count": null,
      "metadata": {
        "id": "v75TsZTE-tkI"
      },
      "outputs": [],
      "source": [
        "y=train_data1['Price']\n",
        "x=train_data1.drop(['Name','Location','Fuel_Type',\n",
        "'Year','Transmission',\n",
        "'Owner_Type','Mileage',\n",
        "'Engine','Power',\n",
        "'Seats','Price',\n",
        "'carCompany','carModel',\n",
        "'carVersion'],axis=1)"
      ]
    },
    {
      "cell_type": "code",
      "execution_count": null,
      "metadata": {
        "id": "QQxqxuoe-tkI"
      },
      "outputs": [],
      "source": [
        "final_test_data=test_data1.drop(['Name','Location','Fuel_Type',\n",
        "'Year','Transmission',\n",
        "'Owner_Type','Mileage',\n",
        "'Engine','Power',\n",
        "'Seats','Price',\n",
        "'carCompany','carModel',\n",
        "'carVersion'],axis=1)"
      ]
    },
    {
      "cell_type": "code",
      "execution_count": null,
      "metadata": {
        "id": "Q--J8Ag5-tkI",
        "outputId": "a0762cf5-004e-4afe-bab2-ff2fccd44e47"
      },
      "outputs": [
        {
          "data": {
            "text/plain": [
              "Index(['Kilometers_Driven', 'cleanEngine', 'cleanPower', 'cleanMileage',\n",
              "       'Transformed_carCompany', 'Transformed_carModel',\n",
              "       'Transformed_Owner_Type', 'Location_Ahmedabad', 'Location_Bangalore',\n",
              "       'Location_Chennai', 'Location_Coimbatore', 'Location_Delhi',\n",
              "       'Location_Hyderabad', 'Location_Jaipur', 'Location_Kochi',\n",
              "       'Location_Kolkata', 'Location_Mumbai', 'Location_Pune', 'Year_1996',\n",
              "       'Year_1998', 'Year_1999', 'Year_2000', 'Year_2001', 'Year_2002',\n",
              "       'Year_2003', 'Year_2004', 'Year_2005', 'Year_2006', 'Year_2007',\n",
              "       'Year_2008', 'Year_2009', 'Year_2010', 'Year_2011', 'Year_2012',\n",
              "       'Year_2013', 'Year_2014', 'Year_2015', 'Year_2016', 'Year_2017',\n",
              "       'Year_2018', 'Year_2019', 'Transmission_Automatic',\n",
              "       'Transmission_Manual', 'mercedes-benz_highend_car', 'audi_highend_car',\n",
              "       'bmw_highend_car', 'landrover_highend_car', 'minicooper_highend_car',\n",
              "       'jaguar_highend_car', 'porsche_highend_car', 'ford_highend_car',\n",
              "       'toyota_highend_car', 'bentley_highend_car', 'lamborghini_highend_car',\n",
              "       'Below_2000', '2000_2005', '2005_2010', '2010_2015', '2015_above'],\n",
              "      dtype='object')"
            ]
          },
          "execution_count": 88,
          "metadata": {},
          "output_type": "execute_result"
        }
      ],
      "source": [
        "x.columns"
      ]
    },
    {
      "cell_type": "markdown",
      "metadata": {
        "id": "3WLmCUD1-tkI"
      },
      "source": [
        "### Train Test Split"
      ]
    },
    {
      "cell_type": "code",
      "execution_count": null,
      "metadata": {
        "id": "kXpiCPh2-tkI",
        "outputId": "9133b405-58c4-46e0-fccc-8f74dae07daf"
      },
      "outputs": [
        {
          "name": "stdout",
          "output_type": "stream",
          "text": [
            "Train set: (4514, 59) (4514,)\n",
            "Test set: (1505, 59) (1505,)\n"
          ]
        }
      ],
      "source": [
        "from sklearn.model_selection import train_test_split\n",
        "x_train,x_test,y_train,y_test = train_test_split(x,y,test_size=0.25)\n",
        "print ('Train set:', x_train.shape,  y_train.shape)\n",
        "print ('Test set:', x_test.shape,  y_test.shape)"
      ]
    },
    {
      "cell_type": "markdown",
      "metadata": {
        "id": "fEwTlKDV-tkI"
      },
      "source": [
        "### Random Forest Regressor"
      ]
    },
    {
      "cell_type": "code",
      "execution_count": null,
      "metadata": {
        "id": "rFa1jMog-tkI",
        "outputId": "23245082-9735-47c7-bba2-8e5d608efab6"
      },
      "outputs": [
        {
          "name": "stderr",
          "output_type": "stream",
          "text": [
            "C:\\Users\\PREM\\anaconda3\\lib\\site-packages\\sklearn\\model_selection\\_search.py:281: UserWarning: The total space of parameters 7 is smaller than n_iter=10. Running 7 iterations. For exhaustive searches, use GridSearchCV.\n",
            "  % (grid_size, self.n_iter, grid_size), UserWarning)\n"
          ]
        }
      ],
      "source": [
        "from sklearn.model_selection  import RandomizedSearchCV\n",
        "from sklearn.linear_model import Lasso\n",
        "C = [0.001, 0.01,0.1,1,10,100,1000]\n",
        "param_grid=dict(alpha=C)\n",
        "clf=RandomizedSearchCV(Lasso(), param_grid, random_state=1, cv=5, verbose=0, scoring='neg_mean_squared_error')\n",
        "best_model = clf.fit(x_train,y_train)"
      ]
    },
    {
      "cell_type": "code",
      "execution_count": null,
      "metadata": {
        "id": "nsDZ9pqE-tkI",
        "outputId": "ca2c46fe-3e92-4bb7-9e24-4c324bfd9ecf"
      },
      "outputs": [
        {
          "data": {
            "text/plain": [
              "Lasso(alpha=0.001, copy_X=True, fit_intercept=True, max_iter=1000,\n",
              "      normalize=False, positive=False, precompute=False, random_state=None,\n",
              "      selection='cyclic', tol=0.0001, warm_start=False)"
            ]
          },
          "execution_count": 91,
          "metadata": {},
          "output_type": "execute_result"
        }
      ],
      "source": [
        "clf1=Lasso(alpha=0.001)\n",
        "clf1.fit(x_train,y_train)"
      ]
    },
    {
      "cell_type": "code",
      "execution_count": null,
      "metadata": {
        "id": "Qa9nzgue-tkI"
      },
      "outputs": [],
      "source": [
        "from sklearn.ensemble import RandomForestRegressor\n",
        "from sklearn.model_selection  import RandomizedSearchCV\n",
        "import numpy as np\n",
        "hp = dict(n_estimators=[1, 2, 4, 8, 16, 32, 64, 100, 200],max_depth=np.linspace(1, 32, 32, endpoint=True)) #hyper parameters\n",
        "clf=RandomizedSearchCV(RandomForestRegressor(),hp,random_state=1,cv=5,verbose=0,scoring='neg_mean_squared_error')\n",
        "best_model = clf.fit(x_train,y_train)"
      ]
    },
    {
      "cell_type": "code",
      "execution_count": null,
      "metadata": {
        "id": "19An_vef-tkI",
        "outputId": "d3f3eba4-12fa-4d8c-f155-c3e69f43a85e"
      },
      "outputs": [
        {
          "data": {
            "text/plain": [
              "{'n_estimators': 200, 'max_depth': 32.0}"
            ]
          },
          "execution_count": 93,
          "metadata": {},
          "output_type": "execute_result"
        }
      ],
      "source": [
        "best_model.best_params_"
      ]
    },
    {
      "cell_type": "code",
      "execution_count": null,
      "metadata": {
        "id": "Jg_SSfdQ-tkJ",
        "outputId": "f77175e0-d205-4b2a-a8e1-a784e0300e58"
      },
      "outputs": [
        {
          "data": {
            "text/plain": [
              "RandomForestRegressor(bootstrap=True, ccp_alpha=0.0, criterion='mse',\n",
              "                      max_depth=21.0, max_features='auto', max_leaf_nodes=None,\n",
              "                      max_samples=None, min_impurity_decrease=0.0,\n",
              "                      min_impurity_split=None, min_samples_leaf=0.1,\n",
              "                      min_samples_split=0.1, min_weight_fraction_leaf=0.0,\n",
              "                      n_estimators=32, n_jobs=None, oob_score=False,\n",
              "                      random_state=None, verbose=0, warm_start=False)"
            ]
          },
          "execution_count": 94,
          "metadata": {},
          "output_type": "execute_result"
        }
      ],
      "source": [
        "clf1 = RandomForestRegressor(n_estimators=32,min_samples_split=0.1,\n",
        "min_samples_leaf=0.1,max_depth=21.0)\n",
        "clf1.fit(x_train,y_train)"
      ]
    },
    {
      "cell_type": "code",
      "execution_count": null,
      "metadata": {
        "id": "qRhIGnj7-tkJ"
      },
      "outputs": [],
      "source": [
        "y_hat = best_model.predict(x_test)"
      ]
    },
    {
      "cell_type": "markdown",
      "metadata": {
        "id": "h484DKMh-tkJ"
      },
      "source": [
        "### R2 Score"
      ]
    },
    {
      "cell_type": "code",
      "execution_count": null,
      "metadata": {
        "id": "kihcxx1u-tkJ",
        "outputId": "d6c630f3-2c0a-4e4a-ce25-8b522fac5991"
      },
      "outputs": [
        {
          "data": {
            "text/plain": [
              "0.8736654789413342"
            ]
          },
          "execution_count": 96,
          "metadata": {},
          "output_type": "execute_result"
        }
      ],
      "source": [
        "from sklearn.metrics import r2_score\n",
        "r2_score(y_test,y_hat)"
      ]
    },
    {
      "cell_type": "code",
      "execution_count": null,
      "metadata": {
        "id": "OAtk6UvF-tkJ",
        "outputId": "69f183e8-870e-459d-c25e-fb8acfdfe515"
      },
      "outputs": [
        {
          "name": "stdout",
          "output_type": "stream",
          "text": [
            "RMS 4.094653092190653 R2 Score:  0.8736654789413342\n"
          ]
        }
      ],
      "source": [
        "from sklearn.metrics import r2_score\n",
        "from sklearn.metrics import mean_squared_error\n",
        "from math import sqrt\n",
        "rms=sqrt(mean_squared_error(y_test,y_hat))\n",
        "print('RMS',rms,'R2 Score: ',r2_score(y_test,y_hat))"
      ]
    },
    {
      "cell_type": "code",
      "execution_count": null,
      "metadata": {
        "id": "MfwpBric-tkJ",
        "outputId": "2b533496-5b51-4221-9ab1-7a78aa3ba4e3"
      },
      "outputs": [
        {
          "data": {
            "text/plain": [
              "Index(['Kilometers_Driven', 'cleanEngine', 'cleanPower', 'cleanMileage',\n",
              "       'Transformed_carCompany', 'Transformed_carModel',\n",
              "       'Transformed_Owner_Type', 'Location_Ahmedabad', 'Location_Bangalore',\n",
              "       'Location_Chennai', 'Location_Coimbatore', 'Location_Delhi',\n",
              "       'Location_Hyderabad', 'Location_Jaipur', 'Location_Kochi',\n",
              "       'Location_Kolkata', 'Location_Mumbai', 'Location_Pune', 'Year_1996',\n",
              "       'Year_1998', 'Year_1999', 'Year_2000', 'Year_2001', 'Year_2002',\n",
              "       'Year_2003', 'Year_2004', 'Year_2005', 'Year_2006', 'Year_2007',\n",
              "       'Year_2008', 'Year_2009', 'Year_2010', 'Year_2011', 'Year_2012',\n",
              "       'Year_2013', 'Year_2014', 'Year_2015', 'Year_2016', 'Year_2017',\n",
              "       'Year_2018', 'Year_2019', 'Transmission_Automatic',\n",
              "       'Transmission_Manual', 'mercedes-benz_highend_car', 'audi_highend_car',\n",
              "       'bmw_highend_car', 'landrover_highend_car', 'minicooper_highend_car',\n",
              "       'jaguar_highend_car', 'porsche_highend_car', 'ford_highend_car',\n",
              "       'toyota_highend_car', 'bentley_highend_car', 'lamborghini_highend_car',\n",
              "       'Below_2000', '2000_2005', '2005_2010', '2010_2015', '2015_above'],\n",
              "      dtype='object')"
            ]
          },
          "execution_count": 98,
          "metadata": {},
          "output_type": "execute_result"
        }
      ],
      "source": [
        "x_train.columns"
      ]
    },
    {
      "cell_type": "code",
      "execution_count": null,
      "metadata": {
        "id": "UAwkdL_X-tkJ",
        "outputId": "d087c5bf-2cf4-4d7e-e2e5-d429acd91166"
      },
      "outputs": [
        {
          "data": {
            "text/plain": [
              "array([0.00000000e+00, 7.46727551e-05, 9.91026995e-01, 0.00000000e+00,\n",
              "       0.00000000e+00, 0.00000000e+00, 0.00000000e+00, 0.00000000e+00,\n",
              "       0.00000000e+00, 0.00000000e+00, 0.00000000e+00, 0.00000000e+00,\n",
              "       0.00000000e+00, 0.00000000e+00, 0.00000000e+00, 0.00000000e+00,\n",
              "       0.00000000e+00, 0.00000000e+00, 0.00000000e+00, 0.00000000e+00,\n",
              "       0.00000000e+00, 0.00000000e+00, 0.00000000e+00, 0.00000000e+00,\n",
              "       0.00000000e+00, 0.00000000e+00, 0.00000000e+00, 0.00000000e+00,\n",
              "       0.00000000e+00, 0.00000000e+00, 0.00000000e+00, 0.00000000e+00,\n",
              "       0.00000000e+00, 0.00000000e+00, 0.00000000e+00, 0.00000000e+00,\n",
              "       0.00000000e+00, 0.00000000e+00, 0.00000000e+00, 0.00000000e+00,\n",
              "       0.00000000e+00, 0.00000000e+00, 0.00000000e+00, 0.00000000e+00,\n",
              "       0.00000000e+00, 0.00000000e+00, 0.00000000e+00, 0.00000000e+00,\n",
              "       0.00000000e+00, 0.00000000e+00, 0.00000000e+00, 0.00000000e+00,\n",
              "       0.00000000e+00, 0.00000000e+00, 0.00000000e+00, 0.00000000e+00,\n",
              "       0.00000000e+00, 0.00000000e+00, 8.89833243e-03])"
            ]
          },
          "execution_count": 99,
          "metadata": {},
          "output_type": "execute_result"
        }
      ],
      "source": [
        "clf1.feature_importances_"
      ]
    },
    {
      "cell_type": "markdown",
      "metadata": {
        "id": "ScHVUTAf-tkJ"
      },
      "source": [
        "### Linear Regression"
      ]
    },
    {
      "cell_type": "code",
      "execution_count": null,
      "metadata": {
        "id": "Nh1haZk8-tkJ",
        "outputId": "903da1ef-3b50-4a77-8f33-db8e79d1a887"
      },
      "outputs": [
        {
          "data": {
            "text/plain": [
              "LinearRegression(copy_X=True, fit_intercept=True, n_jobs=None, normalize=False)"
            ]
          },
          "execution_count": 100,
          "metadata": {},
          "output_type": "execute_result"
        }
      ],
      "source": [
        "from sklearn.linear_model import LinearRegression\n",
        "from sklearn.metrics import confusion_matrix\n",
        "lr = LinearRegression().fit(x_train,y_train)\n",
        "lr"
      ]
    },
    {
      "cell_type": "code",
      "execution_count": null,
      "metadata": {
        "id": "beUmfkOk-tkJ",
        "outputId": "1757ced8-f2d8-4170-d34e-1c88cdb3296b"
      },
      "outputs": [
        {
          "data": {
            "text/html": [
              "<div>\n",
              "<style scoped>\n",
              "    .dataframe tbody tr th:only-of-type {\n",
              "        vertical-align: middle;\n",
              "    }\n",
              "\n",
              "    .dataframe tbody tr th {\n",
              "        vertical-align: top;\n",
              "    }\n",
              "\n",
              "    .dataframe thead th {\n",
              "        text-align: right;\n",
              "    }\n",
              "</style>\n",
              "<table border=\"1\" class=\"dataframe\">\n",
              "  <thead>\n",
              "    <tr style=\"text-align: right;\">\n",
              "      <th></th>\n",
              "      <th>actual</th>\n",
              "      <th>predicted</th>\n",
              "    </tr>\n",
              "  </thead>\n",
              "  <tbody>\n",
              "    <tr>\n",
              "      <th>0</th>\n",
              "      <td>0.91</td>\n",
              "      <td>-2.008472</td>\n",
              "    </tr>\n",
              "    <tr>\n",
              "      <th>1</th>\n",
              "      <td>6.25</td>\n",
              "      <td>8.374796</td>\n",
              "    </tr>\n",
              "    <tr>\n",
              "      <th>2</th>\n",
              "      <td>13.95</td>\n",
              "      <td>20.842632</td>\n",
              "    </tr>\n",
              "    <tr>\n",
              "      <th>3</th>\n",
              "      <td>2.65</td>\n",
              "      <td>-2.548686</td>\n",
              "    </tr>\n",
              "    <tr>\n",
              "      <th>4</th>\n",
              "      <td>6.00</td>\n",
              "      <td>14.931103</td>\n",
              "    </tr>\n",
              "  </tbody>\n",
              "</table>\n",
              "</div>"
            ],
            "text/plain": [
              "   actual  predicted\n",
              "0    0.91  -2.008472\n",
              "1    6.25   8.374796\n",
              "2   13.95  20.842632\n",
              "3    2.65  -2.548686\n",
              "4    6.00  14.931103"
            ]
          },
          "execution_count": 101,
          "metadata": {},
          "output_type": "execute_result"
        }
      ],
      "source": [
        "y_pred_test = lr.predict(x_test)\n",
        "data_pred_test = pd.DataFrame(zip(y_test,y_pred_test),columns=['actual','predicted'])\n",
        "data_pred_test.head()"
      ]
    },
    {
      "cell_type": "code",
      "execution_count": null,
      "metadata": {
        "id": "q10JfdjV-tkK",
        "outputId": "d7616cee-c144-4401-e878-814cfdd8ba11"
      },
      "outputs": [
        {
          "name": "stdout",
          "output_type": "stream",
          "text": [
            "-8.64952208570548\n",
            "[-1.50539787e+02  1.32309953e-03  1.31647413e-01  6.11105744e-02\n",
            " -6.77746257e-03  4.43424420e-03 -1.49239727e-01 -1.68915430e-01\n",
            "  2.05664846e+00  3.10318154e-01  9.40560391e-01 -4.27247938e-01\n",
            "  1.79646194e+00  4.60972226e-01 -1.23086463e+00 -1.64170947e+00\n",
            " -2.09382010e+00 -2.40359924e-03 -1.77635684e-15  7.42102824e-01\n",
            "  2.90374599e-01  2.30052134e+00  5.74629630e-01  1.36028705e+00\n",
            "  3.02244706e+00 -1.12720042e+00 -2.29750205e+00 -1.32775433e+00\n",
            " -2.16655970e+00 -2.90213705e+00 -2.92459176e+00 -1.80600414e+00\n",
            " -1.23879132e+00  6.59169275e-02  9.97016975e-01  1.91140788e+00\n",
            " -1.12833872e+00 -5.55724866e-01  7.63611589e-01  2.05738656e+00\n",
            "  3.38890192e+00  1.56101825e+00 -1.56101825e+00  0.00000000e+00\n",
            "  0.00000000e+00  0.00000000e+00  0.00000000e+00  0.00000000e+00\n",
            "  0.00000000e+00  0.00000000e+00  0.00000000e+00  0.00000000e+00\n",
            "  0.00000000e+00  0.00000000e+00  1.03247742e+00  0.00000000e+00\n",
            "  0.00000000e+00  0.00000000e+00  4.52583649e+00]\n"
          ]
        }
      ],
      "source": [
        "print(lr.intercept_)\n",
        "print(lr.coef_)"
      ]
    },
    {
      "cell_type": "code",
      "execution_count": null,
      "metadata": {
        "id": "AnNXAmk1-tkK",
        "outputId": "49498ee6-3a67-416d-b542-717e34a3e312"
      },
      "outputs": [
        {
          "data": {
            "text/plain": [
              "array([-2.00847199,  8.3747959 , 20.84263151, ..., 15.41986595,\n",
              "        6.11951577,  6.20348286])"
            ]
          },
          "execution_count": 103,
          "metadata": {},
          "output_type": "execute_result"
        }
      ],
      "source": [
        "yhat = lr.predict(x_test)\n",
        "yhat"
      ]
    },
    {
      "cell_type": "code",
      "execution_count": null,
      "metadata": {
        "id": "PSvuuNNx-tkK",
        "outputId": "0a219352-1dad-436d-b6d0-8b53f8fb6403"
      },
      "outputs": [
        {
          "name": "stdout",
          "output_type": "stream",
          "text": [
            "Mean Absolute Error: 4.108783551270721\n",
            "Mean Squared Error: 64.43769823489596\n"
          ]
        }
      ],
      "source": [
        "from sklearn import metrics\n",
        "from sklearn.metrics import r2_score\n",
        "from math import sqrt\n",
        "print('Mean Absolute Error:', metrics.mean_absolute_error(y_test, yhat))  \n",
        "print('Mean Squared Error:', metrics.mean_squared_error(y_test, yhat)) "
      ]
    },
    {
      "cell_type": "code",
      "execution_count": null,
      "metadata": {
        "id": "nsWIm0sV-tkK",
        "outputId": "0b5b86cc-8892-4544-8af5-b0b1dbb63a42"
      },
      "outputs": [
        {
          "data": {
            "text/html": [
              "<div>\n",
              "<style scoped>\n",
              "    .dataframe tbody tr th:only-of-type {\n",
              "        vertical-align: middle;\n",
              "    }\n",
              "\n",
              "    .dataframe tbody tr th {\n",
              "        vertical-align: top;\n",
              "    }\n",
              "\n",
              "    .dataframe thead th {\n",
              "        text-align: right;\n",
              "    }\n",
              "</style>\n",
              "<table border=\"1\" class=\"dataframe\">\n",
              "  <thead>\n",
              "    <tr style=\"text-align: right;\">\n",
              "      <th></th>\n",
              "      <th>Actual</th>\n",
              "      <th>Predicted</th>\n",
              "    </tr>\n",
              "  </thead>\n",
              "  <tbody>\n",
              "    <tr>\n",
              "      <th>4957</th>\n",
              "      <td>0.91</td>\n",
              "      <td>-2.008472</td>\n",
              "    </tr>\n",
              "    <tr>\n",
              "      <th>1814</th>\n",
              "      <td>6.25</td>\n",
              "      <td>8.374796</td>\n",
              "    </tr>\n",
              "    <tr>\n",
              "      <th>1320</th>\n",
              "      <td>13.95</td>\n",
              "      <td>20.842632</td>\n",
              "    </tr>\n",
              "    <tr>\n",
              "      <th>240</th>\n",
              "      <td>2.65</td>\n",
              "      <td>-2.548686</td>\n",
              "    </tr>\n",
              "    <tr>\n",
              "      <th>2480</th>\n",
              "      <td>6.00</td>\n",
              "      <td>14.931103</td>\n",
              "    </tr>\n",
              "    <tr>\n",
              "      <th>2567</th>\n",
              "      <td>3.12</td>\n",
              "      <td>0.229283</td>\n",
              "    </tr>\n",
              "    <tr>\n",
              "      <th>1742</th>\n",
              "      <td>6.10</td>\n",
              "      <td>6.585043</td>\n",
              "    </tr>\n",
              "    <tr>\n",
              "      <th>1386</th>\n",
              "      <td>45.86</td>\n",
              "      <td>27.904475</td>\n",
              "    </tr>\n",
              "    <tr>\n",
              "      <th>1596</th>\n",
              "      <td>11.99</td>\n",
              "      <td>27.466623</td>\n",
              "    </tr>\n",
              "    <tr>\n",
              "      <th>4988</th>\n",
              "      <td>48.00</td>\n",
              "      <td>38.041180</td>\n",
              "    </tr>\n",
              "  </tbody>\n",
              "</table>\n",
              "</div>"
            ],
            "text/plain": [
              "      Actual  Predicted\n",
              "4957    0.91  -2.008472\n",
              "1814    6.25   8.374796\n",
              "1320   13.95  20.842632\n",
              "240     2.65  -2.548686\n",
              "2480    6.00  14.931103\n",
              "2567    3.12   0.229283\n",
              "1742    6.10   6.585043\n",
              "1386   45.86  27.904475\n",
              "1596   11.99  27.466623\n",
              "4988   48.00  38.041180"
            ]
          },
          "execution_count": 105,
          "metadata": {},
          "output_type": "execute_result"
        }
      ],
      "source": [
        "df = pd.DataFrame({'Actual': y_test, 'Predicted': yhat})\n",
        "df.head(10)"
      ]
    },
    {
      "cell_type": "code",
      "execution_count": null,
      "metadata": {
        "id": "DOzfk5fa-tkK",
        "outputId": "6da5955e-838d-4568-f5b8-96d1c70cd2f2"
      },
      "outputs": [
        {
          "data": {
            "image/png": "[encoded data removed]",
            "text/plain": [
              "<Figure size 1152x720 with 1 Axes>"
            ]
          },
          "metadata": {
            "needs_background": "light"
          },
          "output_type": "display_data"
        }
      ],
      "source": [
        "df1 = df.head(25)\n",
        "df1.plot(kind='bar',figsize=(16,10))\n",
        "plt.grid(which='major', linestyle='-', linewidth='0.5', color='green')\n",
        "plt.grid(which='minor', linestyle=':', linewidth='0.5', color='black')\n",
        "plt.show()"
      ]
    },
    {
      "cell_type": "code",
      "execution_count": null,
      "metadata": {
        "id": "WyGyfkq_-tkK",
        "outputId": "d5708e0f-e552-4f5c-f03a-2912b74bf1ce"
      },
      "outputs": [
        {
          "name": "stdout",
          "output_type": "stream",
          "text": [
            " Train Score is 0.7070773810773119\n"
          ]
        }
      ],
      "source": [
        "print (f' Train Score is {lr.score(x_train, y_train)}')"
      ]
    },
    {
      "cell_type": "code",
      "execution_count": null,
      "metadata": {
        "id": "aGsPFE2M-tkK",
        "outputId": "09920189-6621-4bae-f756-41fd57074b59"
      },
      "outputs": [
        {
          "name": "stdout",
          "output_type": "stream",
          "text": [
            " Test Score is 0.5144568512939118\n"
          ]
        }
      ],
      "source": [
        "print (f' Test Score is {lr.score(x_test, y_test)}')"
      ]
    },
    {
      "cell_type": "markdown",
      "metadata": {
        "id": "mThVjRLn-tkK"
      },
      "source": [
        "### Applying Gradient Boosting"
      ]
    },
    {
      "cell_type": "code",
      "execution_count": null,
      "metadata": {
        "id": "LVohk0tB-tkL",
        "outputId": "3304ad28-8ad3-46a9-b6ca-3d8da71d9642"
      },
      "outputs": [
        {
          "name": "stdout",
          "output_type": "stream",
          "text": [
            "Accuracy:0.896\n"
          ]
        }
      ],
      "source": [
        "from sklearn.ensemble import GradientBoostingRegressor\n",
        "xTrain, xTest, yTrain, yTest = train_test_split(x, y,train_size = 0.75)\n",
        "\n",
        "gb = GradientBoostingRegressor(n_estimators=100, learning_rate=0.1, max_depth=10, random_state=0, loss='huber')\n",
        "gb = gb.fit(xTrain, yTrain)\n",
        "y_pred = gb.predict(xTest)\n",
        "print(\"Accuracy:{0:.3f}\".format(gb.score( xTest,yTest)))"
      ]
    },
    {
      "cell_type": "code",
      "execution_count": null,
      "metadata": {
        "id": "Her8zPeQ-tkL",
        "outputId": "3a23dbd0-a2b9-49aa-afdc-e3f2f49a8a0f"
      },
      "outputs": [
        {
          "name": "stdout",
          "output_type": "stream",
          "text": [
            " Train Score is 0.6526403374233456\n",
            " Test Score is 0.6695207092912119\n"
          ]
        }
      ],
      "source": [
        "print (f' Train Score is {lr.score(xTrain, yTrain)}')\n",
        "print (f' Test Score is {lr.score(xTest, yTest)}')"
      ]
    },
    {
      "cell_type": "code",
      "execution_count": null,
      "metadata": {
        "id": "szZ9kJ8v-tkL",
        "outputId": "4a7ce4a1-2e20-4e49-a894-80690b90d01b"
      },
      "outputs": [
        {
          "data": {
            "text/html": [
              "<div>\n",
              "<style scoped>\n",
              "    .dataframe tbody tr th:only-of-type {\n",
              "        vertical-align: middle;\n",
              "    }\n",
              "\n",
              "    .dataframe tbody tr th {\n",
              "        vertical-align: top;\n",
              "    }\n",
              "\n",
              "    .dataframe thead th {\n",
              "        text-align: right;\n",
              "    }\n",
              "</style>\n",
              "<table border=\"1\" class=\"dataframe\">\n",
              "  <thead>\n",
              "    <tr style=\"text-align: right;\">\n",
              "      <th></th>\n",
              "      <th>Actual</th>\n",
              "      <th>Predicted</th>\n",
              "    </tr>\n",
              "  </thead>\n",
              "  <tbody>\n",
              "    <tr>\n",
              "      <th>4766</th>\n",
              "      <td>4.90</td>\n",
              "      <td>4.984214</td>\n",
              "    </tr>\n",
              "    <tr>\n",
              "      <th>6017</th>\n",
              "      <td>2.65</td>\n",
              "      <td>2.352364</td>\n",
              "    </tr>\n",
              "    <tr>\n",
              "      <th>422</th>\n",
              "      <td>2.25</td>\n",
              "      <td>2.207237</td>\n",
              "    </tr>\n",
              "    <tr>\n",
              "      <th>5339</th>\n",
              "      <td>8.60</td>\n",
              "      <td>6.683860</td>\n",
              "    </tr>\n",
              "    <tr>\n",
              "      <th>4967</th>\n",
              "      <td>2.75</td>\n",
              "      <td>3.003270</td>\n",
              "    </tr>\n",
              "    <tr>\n",
              "      <th>4852</th>\n",
              "      <td>1.90</td>\n",
              "      <td>2.306577</td>\n",
              "    </tr>\n",
              "    <tr>\n",
              "      <th>5712</th>\n",
              "      <td>1.25</td>\n",
              "      <td>1.451829</td>\n",
              "    </tr>\n",
              "    <tr>\n",
              "      <th>2204</th>\n",
              "      <td>10.00</td>\n",
              "      <td>12.881703</td>\n",
              "    </tr>\n",
              "    <tr>\n",
              "      <th>4456</th>\n",
              "      <td>1.11</td>\n",
              "      <td>1.435096</td>\n",
              "    </tr>\n",
              "    <tr>\n",
              "      <th>3365</th>\n",
              "      <td>6.20</td>\n",
              "      <td>7.089828</td>\n",
              "    </tr>\n",
              "  </tbody>\n",
              "</table>\n",
              "</div>"
            ],
            "text/plain": [
              "      Actual  Predicted\n",
              "4766    4.90   4.984214\n",
              "6017    2.65   2.352364\n",
              "422     2.25   2.207237\n",
              "5339    8.60   6.683860\n",
              "4967    2.75   3.003270\n",
              "4852    1.90   2.306577\n",
              "5712    1.25   1.451829\n",
              "2204   10.00  12.881703\n",
              "4456    1.11   1.435096\n",
              "3365    6.20   7.089828"
            ]
          },
          "execution_count": 111,
          "metadata": {},
          "output_type": "execute_result"
        }
      ],
      "source": [
        "df = pd.DataFrame({'Actual': yTest, 'Predicted': y_pred})\n",
        "df.head(10)"
      ]
    },
    {
      "cell_type": "code",
      "execution_count": null,
      "metadata": {
        "id": "NvPRqhDr-tkL",
        "outputId": "004d2deb-a431-481d-b000-8788c5518a2e"
      },
      "outputs": [
        {
          "data": {
            "image/png": "[encoded data removed]",
            "text/plain": [
              "<Figure size 720x576 with 1 Axes>"
            ]
          },
          "metadata": {
            "needs_background": "light"
          },
          "output_type": "display_data"
        }
      ],
      "source": [
        "df1=df.head(25)\n",
        "df1.plot(kind='bar',figsize=(10,8))\n",
        "plt.grid(which='major', linestyle='-', linewidth='0.5', color='green')\n",
        "plt.grid(which='minor', linestyle=':', linewidth='0.5', color='black')\n",
        "plt.show()"
      ]
    },
    {
      "cell_type": "code",
      "execution_count": null,
      "metadata": {
        "id": "nNL9YDbj-tkL",
        "outputId": "2a9bd96a-7755-4074-feb3-099a60e2f81f"
      },
      "outputs": [
        {
          "data": {
            "text/plain": [
              "<matplotlib.legend.Legend at 0x2146962c208>"
            ]
          },
          "execution_count": 113,
          "metadata": {},
          "output_type": "execute_result"
        },
        {
          "data": {
            "image/png": "[encoded data removed]",
            "text/plain": [
              "<Figure size 720x360 with 1 Axes>"
            ]
          },
          "metadata": {
            "needs_background": "light"
          },
          "output_type": "display_data"
        }
      ],
      "source": [
        "%matplotlib inline \n",
        "import matplotlib.pyplot as plt\n",
        "plt.figure(figsize=(10,5))\n",
        "plt.scatter(data_pred_test.index,data_pred_test.actual,label=\"actual\")\n",
        "plt.scatter(data_pred_test.index,data_pred_test.predicted,label=\"predicted\")\n",
        "plt.legend()"
      ]
    },
    {
      "cell_type": "code",
      "execution_count": null,
      "metadata": {
        "id": "zM8pyHeP-tkL"
      },
      "outputs": [],
      "source": [
        "y_pred=gb.predict(final_test_data)"
      ]
    },
    {
      "cell_type": "code",
      "execution_count": null,
      "metadata": {
        "id": "ecloOgSU-tkL"
      },
      "outputs": [],
      "source": [
        "pd.DataFrame(y_pred).to_excel('Test_Data_Predications1.xlsx')"
      ]
    },
    {
      "cell_type": "markdown",
      "metadata": {
        "id": "uiCfiEjN-tkL"
      },
      "source": [
        "### XGBoost Regressor"
      ]
    },
    {
      "cell_type": "code",
      "execution_count": null,
      "metadata": {
        "id": "SXy3Uq5D-tkL",
        "outputId": "9224537f-340f-4f13-c4c1-1a4ac67fecde"
      },
      "outputs": [
        {
          "data": {
            "text/plain": [
              "XGBRegressor(base_score=0.5, booster='gbtree', colsample_bylevel=1,\n",
              "             colsample_bynode=1, colsample_bytree=0.8, gamma=0.3, gpu_id=-1,\n",
              "             importance_type='gain', interaction_constraints='',\n",
              "             learning_rate=0.1, max_delta_step=0, max_depth=5,\n",
              "             min_child_weight=10, missing=nan, monotone_constraints='()',\n",
              "             n_estimators=200, n_jobs=0, num_parallel_tree=1,\n",
              "             objective='reg:squarederror', random_state=0, reg_alpha=0.001,\n",
              "             reg_lambda=0.001, scale_pos_weight=1, subsample=0.95,\n",
              "             tree_method='exact', validate_parameters=1, verbosity=None)"
            ]
          },
          "execution_count": 116,
          "metadata": {},
          "output_type": "execute_result"
        }
      ],
      "source": [
        "import warnings\n",
        "import xgboost as xgb\n",
        "import csv as csv\n",
        "from xgboost import plot_importance\n",
        "from sklearn.metrics import r2_score\n",
        "from sklearn.metrics import mean_squared_error\n",
        "from math import sqrt\n",
        "from sklearn.model_selection import RandomizedSearchCV\n",
        "import numpy as np\n",
        "warnings.simplefilter(action='ignore',category=FutureWarning)\n",
        "parameters_for_testing = {\n",
        "    'colsample_bytree':[0.4,0.6,0.8],\n",
        "    'gamma':[0,0.03,0.1,0.3],\n",
        "    'min_child_weight':[1.5,6,10],\n",
        "    'learning_rate':[0.1,0.07],\n",
        "    'max_depth':[3,5,7,9],\n",
        "    'n_estimators':[1,2,4,8,16,32,64,100,200],\n",
        "    'reg_alpha':[1e-3,1e-2,0.75],\n",
        "    'reg_lambda':[1e-3,1e-2,0.49],\n",
        "    'subsample':[0.6,0.95]\n",
        "}\n",
        "clf=RandomizedSearchCV(xgb.XGBRegressor(),parameters_for_testing,random_state=1,cv=5,verbose=0,scoring='neg_mean_squared_error')\n",
        "best_model = clf.fit(x_train,y_train)\n",
        "best_xgb_model = xgb.XGBRegressor(colsample_bytree=best_model.best_params_['colsample_bytree'],\n",
        "                 gamma=best_model.best_params_['gamma'],\n",
        "                 learning_rate=best_model.best_params_['learning_rate'],\n",
        "                 max_depth=best_model.best_params_['max_depth'],\n",
        "                 min_child_weight=best_model.best_params_['min_child_weight'],\n",
        "                 n_estimators=best_model.best_params_['n_estimators'],\n",
        "                 reg_alpha=best_model.best_params_['reg_alpha'],\n",
        "                 reg_lambda=best_model.best_params_['reg_lambda'],\n",
        "                 subsample=best_model.best_params_['subsample'])\n",
        "best_xgb_model.fit(x_train,y_train)"
      ]
    },
    {
      "cell_type": "code",
      "execution_count": null,
      "metadata": {
        "id": "IKUw6UAn-tkM",
        "outputId": "3ac874ae-f593-4fef-9986-7e954f0ff51e"
      },
      "outputs": [
        {
          "name": "stdout",
          "output_type": "stream",
          "text": [
            "RMS 3.581305436014863 R2 Score:  0.903356970484977\n"
          ]
        }
      ],
      "source": [
        "y_hat = best_xgb_model.predict(x_test)\n",
        "from sklearn.metrics import r2_score\n",
        "from sklearn.metrics import mean_squared_error\n",
        "from math import sqrt\n",
        "rms=sqrt(mean_squared_error(y_test,y_hat))\n",
        "print('RMS',rms,'R2 Score: ',r2_score(y_test,y_hat))"
      ]
    },
    {
      "cell_type": "code",
      "execution_count": null,
      "metadata": {
        "id": "XoQlg5Pi-tkM",
        "outputId": "9ac88f15-8980-47c0-9272-d30c68a86804"
      },
      "outputs": [
        {
          "data": {
            "text/plain": [
              "<matplotlib.axes._subplots.AxesSubplot at 0x21469ca3b48>"
            ]
          },
          "execution_count": 118,
          "metadata": {},
          "output_type": "execute_result"
        },
        {
          "data": {
            "image/png": "[encoded data removed]",
            "text/plain": [
              "<Figure size 720x1440 with 1 Axes>"
            ]
          },
          "metadata": {
            "needs_background": "light"
          },
          "output_type": "display_data"
        }
      ],
      "source": [
        "plt.rcParams[\"figure.figsize\"] = [10,20]\n",
        "xgb.plot_importance(best_xgb_model,height=0.4)"
      ]
    },
    {
      "cell_type": "code",
      "execution_count": null,
      "metadata": {
        "id": "VrMQQW_I-tkM",
        "outputId": "c34ad552-52e8-44ab-ccb3-944e34715e90"
      },
      "outputs": [
        {
          "data": {
            "text/html": [
              "<div>\n",
              "<style scoped>\n",
              "    .dataframe tbody tr th:only-of-type {\n",
              "        vertical-align: middle;\n",
              "    }\n",
              "\n",
              "    .dataframe tbody tr th {\n",
              "        vertical-align: top;\n",
              "    }\n",
              "\n",
              "    .dataframe thead th {\n",
              "        text-align: right;\n",
              "    }\n",
              "</style>\n",
              "<table border=\"1\" class=\"dataframe\">\n",
              "  <thead>\n",
              "    <tr style=\"text-align: right;\">\n",
              "      <th></th>\n",
              "      <th>Actual</th>\n",
              "      <th>Predicted</th>\n",
              "    </tr>\n",
              "  </thead>\n",
              "  <tbody>\n",
              "    <tr>\n",
              "      <th>4957</th>\n",
              "      <td>0.91</td>\n",
              "      <td>1.802889</td>\n",
              "    </tr>\n",
              "    <tr>\n",
              "      <th>1814</th>\n",
              "      <td>6.25</td>\n",
              "      <td>5.463985</td>\n",
              "    </tr>\n",
              "    <tr>\n",
              "      <th>1320</th>\n",
              "      <td>13.95</td>\n",
              "      <td>17.560972</td>\n",
              "    </tr>\n",
              "    <tr>\n",
              "      <th>240</th>\n",
              "      <td>2.65</td>\n",
              "      <td>2.664686</td>\n",
              "    </tr>\n",
              "    <tr>\n",
              "      <th>2480</th>\n",
              "      <td>6.00</td>\n",
              "      <td>5.278571</td>\n",
              "    </tr>\n",
              "    <tr>\n",
              "      <th>2567</th>\n",
              "      <td>3.12</td>\n",
              "      <td>2.950059</td>\n",
              "    </tr>\n",
              "    <tr>\n",
              "      <th>1742</th>\n",
              "      <td>6.10</td>\n",
              "      <td>6.137658</td>\n",
              "    </tr>\n",
              "    <tr>\n",
              "      <th>1386</th>\n",
              "      <td>45.86</td>\n",
              "      <td>32.863743</td>\n",
              "    </tr>\n",
              "    <tr>\n",
              "      <th>1596</th>\n",
              "      <td>11.99</td>\n",
              "      <td>23.193996</td>\n",
              "    </tr>\n",
              "    <tr>\n",
              "      <th>4988</th>\n",
              "      <td>48.00</td>\n",
              "      <td>56.819523</td>\n",
              "    </tr>\n",
              "  </tbody>\n",
              "</table>\n",
              "</div>"
            ],
            "text/plain": [
              "      Actual  Predicted\n",
              "4957    0.91   1.802889\n",
              "1814    6.25   5.463985\n",
              "1320   13.95  17.560972\n",
              "240     2.65   2.664686\n",
              "2480    6.00   5.278571\n",
              "2567    3.12   2.950059\n",
              "1742    6.10   6.137658\n",
              "1386   45.86  32.863743\n",
              "1596   11.99  23.193996\n",
              "4988   48.00  56.819523"
            ]
          },
          "execution_count": 119,
          "metadata": {},
          "output_type": "execute_result"
        }
      ],
      "source": [
        "df = pd.DataFrame({'Actual': y_test, 'Predicted': y_hat})\n",
        "df.head(10)"
      ]
    },
    {
      "cell_type": "code",
      "execution_count": null,
      "metadata": {
        "id": "qUbhsS7U-tkM",
        "outputId": "75adbf03-b707-4908-97a4-539c8c5972e9"
      },
      "outputs": [
        {
          "data": {
            "image/png": "[encoded data removed]",
            "text/plain": [
              "<Figure size 1152x720 with 1 Axes>"
            ]
          },
          "metadata": {
            "needs_background": "light"
          },
          "output_type": "display_data"
        }
      ],
      "source": [
        "df1 = df.head(25)\n",
        "df1.plot(kind='bar',figsize=(16,10))\n",
        "plt.grid(which='major', linestyle='-', linewidth='0.5', color='green')\n",
        "plt.grid(which='minor', linestyle=':', linewidth='0.5', color='black')\n",
        "plt.show()"
      ]
    },
    {
      "cell_type": "code",
      "execution_count": null,
      "metadata": {
        "id": "ZDbimqM8-tkM",
        "outputId": "ee86820c-cd5d-404f-fda7-cd1a2b06a17d"
      },
      "outputs": [
        {
          "data": {
            "text/plain": [
              "<matplotlib.legend.Legend at 0x2147277d8c8>"
            ]
          },
          "execution_count": 121,
          "metadata": {},
          "output_type": "execute_result"
        },
        {
          "data": {
            "image/png": "[encoded data removed]",
            "text/plain": [
              "<Figure size 720x360 with 1 Axes>"
            ]
          },
          "metadata": {
            "needs_background": "light"
          },
          "output_type": "display_data"
        }
      ],
      "source": [
        "%matplotlib inline \n",
        "import matplotlib.pyplot as plt\n",
        "plt.figure(figsize=(10,5))\n",
        "plt.scatter(data_pred_test.index,data_pred_test.actual,label=\"actual\")\n",
        "plt.scatter(data_pred_test.index,data_pred_test.predicted,label=\"predicted\")\n",
        "plt.legend()"
      ]
    },
    {
      "cell_type": "code",
      "execution_count": null,
      "metadata": {
        "id": "OYzAA1F6-tkM"
      },
      "outputs": [],
      "source": [
        "y_hat=best_xgb_model.predict(final_test_data)"
      ]
    },
    {
      "cell_type": "code",
      "execution_count": null,
      "metadata": {
        "id": "LWo0O6JG-tkM"
      },
      "outputs": [],
      "source": [
        "pd.DataFrame(y_hat).to_excel('Test_Data_Predications2.xlsx')"
      ]
    }
  ],
  "metadata": {
    "kernelspec": {
      "display_name": "Python 3",
      "language": "python",
      "name": "python3"
    },
    "language_info": {
      "codemirror_mode": {
        "name": "ipython",
        "version": 3
      },
      "file_extension": ".py",
      "mimetype": "text/x-python",
      "name": "python",
      "nbconvert_exporter": "python",
      "pygments_lexer": "ipython3",
      "version": "3.7.6"
    },
    "colab": {
      "provenance": []
    }
  },
  "nbformat": 4,
  "nbformat_minor": 0
}